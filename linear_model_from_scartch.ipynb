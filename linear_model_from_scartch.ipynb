{
 "cells": [
  {
   "cell_type": "markdown",
   "id": "ef6e3664",
   "metadata": {
    "papermill": {
     "duration": 0.093171,
     "end_time": "2025-03-24T06:39:39.403873",
     "exception": false,
     "start_time": "2025-03-24T06:39:39.310702",
     "status": "completed"
    },
    "tags": []
   },
   "source": [
    "## Introduction"
   ]
  },
  {
   "cell_type": "markdown",
   "id": "325d0a21",
   "metadata": {
    "papermill": {
     "duration": 0.090005,
     "end_time": "2025-03-24T06:39:39.586033",
     "exception": false,
     "start_time": "2025-03-24T06:39:39.496028",
     "status": "completed"
    },
    "tags": []
   },
   "source": [
    "In this notebook we're going to build and train a deep learning model \"from scratch\" -- by which I mean that we're not going to use any pre-built architecture, or optimizers, or data loading frameworks, etc.\n",
    "\n",
    "We'll be assuming you already know the basics of how a neural network works. If you don't, read this notebook first: [How does a neural net really work?\n",
    "](https://www.kaggle.com/code/jhoward/how-does-a-neural-net-really-work). We'll be using Kaggle's [Titanic](https://www.kaggle.com/competitions/titanic/) competition in this notebook, because it's very small and simple, but also has displays many of the tricky real-life issues that we need to handle in most practical projects. (Note, however, that this competition is a small \"learner\" competition on Kaggle, so don't expect to actually see much benefits from using a neural net just yet; that will come once we try our some real competitions!)\n",
    "\n",
    "It's great to be able to run the same notebook on your own machine or Colab, as well as Kaggle. To allow for this, we use this code to download the data as needed when not on Kaggle (see [this notebook](https://www.kaggle.com/code/jhoward/getting-started-with-nlp-for-absolute-beginners/) for details about this technique):"
   ]
  },
  {
   "cell_type": "code",
   "execution_count": 1,
   "id": "6bc02498",
   "metadata": {
    "execution": {
     "iopub.execute_input": "2025-03-24T06:39:39.769715Z",
     "iopub.status.busy": "2025-03-24T06:39:39.769110Z",
     "iopub.status.idle": "2025-03-24T06:39:39.781868Z",
     "shell.execute_reply": "2025-03-24T06:39:39.781123Z"
    },
    "papermill": {
     "duration": 0.106734,
     "end_time": "2025-03-24T06:39:39.783886",
     "exception": false,
     "start_time": "2025-03-24T06:39:39.677152",
     "status": "completed"
    },
    "tags": []
   },
   "outputs": [],
   "source": [
    "import os\n",
    "from pathlib import Path\n",
    "\n",
    "iskaggle = os.environ.get('KAGGLE_KERNEL_RUN_TYPE', '')\n",
    "if iskaggle: path = Path('../input/titanic')\n",
    "else:\n",
    "    path = Path('titanic')\n",
    "    if not path.exists():\n",
    "        import zipfile,kaggle\n",
    "        kaggle.api.competition_download_cli(str(path))\n",
    "        zipfile.ZipFile(f'{path}.zip').extractall(path)"
   ]
  },
  {
   "cell_type": "markdown",
   "id": "1aaec9bc",
   "metadata": {
    "hidden": true,
    "papermill": {
     "duration": 0.09083,
     "end_time": "2025-03-24T06:39:39.965026",
     "exception": false,
     "start_time": "2025-03-24T06:39:39.874196",
     "status": "completed"
    },
    "tags": []
   },
   "source": [
    "Note that the data for Kaggle comps always lives in the `../input` folder. The easiest way to get the path is to click the \"K\" button in the top-right of the Kaggle notebook, click on the folder shown there, and click the copy button.\n",
    "\n",
    "We'll be using *numpy* and *pytorch* for array calculations in this notebook, and *pandas* for working with tabular data, so we'll import them and set them to display using a bit more space than they default to."
   ]
  },
  {
   "cell_type": "code",
   "execution_count": 2,
   "id": "9a914eee",
   "metadata": {
    "execution": {
     "iopub.execute_input": "2025-03-24T06:39:40.150885Z",
     "iopub.status.busy": "2025-03-24T06:39:40.150640Z",
     "iopub.status.idle": "2025-03-24T06:39:41.576479Z",
     "shell.execute_reply": "2025-03-24T06:39:41.575700Z"
    },
    "papermill": {
     "duration": 1.521052,
     "end_time": "2025-03-24T06:39:41.578728",
     "exception": false,
     "start_time": "2025-03-24T06:39:40.057676",
     "status": "completed"
    },
    "tags": []
   },
   "outputs": [],
   "source": [
    "import torch, numpy as np, pandas as pd\n",
    "np.set_printoptions(linewidth=140)\n",
    "torch.set_printoptions(linewidth=140, sci_mode=False, edgeitems=7)\n",
    "pd.set_option('display.width', 140)"
   ]
  },
  {
   "cell_type": "markdown",
   "id": "df6ad4b2",
   "metadata": {
    "heading_collapsed": true,
    "papermill": {
     "duration": 0.089168,
     "end_time": "2025-03-24T06:39:41.758489",
     "exception": false,
     "start_time": "2025-03-24T06:39:41.669321",
     "status": "completed"
    },
    "tags": []
   },
   "source": [
    "## Cleaning the data"
   ]
  },
  {
   "cell_type": "markdown",
   "id": "06ad4794",
   "metadata": {
    "hidden": true,
    "papermill": {
     "duration": 0.090892,
     "end_time": "2025-03-24T06:39:41.940500",
     "exception": false,
     "start_time": "2025-03-24T06:39:41.849608",
     "status": "completed"
    },
    "tags": []
   },
   "source": [
    "This is a *tabular data* competition -- the data is in the form of a table. It's provided as a Comma Separated Values (CSV) file. We can open it using the *pandas* library, which will create a `DataFrame`."
   ]
  },
  {
   "cell_type": "code",
   "execution_count": 3,
   "id": "92b528ad",
   "metadata": {
    "execution": {
     "iopub.execute_input": "2025-03-24T06:39:42.127139Z",
     "iopub.status.busy": "2025-03-24T06:39:42.126307Z",
     "iopub.status.idle": "2025-03-24T06:39:42.171150Z",
     "shell.execute_reply": "2025-03-24T06:39:42.170362Z"
    },
    "hidden": true,
    "papermill": {
     "duration": 0.142478,
     "end_time": "2025-03-24T06:39:42.174250",
     "exception": false,
     "start_time": "2025-03-24T06:39:42.031772",
     "status": "completed"
    },
    "scrolled": true,
    "tags": []
   },
   "outputs": [
    {
     "data": {
      "text/html": [
       "<div>\n",
       "<style scoped>\n",
       "    .dataframe tbody tr th:only-of-type {\n",
       "        vertical-align: middle;\n",
       "    }\n",
       "\n",
       "    .dataframe tbody tr th {\n",
       "        vertical-align: top;\n",
       "    }\n",
       "\n",
       "    .dataframe thead th {\n",
       "        text-align: right;\n",
       "    }\n",
       "</style>\n",
       "<table border=\"1\" class=\"dataframe\">\n",
       "  <thead>\n",
       "    <tr style=\"text-align: right;\">\n",
       "      <th></th>\n",
       "      <th>PassengerId</th>\n",
       "      <th>Survived</th>\n",
       "      <th>Pclass</th>\n",
       "      <th>Name</th>\n",
       "      <th>Sex</th>\n",
       "      <th>Age</th>\n",
       "      <th>SibSp</th>\n",
       "      <th>Parch</th>\n",
       "      <th>Ticket</th>\n",
       "      <th>Fare</th>\n",
       "      <th>Cabin</th>\n",
       "      <th>Embarked</th>\n",
       "    </tr>\n",
       "  </thead>\n",
       "  <tbody>\n",
       "    <tr>\n",
       "      <th>0</th>\n",
       "      <td>1</td>\n",
       "      <td>0</td>\n",
       "      <td>3</td>\n",
       "      <td>Braund, Mr. Owen Harris</td>\n",
       "      <td>male</td>\n",
       "      <td>22.0</td>\n",
       "      <td>1</td>\n",
       "      <td>0</td>\n",
       "      <td>A/5 21171</td>\n",
       "      <td>7.2500</td>\n",
       "      <td>NaN</td>\n",
       "      <td>S</td>\n",
       "    </tr>\n",
       "    <tr>\n",
       "      <th>1</th>\n",
       "      <td>2</td>\n",
       "      <td>1</td>\n",
       "      <td>1</td>\n",
       "      <td>Cumings, Mrs. John Bradley (Florence Briggs Th...</td>\n",
       "      <td>female</td>\n",
       "      <td>38.0</td>\n",
       "      <td>1</td>\n",
       "      <td>0</td>\n",
       "      <td>PC 17599</td>\n",
       "      <td>71.2833</td>\n",
       "      <td>C85</td>\n",
       "      <td>C</td>\n",
       "    </tr>\n",
       "    <tr>\n",
       "      <th>2</th>\n",
       "      <td>3</td>\n",
       "      <td>1</td>\n",
       "      <td>3</td>\n",
       "      <td>Heikkinen, Miss. Laina</td>\n",
       "      <td>female</td>\n",
       "      <td>26.0</td>\n",
       "      <td>0</td>\n",
       "      <td>0</td>\n",
       "      <td>STON/O2. 3101282</td>\n",
       "      <td>7.9250</td>\n",
       "      <td>NaN</td>\n",
       "      <td>S</td>\n",
       "    </tr>\n",
       "    <tr>\n",
       "      <th>3</th>\n",
       "      <td>4</td>\n",
       "      <td>1</td>\n",
       "      <td>1</td>\n",
       "      <td>Futrelle, Mrs. Jacques Heath (Lily May Peel)</td>\n",
       "      <td>female</td>\n",
       "      <td>35.0</td>\n",
       "      <td>1</td>\n",
       "      <td>0</td>\n",
       "      <td>113803</td>\n",
       "      <td>53.1000</td>\n",
       "      <td>C123</td>\n",
       "      <td>S</td>\n",
       "    </tr>\n",
       "    <tr>\n",
       "      <th>4</th>\n",
       "      <td>5</td>\n",
       "      <td>0</td>\n",
       "      <td>3</td>\n",
       "      <td>Allen, Mr. William Henry</td>\n",
       "      <td>male</td>\n",
       "      <td>35.0</td>\n",
       "      <td>0</td>\n",
       "      <td>0</td>\n",
       "      <td>373450</td>\n",
       "      <td>8.0500</td>\n",
       "      <td>NaN</td>\n",
       "      <td>S</td>\n",
       "    </tr>\n",
       "    <tr>\n",
       "      <th>...</th>\n",
       "      <td>...</td>\n",
       "      <td>...</td>\n",
       "      <td>...</td>\n",
       "      <td>...</td>\n",
       "      <td>...</td>\n",
       "      <td>...</td>\n",
       "      <td>...</td>\n",
       "      <td>...</td>\n",
       "      <td>...</td>\n",
       "      <td>...</td>\n",
       "      <td>...</td>\n",
       "      <td>...</td>\n",
       "    </tr>\n",
       "    <tr>\n",
       "      <th>886</th>\n",
       "      <td>887</td>\n",
       "      <td>0</td>\n",
       "      <td>2</td>\n",
       "      <td>Montvila, Rev. Juozas</td>\n",
       "      <td>male</td>\n",
       "      <td>27.0</td>\n",
       "      <td>0</td>\n",
       "      <td>0</td>\n",
       "      <td>211536</td>\n",
       "      <td>13.0000</td>\n",
       "      <td>NaN</td>\n",
       "      <td>S</td>\n",
       "    </tr>\n",
       "    <tr>\n",
       "      <th>887</th>\n",
       "      <td>888</td>\n",
       "      <td>1</td>\n",
       "      <td>1</td>\n",
       "      <td>Graham, Miss. Margaret Edith</td>\n",
       "      <td>female</td>\n",
       "      <td>19.0</td>\n",
       "      <td>0</td>\n",
       "      <td>0</td>\n",
       "      <td>112053</td>\n",
       "      <td>30.0000</td>\n",
       "      <td>B42</td>\n",
       "      <td>S</td>\n",
       "    </tr>\n",
       "    <tr>\n",
       "      <th>888</th>\n",
       "      <td>889</td>\n",
       "      <td>0</td>\n",
       "      <td>3</td>\n",
       "      <td>Johnston, Miss. Catherine Helen \"Carrie\"</td>\n",
       "      <td>female</td>\n",
       "      <td>NaN</td>\n",
       "      <td>1</td>\n",
       "      <td>2</td>\n",
       "      <td>W./C. 6607</td>\n",
       "      <td>23.4500</td>\n",
       "      <td>NaN</td>\n",
       "      <td>S</td>\n",
       "    </tr>\n",
       "    <tr>\n",
       "      <th>889</th>\n",
       "      <td>890</td>\n",
       "      <td>1</td>\n",
       "      <td>1</td>\n",
       "      <td>Behr, Mr. Karl Howell</td>\n",
       "      <td>male</td>\n",
       "      <td>26.0</td>\n",
       "      <td>0</td>\n",
       "      <td>0</td>\n",
       "      <td>111369</td>\n",
       "      <td>30.0000</td>\n",
       "      <td>C148</td>\n",
       "      <td>C</td>\n",
       "    </tr>\n",
       "    <tr>\n",
       "      <th>890</th>\n",
       "      <td>891</td>\n",
       "      <td>0</td>\n",
       "      <td>3</td>\n",
       "      <td>Dooley, Mr. Patrick</td>\n",
       "      <td>male</td>\n",
       "      <td>32.0</td>\n",
       "      <td>0</td>\n",
       "      <td>0</td>\n",
       "      <td>370376</td>\n",
       "      <td>7.7500</td>\n",
       "      <td>NaN</td>\n",
       "      <td>Q</td>\n",
       "    </tr>\n",
       "  </tbody>\n",
       "</table>\n",
       "<p>891 rows × 12 columns</p>\n",
       "</div>"
      ],
      "text/plain": [
       "     PassengerId  Survived  Pclass                                               Name     Sex   Age  SibSp  Parch            Ticket  \\\n",
       "0              1         0       3                            Braund, Mr. Owen Harris    male  22.0      1      0         A/5 21171   \n",
       "1              2         1       1  Cumings, Mrs. John Bradley (Florence Briggs Th...  female  38.0      1      0          PC 17599   \n",
       "2              3         1       3                             Heikkinen, Miss. Laina  female  26.0      0      0  STON/O2. 3101282   \n",
       "3              4         1       1       Futrelle, Mrs. Jacques Heath (Lily May Peel)  female  35.0      1      0            113803   \n",
       "4              5         0       3                           Allen, Mr. William Henry    male  35.0      0      0            373450   \n",
       "..           ...       ...     ...                                                ...     ...   ...    ...    ...               ...   \n",
       "886          887         0       2                              Montvila, Rev. Juozas    male  27.0      0      0            211536   \n",
       "887          888         1       1                       Graham, Miss. Margaret Edith  female  19.0      0      0            112053   \n",
       "888          889         0       3           Johnston, Miss. Catherine Helen \"Carrie\"  female   NaN      1      2        W./C. 6607   \n",
       "889          890         1       1                              Behr, Mr. Karl Howell    male  26.0      0      0            111369   \n",
       "890          891         0       3                                Dooley, Mr. Patrick    male  32.0      0      0            370376   \n",
       "\n",
       "        Fare Cabin Embarked  \n",
       "0     7.2500   NaN        S  \n",
       "1    71.2833   C85        C  \n",
       "2     7.9250   NaN        S  \n",
       "3    53.1000  C123        S  \n",
       "4     8.0500   NaN        S  \n",
       "..       ...   ...      ...  \n",
       "886  13.0000   NaN        S  \n",
       "887  30.0000   B42        S  \n",
       "888  23.4500   NaN        S  \n",
       "889  30.0000  C148        C  \n",
       "890   7.7500   NaN        Q  \n",
       "\n",
       "[891 rows x 12 columns]"
      ]
     },
     "execution_count": 3,
     "metadata": {},
     "output_type": "execute_result"
    }
   ],
   "source": [
    "df = pd.read_csv(path/'train.csv')\n",
    "df"
   ]
  },
  {
   "cell_type": "markdown",
   "id": "c0ba162f",
   "metadata": {
    "hidden": true,
    "papermill": {
     "duration": 0.092635,
     "end_time": "2025-03-24T06:39:42.360225",
     "exception": false,
     "start_time": "2025-03-24T06:39:42.267590",
     "status": "completed"
    },
    "tags": []
   },
   "source": [
    "As we learned in the *How does a neural net really work* notebook, we going to want to multiply each column by some coefficients. But we can see in the `Cabin` column that there are `NaN` values, which is how Pandas refers to missing values. We can't multiply something by a missing value!\n",
    "\n",
    "Let's check which columns contain `NaN` values. Pandas' `isna()` function returns `True` (which is treated as `1` when used as a number) for `NaN` values, so we can just add them up for each column:"
   ]
  },
  {
   "cell_type": "code",
   "execution_count": 4,
   "id": "79ca538f",
   "metadata": {
    "execution": {
     "iopub.execute_input": "2025-03-24T06:39:42.545508Z",
     "iopub.status.busy": "2025-03-24T06:39:42.545189Z",
     "iopub.status.idle": "2025-03-24T06:39:42.553968Z",
     "shell.execute_reply": "2025-03-24T06:39:42.553213Z"
    },
    "hidden": true,
    "papermill": {
     "duration": 0.103239,
     "end_time": "2025-03-24T06:39:42.555733",
     "exception": false,
     "start_time": "2025-03-24T06:39:42.452494",
     "status": "completed"
    },
    "tags": []
   },
   "outputs": [
    {
     "data": {
      "text/plain": [
       "PassengerId      0\n",
       "Survived         0\n",
       "Pclass           0\n",
       "Name             0\n",
       "Sex              0\n",
       "Age            177\n",
       "SibSp            0\n",
       "Parch            0\n",
       "Ticket           0\n",
       "Fare             0\n",
       "Cabin          687\n",
       "Embarked         2\n",
       "dtype: int64"
      ]
     },
     "execution_count": 4,
     "metadata": {},
     "output_type": "execute_result"
    }
   ],
   "source": [
    "df.isna().sum()"
   ]
  },
  {
   "cell_type": "markdown",
   "id": "92c22e45",
   "metadata": {
    "hidden": true,
    "papermill": {
     "duration": 0.090952,
     "end_time": "2025-03-24T06:39:42.738891",
     "exception": false,
     "start_time": "2025-03-24T06:39:42.647939",
     "status": "completed"
    },
    "tags": []
   },
   "source": [
    "Notice that by default Pandas sums over columns.\n",
    "\n",
    "We'll need to replace the missing values with something. It doesn't generally matter too much what we choose. We'll use the most common value (the \"*mode*\"). We can use the `mode` function for that. One wrinkle is that it returns more than one row in the case of ties, so we just grab the first row with `iloc[0]`:"
   ]
  },
  {
   "cell_type": "code",
   "execution_count": 5,
   "id": "9190c8b4",
   "metadata": {
    "execution": {
     "iopub.execute_input": "2025-03-24T06:39:42.924810Z",
     "iopub.status.busy": "2025-03-24T06:39:42.923971Z",
     "iopub.status.idle": "2025-03-24T06:39:42.957994Z",
     "shell.execute_reply": "2025-03-24T06:39:42.957270Z"
    },
    "papermill": {
     "duration": 0.130008,
     "end_time": "2025-03-24T06:39:42.960034",
     "exception": false,
     "start_time": "2025-03-24T06:39:42.830026",
     "status": "completed"
    },
    "tags": []
   },
   "outputs": [
    {
     "data": {
      "text/html": [
       "<div>\n",
       "<style scoped>\n",
       "    .dataframe tbody tr th:only-of-type {\n",
       "        vertical-align: middle;\n",
       "    }\n",
       "\n",
       "    .dataframe tbody tr th {\n",
       "        vertical-align: top;\n",
       "    }\n",
       "\n",
       "    .dataframe thead th {\n",
       "        text-align: right;\n",
       "    }\n",
       "</style>\n",
       "<table border=\"1\" class=\"dataframe\">\n",
       "  <thead>\n",
       "    <tr style=\"text-align: right;\">\n",
       "      <th></th>\n",
       "      <th>PassengerId</th>\n",
       "      <th>Survived</th>\n",
       "      <th>Pclass</th>\n",
       "      <th>Name</th>\n",
       "      <th>Sex</th>\n",
       "      <th>Age</th>\n",
       "      <th>SibSp</th>\n",
       "      <th>Parch</th>\n",
       "      <th>Ticket</th>\n",
       "      <th>Fare</th>\n",
       "      <th>Cabin</th>\n",
       "      <th>Embarked</th>\n",
       "    </tr>\n",
       "  </thead>\n",
       "  <tbody>\n",
       "    <tr>\n",
       "      <th>0</th>\n",
       "      <td>1</td>\n",
       "      <td>0.0</td>\n",
       "      <td>3.0</td>\n",
       "      <td>Abbing, Mr. Anthony</td>\n",
       "      <td>male</td>\n",
       "      <td>24.0</td>\n",
       "      <td>0.0</td>\n",
       "      <td>0.0</td>\n",
       "      <td>1601</td>\n",
       "      <td>8.05</td>\n",
       "      <td>B96 B98</td>\n",
       "      <td>S</td>\n",
       "    </tr>\n",
       "    <tr>\n",
       "      <th>1</th>\n",
       "      <td>2</td>\n",
       "      <td>NaN</td>\n",
       "      <td>NaN</td>\n",
       "      <td>Abbott, Mr. Rossmore Edward</td>\n",
       "      <td>NaN</td>\n",
       "      <td>NaN</td>\n",
       "      <td>NaN</td>\n",
       "      <td>NaN</td>\n",
       "      <td>347082</td>\n",
       "      <td>NaN</td>\n",
       "      <td>C23 C25 C27</td>\n",
       "      <td>NaN</td>\n",
       "    </tr>\n",
       "    <tr>\n",
       "      <th>2</th>\n",
       "      <td>3</td>\n",
       "      <td>NaN</td>\n",
       "      <td>NaN</td>\n",
       "      <td>Abbott, Mrs. Stanton (Rosa Hunt)</td>\n",
       "      <td>NaN</td>\n",
       "      <td>NaN</td>\n",
       "      <td>NaN</td>\n",
       "      <td>NaN</td>\n",
       "      <td>CA. 2343</td>\n",
       "      <td>NaN</td>\n",
       "      <td>G6</td>\n",
       "      <td>NaN</td>\n",
       "    </tr>\n",
       "    <tr>\n",
       "      <th>3</th>\n",
       "      <td>4</td>\n",
       "      <td>NaN</td>\n",
       "      <td>NaN</td>\n",
       "      <td>Abelson, Mr. Samuel</td>\n",
       "      <td>NaN</td>\n",
       "      <td>NaN</td>\n",
       "      <td>NaN</td>\n",
       "      <td>NaN</td>\n",
       "      <td>NaN</td>\n",
       "      <td>NaN</td>\n",
       "      <td>NaN</td>\n",
       "      <td>NaN</td>\n",
       "    </tr>\n",
       "    <tr>\n",
       "      <th>4</th>\n",
       "      <td>5</td>\n",
       "      <td>NaN</td>\n",
       "      <td>NaN</td>\n",
       "      <td>Abelson, Mrs. Samuel (Hannah Wizosky)</td>\n",
       "      <td>NaN</td>\n",
       "      <td>NaN</td>\n",
       "      <td>NaN</td>\n",
       "      <td>NaN</td>\n",
       "      <td>NaN</td>\n",
       "      <td>NaN</td>\n",
       "      <td>NaN</td>\n",
       "      <td>NaN</td>\n",
       "    </tr>\n",
       "    <tr>\n",
       "      <th>...</th>\n",
       "      <td>...</td>\n",
       "      <td>...</td>\n",
       "      <td>...</td>\n",
       "      <td>...</td>\n",
       "      <td>...</td>\n",
       "      <td>...</td>\n",
       "      <td>...</td>\n",
       "      <td>...</td>\n",
       "      <td>...</td>\n",
       "      <td>...</td>\n",
       "      <td>...</td>\n",
       "      <td>...</td>\n",
       "    </tr>\n",
       "    <tr>\n",
       "      <th>886</th>\n",
       "      <td>887</td>\n",
       "      <td>NaN</td>\n",
       "      <td>NaN</td>\n",
       "      <td>de Mulder, Mr. Theodore</td>\n",
       "      <td>NaN</td>\n",
       "      <td>NaN</td>\n",
       "      <td>NaN</td>\n",
       "      <td>NaN</td>\n",
       "      <td>NaN</td>\n",
       "      <td>NaN</td>\n",
       "      <td>NaN</td>\n",
       "      <td>NaN</td>\n",
       "    </tr>\n",
       "    <tr>\n",
       "      <th>887</th>\n",
       "      <td>888</td>\n",
       "      <td>NaN</td>\n",
       "      <td>NaN</td>\n",
       "      <td>de Pelsmaeker, Mr. Alfons</td>\n",
       "      <td>NaN</td>\n",
       "      <td>NaN</td>\n",
       "      <td>NaN</td>\n",
       "      <td>NaN</td>\n",
       "      <td>NaN</td>\n",
       "      <td>NaN</td>\n",
       "      <td>NaN</td>\n",
       "      <td>NaN</td>\n",
       "    </tr>\n",
       "    <tr>\n",
       "      <th>888</th>\n",
       "      <td>889</td>\n",
       "      <td>NaN</td>\n",
       "      <td>NaN</td>\n",
       "      <td>del Carlo, Mr. Sebastiano</td>\n",
       "      <td>NaN</td>\n",
       "      <td>NaN</td>\n",
       "      <td>NaN</td>\n",
       "      <td>NaN</td>\n",
       "      <td>NaN</td>\n",
       "      <td>NaN</td>\n",
       "      <td>NaN</td>\n",
       "      <td>NaN</td>\n",
       "    </tr>\n",
       "    <tr>\n",
       "      <th>889</th>\n",
       "      <td>890</td>\n",
       "      <td>NaN</td>\n",
       "      <td>NaN</td>\n",
       "      <td>van Billiard, Mr. Austin Blyler</td>\n",
       "      <td>NaN</td>\n",
       "      <td>NaN</td>\n",
       "      <td>NaN</td>\n",
       "      <td>NaN</td>\n",
       "      <td>NaN</td>\n",
       "      <td>NaN</td>\n",
       "      <td>NaN</td>\n",
       "      <td>NaN</td>\n",
       "    </tr>\n",
       "    <tr>\n",
       "      <th>890</th>\n",
       "      <td>891</td>\n",
       "      <td>NaN</td>\n",
       "      <td>NaN</td>\n",
       "      <td>van Melkebeke, Mr. Philemon</td>\n",
       "      <td>NaN</td>\n",
       "      <td>NaN</td>\n",
       "      <td>NaN</td>\n",
       "      <td>NaN</td>\n",
       "      <td>NaN</td>\n",
       "      <td>NaN</td>\n",
       "      <td>NaN</td>\n",
       "      <td>NaN</td>\n",
       "    </tr>\n",
       "  </tbody>\n",
       "</table>\n",
       "<p>891 rows × 12 columns</p>\n",
       "</div>"
      ],
      "text/plain": [
       "     PassengerId  Survived  Pclass                                   Name   Sex   Age  SibSp  Parch    Ticket  Fare        Cabin Embarked\n",
       "0              1       0.0     3.0                    Abbing, Mr. Anthony  male  24.0    0.0    0.0      1601  8.05      B96 B98        S\n",
       "1              2       NaN     NaN            Abbott, Mr. Rossmore Edward   NaN   NaN    NaN    NaN    347082   NaN  C23 C25 C27      NaN\n",
       "2              3       NaN     NaN       Abbott, Mrs. Stanton (Rosa Hunt)   NaN   NaN    NaN    NaN  CA. 2343   NaN           G6      NaN\n",
       "3              4       NaN     NaN                    Abelson, Mr. Samuel   NaN   NaN    NaN    NaN       NaN   NaN          NaN      NaN\n",
       "4              5       NaN     NaN  Abelson, Mrs. Samuel (Hannah Wizosky)   NaN   NaN    NaN    NaN       NaN   NaN          NaN      NaN\n",
       "..           ...       ...     ...                                    ...   ...   ...    ...    ...       ...   ...          ...      ...\n",
       "886          887       NaN     NaN                de Mulder, Mr. Theodore   NaN   NaN    NaN    NaN       NaN   NaN          NaN      NaN\n",
       "887          888       NaN     NaN              de Pelsmaeker, Mr. Alfons   NaN   NaN    NaN    NaN       NaN   NaN          NaN      NaN\n",
       "888          889       NaN     NaN              del Carlo, Mr. Sebastiano   NaN   NaN    NaN    NaN       NaN   NaN          NaN      NaN\n",
       "889          890       NaN     NaN        van Billiard, Mr. Austin Blyler   NaN   NaN    NaN    NaN       NaN   NaN          NaN      NaN\n",
       "890          891       NaN     NaN            van Melkebeke, Mr. Philemon   NaN   NaN    NaN    NaN       NaN   NaN          NaN      NaN\n",
       "\n",
       "[891 rows x 12 columns]"
      ]
     },
     "execution_count": 5,
     "metadata": {},
     "output_type": "execute_result"
    }
   ],
   "source": [
    "df.mode() # common"
   ]
  },
  {
   "cell_type": "code",
   "execution_count": 6,
   "id": "a0bf9879",
   "metadata": {
    "execution": {
     "iopub.execute_input": "2025-03-24T06:39:43.150377Z",
     "iopub.status.busy": "2025-03-24T06:39:43.149616Z",
     "iopub.status.idle": "2025-03-24T06:39:43.166045Z",
     "shell.execute_reply": "2025-03-24T06:39:43.165250Z"
    },
    "hidden": true,
    "papermill": {
     "duration": 0.11355,
     "end_time": "2025-03-24T06:39:43.168320",
     "exception": false,
     "start_time": "2025-03-24T06:39:43.054770",
     "status": "completed"
    },
    "tags": []
   },
   "outputs": [
    {
     "data": {
      "text/plain": [
       "PassengerId                      1\n",
       "Survived                       0.0\n",
       "Pclass                         3.0\n",
       "Name           Abbing, Mr. Anthony\n",
       "Sex                           male\n",
       "Age                           24.0\n",
       "SibSp                          0.0\n",
       "Parch                          0.0\n",
       "Ticket                        1601\n",
       "Fare                          8.05\n",
       "Cabin                      B96 B98\n",
       "Embarked                         S\n",
       "Name: 0, dtype: object"
      ]
     },
     "execution_count": 6,
     "metadata": {},
     "output_type": "execute_result"
    }
   ],
   "source": [
    "modes = df.mode().iloc[0]\n",
    "modes"
   ]
  },
  {
   "cell_type": "markdown",
   "id": "868099a9",
   "metadata": {
    "hidden": true,
    "papermill": {
     "duration": 0.092215,
     "end_time": "2025-03-24T06:39:43.354075",
     "exception": false,
     "start_time": "2025-03-24T06:39:43.261860",
     "status": "completed"
    },
    "tags": []
   },
   "source": [
    "BTW, it's never a good idea to use functions without understanding them. So be sure to google for anything you're not familiar with. E.g if you want to learn about `iloc` (which is a very important function indeed!) then Google will give you a link to a [great tutorial](https://www.shanelynn.ie/pandas-iloc-loc-select-rows-and-columns-dataframe/).\n",
    "\n",
    "Now that we've got the mode of each column, we can use `fillna` to replace the missing values with the mode of each column. We'll do it \"in place\" -- meaning that we'll change the dataframe itself, rather than returning a new one."
   ]
  },
  {
   "cell_type": "code",
   "execution_count": 7,
   "id": "f92eaf56",
   "metadata": {
    "execution": {
     "iopub.execute_input": "2025-03-24T06:39:43.543134Z",
     "iopub.status.busy": "2025-03-24T06:39:43.542857Z",
     "iopub.status.idle": "2025-03-24T06:39:43.553407Z",
     "shell.execute_reply": "2025-03-24T06:39:43.552619Z"
    },
    "hidden": true,
    "papermill": {
     "duration": 0.107702,
     "end_time": "2025-03-24T06:39:43.555596",
     "exception": false,
     "start_time": "2025-03-24T06:39:43.447894",
     "status": "completed"
    },
    "tags": []
   },
   "outputs": [],
   "source": [
    "df.fillna(modes, inplace=True)"
   ]
  },
  {
   "cell_type": "markdown",
   "id": "e00ff45b",
   "metadata": {
    "hidden": true,
    "papermill": {
     "duration": 0.094907,
     "end_time": "2025-03-24T06:39:43.745615",
     "exception": false,
     "start_time": "2025-03-24T06:39:43.650708",
     "status": "completed"
    },
    "tags": []
   },
   "source": [
    "We can now check there's no missing values left:"
   ]
  },
  {
   "cell_type": "code",
   "execution_count": 8,
   "id": "a8e4dc49",
   "metadata": {
    "execution": {
     "iopub.execute_input": "2025-03-24T06:39:43.934974Z",
     "iopub.status.busy": "2025-03-24T06:39:43.934689Z",
     "iopub.status.idle": "2025-03-24T06:39:43.943116Z",
     "shell.execute_reply": "2025-03-24T06:39:43.942401Z"
    },
    "hidden": true,
    "papermill": {
     "duration": 0.104663,
     "end_time": "2025-03-24T06:39:43.944840",
     "exception": false,
     "start_time": "2025-03-24T06:39:43.840177",
     "status": "completed"
    },
    "tags": []
   },
   "outputs": [
    {
     "data": {
      "text/plain": [
       "PassengerId    0\n",
       "Survived       0\n",
       "Pclass         0\n",
       "Name           0\n",
       "Sex            0\n",
       "Age            0\n",
       "SibSp          0\n",
       "Parch          0\n",
       "Ticket         0\n",
       "Fare           0\n",
       "Cabin          0\n",
       "Embarked       0\n",
       "dtype: int64"
      ]
     },
     "execution_count": 8,
     "metadata": {},
     "output_type": "execute_result"
    }
   ],
   "source": [
    "df.isna().sum()"
   ]
  },
  {
   "cell_type": "markdown",
   "id": "7d1cd3c1",
   "metadata": {
    "hidden": true,
    "papermill": {
     "duration": 0.096103,
     "end_time": "2025-03-24T06:39:44.135573",
     "exception": false,
     "start_time": "2025-03-24T06:39:44.039470",
     "status": "completed"
    },
    "tags": []
   },
   "source": [
    "Here's how we get a quick summary of all the numeric columns in the dataset:"
   ]
  },
  {
   "cell_type": "code",
   "execution_count": 9,
   "id": "fc0c94d3",
   "metadata": {
    "execution": {
     "iopub.execute_input": "2025-03-24T06:39:44.322690Z",
     "iopub.status.busy": "2025-03-24T06:39:44.322357Z",
     "iopub.status.idle": "2025-03-24T06:39:44.355488Z",
     "shell.execute_reply": "2025-03-24T06:39:44.354607Z"
    },
    "hidden": true,
    "papermill": {
     "duration": 0.129107,
     "end_time": "2025-03-24T06:39:44.357504",
     "exception": false,
     "start_time": "2025-03-24T06:39:44.228397",
     "status": "completed"
    },
    "tags": []
   },
   "outputs": [
    {
     "data": {
      "text/html": [
       "<div>\n",
       "<style scoped>\n",
       "    .dataframe tbody tr th:only-of-type {\n",
       "        vertical-align: middle;\n",
       "    }\n",
       "\n",
       "    .dataframe tbody tr th {\n",
       "        vertical-align: top;\n",
       "    }\n",
       "\n",
       "    .dataframe thead th {\n",
       "        text-align: right;\n",
       "    }\n",
       "</style>\n",
       "<table border=\"1\" class=\"dataframe\">\n",
       "  <thead>\n",
       "    <tr style=\"text-align: right;\">\n",
       "      <th></th>\n",
       "      <th>PassengerId</th>\n",
       "      <th>Survived</th>\n",
       "      <th>Pclass</th>\n",
       "      <th>Age</th>\n",
       "      <th>SibSp</th>\n",
       "      <th>Parch</th>\n",
       "      <th>Fare</th>\n",
       "    </tr>\n",
       "  </thead>\n",
       "  <tbody>\n",
       "    <tr>\n",
       "      <th>count</th>\n",
       "      <td>891.000000</td>\n",
       "      <td>891.000000</td>\n",
       "      <td>891.000000</td>\n",
       "      <td>891.000000</td>\n",
       "      <td>891.000000</td>\n",
       "      <td>891.000000</td>\n",
       "      <td>891.000000</td>\n",
       "    </tr>\n",
       "    <tr>\n",
       "      <th>mean</th>\n",
       "      <td>446.000000</td>\n",
       "      <td>0.383838</td>\n",
       "      <td>2.308642</td>\n",
       "      <td>28.566970</td>\n",
       "      <td>0.523008</td>\n",
       "      <td>0.381594</td>\n",
       "      <td>32.204208</td>\n",
       "    </tr>\n",
       "    <tr>\n",
       "      <th>std</th>\n",
       "      <td>257.353842</td>\n",
       "      <td>0.486592</td>\n",
       "      <td>0.836071</td>\n",
       "      <td>13.199572</td>\n",
       "      <td>1.102743</td>\n",
       "      <td>0.806057</td>\n",
       "      <td>49.693429</td>\n",
       "    </tr>\n",
       "    <tr>\n",
       "      <th>min</th>\n",
       "      <td>1.000000</td>\n",
       "      <td>0.000000</td>\n",
       "      <td>1.000000</td>\n",
       "      <td>0.420000</td>\n",
       "      <td>0.000000</td>\n",
       "      <td>0.000000</td>\n",
       "      <td>0.000000</td>\n",
       "    </tr>\n",
       "    <tr>\n",
       "      <th>25%</th>\n",
       "      <td>223.500000</td>\n",
       "      <td>0.000000</td>\n",
       "      <td>2.000000</td>\n",
       "      <td>22.000000</td>\n",
       "      <td>0.000000</td>\n",
       "      <td>0.000000</td>\n",
       "      <td>7.910400</td>\n",
       "    </tr>\n",
       "    <tr>\n",
       "      <th>50%</th>\n",
       "      <td>446.000000</td>\n",
       "      <td>0.000000</td>\n",
       "      <td>3.000000</td>\n",
       "      <td>24.000000</td>\n",
       "      <td>0.000000</td>\n",
       "      <td>0.000000</td>\n",
       "      <td>14.454200</td>\n",
       "    </tr>\n",
       "    <tr>\n",
       "      <th>75%</th>\n",
       "      <td>668.500000</td>\n",
       "      <td>1.000000</td>\n",
       "      <td>3.000000</td>\n",
       "      <td>35.000000</td>\n",
       "      <td>1.000000</td>\n",
       "      <td>0.000000</td>\n",
       "      <td>31.000000</td>\n",
       "    </tr>\n",
       "    <tr>\n",
       "      <th>max</th>\n",
       "      <td>891.000000</td>\n",
       "      <td>1.000000</td>\n",
       "      <td>3.000000</td>\n",
       "      <td>80.000000</td>\n",
       "      <td>8.000000</td>\n",
       "      <td>6.000000</td>\n",
       "      <td>512.329200</td>\n",
       "    </tr>\n",
       "  </tbody>\n",
       "</table>\n",
       "</div>"
      ],
      "text/plain": [
       "       PassengerId    Survived      Pclass         Age       SibSp       Parch        Fare\n",
       "count   891.000000  891.000000  891.000000  891.000000  891.000000  891.000000  891.000000\n",
       "mean    446.000000    0.383838    2.308642   28.566970    0.523008    0.381594   32.204208\n",
       "std     257.353842    0.486592    0.836071   13.199572    1.102743    0.806057   49.693429\n",
       "min       1.000000    0.000000    1.000000    0.420000    0.000000    0.000000    0.000000\n",
       "25%     223.500000    0.000000    2.000000   22.000000    0.000000    0.000000    7.910400\n",
       "50%     446.000000    0.000000    3.000000   24.000000    0.000000    0.000000   14.454200\n",
       "75%     668.500000    1.000000    3.000000   35.000000    1.000000    0.000000   31.000000\n",
       "max     891.000000    1.000000    3.000000   80.000000    8.000000    6.000000  512.329200"
      ]
     },
     "execution_count": 9,
     "metadata": {},
     "output_type": "execute_result"
    }
   ],
   "source": [
    "import numpy as np\n",
    "\n",
    "df.describe(include=(np.number))"
   ]
  },
  {
   "cell_type": "markdown",
   "id": "3a4dcb72",
   "metadata": {
    "execution": {
     "iopub.execute_input": "2022-05-13T11:02:34.328433Z",
     "iopub.status.busy": "2022-05-13T11:02:34.327999Z",
     "iopub.status.idle": "2022-05-13T11:02:34.336993Z",
     "shell.execute_reply": "2022-05-13T11:02:34.335466Z",
     "shell.execute_reply.started": "2022-05-13T11:02:34.32838Z"
    },
    "hidden": true,
    "papermill": {
     "duration": 0.095242,
     "end_time": "2025-03-24T06:39:44.546462",
     "exception": false,
     "start_time": "2025-03-24T06:39:44.451220",
     "status": "completed"
    },
    "tags": []
   },
   "source": [
    "We can see that `Fare` contains mainly values of around `0` to `30`, but there's a few really big ones. This is very common with fields contain monetary values, and it can cause problems for our model, because once that column is multiplied by a coefficient later, the few rows with really big values will dominate the result.\n",
    "\n",
    "You can see the issue most clearly visually by looking at a histogram, which shows a long tail to the right (and don't forget: if you're not entirely sure what a histogram is, Google \"[histogram tutorial](https://www.google.com/search?q=histogram+tutorial&oq=histogram+tutorial)\" and do a bit of reading before continuing on):"
   ]
  },
  {
   "cell_type": "code",
   "execution_count": 10,
   "id": "080e336a",
   "metadata": {
    "execution": {
     "iopub.execute_input": "2025-03-24T06:39:44.734492Z",
     "iopub.status.busy": "2025-03-24T06:39:44.734190Z",
     "iopub.status.idle": "2025-03-24T06:39:44.935469Z",
     "shell.execute_reply": "2025-03-24T06:39:44.934647Z"
    },
    "hidden": true,
    "papermill": {
     "duration": 0.29773,
     "end_time": "2025-03-24T06:39:44.937514",
     "exception": false,
     "start_time": "2025-03-24T06:39:44.639784",
     "status": "completed"
    },
    "tags": []
   },
   "outputs": [
    {
     "data": {
      "text/plain": [
       "<AxesSubplot:>"
      ]
     },
     "execution_count": 10,
     "metadata": {},
     "output_type": "execute_result"
    },
    {
     "data": {
      "image/png": "[encoded data removed]",
      "text/plain": [
       "<Figure size 432x288 with 1 Axes>"
      ]
     },
     "metadata": {
      "needs_background": "light"
     },
     "output_type": "display_data"
    }
   ],
   "source": [
    "df['Fare'].hist(color='skyblue', edgecolor='black')"
   ]
  },
  {
   "cell_type": "markdown",
   "id": "a82616c2",
   "metadata": {
    "execution": {
     "iopub.execute_input": "2022-05-13T11:02:34.328433Z",
     "iopub.status.busy": "2022-05-13T11:02:34.327999Z",
     "iopub.status.idle": "2022-05-13T11:02:34.336993Z",
     "shell.execute_reply": "2022-05-13T11:02:34.335466Z",
     "shell.execute_reply.started": "2022-05-13T11:02:34.32838Z"
    },
    "hidden": true,
    "papermill": {
     "duration": 0.097868,
     "end_time": "2025-03-24T06:39:45.130420",
     "exception": false,
     "start_time": "2025-03-24T06:39:45.032552",
     "status": "completed"
    },
    "tags": []
   },
   "source": [
    "To fix this, the most common approach is to take the logarithm, which squishes the big numbers and makes the distribution more reasonable. Note, however, that there are zeros in the `Fare` column, and `log(0)` is infinite -- to fix this, we'll simply add `1` to all values first:"
   ]
  },
  {
   "cell_type": "code",
   "execution_count": 11,
   "id": "a81ff882",
   "metadata": {
    "execution": {
     "iopub.execute_input": "2025-03-24T06:39:45.322057Z",
     "iopub.status.busy": "2025-03-24T06:39:45.321783Z",
     "iopub.status.idle": "2025-03-24T06:39:45.327519Z",
     "shell.execute_reply": "2025-03-24T06:39:45.326640Z"
    },
    "hidden": true,
    "papermill": {
     "duration": 0.105192,
     "end_time": "2025-03-24T06:39:45.329777",
     "exception": false,
     "start_time": "2025-03-24T06:39:45.224585",
     "status": "completed"
    },
    "tags": []
   },
   "outputs": [],
   "source": [
    "df['LogFare'] = np.log(df['Fare']+1)"
   ]
  },
  {
   "cell_type": "markdown",
   "id": "15d30006",
   "metadata": {
    "hidden": true,
    "papermill": {
     "duration": 0.095256,
     "end_time": "2025-03-24T06:39:45.521897",
     "exception": false,
     "start_time": "2025-03-24T06:39:45.426641",
     "status": "completed"
    },
    "tags": []
   },
   "source": [
    "The histogram now shows a more even distribution of values without the long tail:"
   ]
  },
  {
   "cell_type": "code",
   "execution_count": 12,
   "id": "d2648009",
   "metadata": {
    "execution": {
     "iopub.execute_input": "2025-03-24T06:39:45.715523Z",
     "iopub.status.busy": "2025-03-24T06:39:45.715217Z",
     "iopub.status.idle": "2025-03-24T06:39:45.916814Z",
     "shell.execute_reply": "2025-03-24T06:39:45.915705Z"
    },
    "hidden": true,
    "papermill": {
     "duration": 0.301269,
     "end_time": "2025-03-24T06:39:45.918919",
     "exception": false,
     "start_time": "2025-03-24T06:39:45.617650",
     "status": "completed"
    },
    "tags": []
   },
   "outputs": [
    {
     "data": {
      "image/png": "[encoded data removed]",
      "text/plain": [
       "<Figure size 432x288 with 1 Axes>"
      ]
     },
     "metadata": {
      "needs_background": "light"
     },
     "output_type": "display_data"
    }
   ],
   "source": [
    "df['LogFare'].hist();"
   ]
  },
  {
   "cell_type": "markdown",
   "id": "af372f36",
   "metadata": {
    "hidden": true,
    "papermill": {
     "duration": 0.098201,
     "end_time": "2025-03-24T06:39:46.112286",
     "exception": false,
     "start_time": "2025-03-24T06:39:46.014085",
     "status": "completed"
    },
    "tags": []
   },
   "source": [
    "It looks from the `describe()` output like `Pclass` contains just 3 values, which we can confirm by looking at the [Data Dictionary](https://www.kaggle.com/competitions/titanic/data) (which you should always study carefully for any project!) -- "
   ]
  },
  {
   "cell_type": "code",
   "execution_count": 13,
   "id": "4bc5c1ed",
   "metadata": {
    "execution": {
     "iopub.execute_input": "2025-03-24T06:39:46.306218Z",
     "iopub.status.busy": "2025-03-24T06:39:46.305402Z",
     "iopub.status.idle": "2025-03-24T06:39:46.311721Z",
     "shell.execute_reply": "2025-03-24T06:39:46.310915Z"
    },
    "hidden": true,
    "papermill": {
     "duration": 0.105711,
     "end_time": "2025-03-24T06:39:46.313904",
     "exception": false,
     "start_time": "2025-03-24T06:39:46.208193",
     "status": "completed"
    },
    "tags": []
   },
   "outputs": [
    {
     "data": {
      "text/plain": [
       "[1, 2, 3]"
      ]
     },
     "execution_count": 13,
     "metadata": {},
     "output_type": "execute_result"
    }
   ],
   "source": [
    "pclasses = sorted(df.Pclass.unique())\n",
    "pclasses"
   ]
  },
  {
   "cell_type": "markdown",
   "id": "b008e9da",
   "metadata": {
    "hidden": true,
    "papermill": {
     "duration": 0.096128,
     "end_time": "2025-03-24T06:39:46.507256",
     "exception": false,
     "start_time": "2025-03-24T06:39:46.411128",
     "status": "completed"
    },
    "tags": []
   },
   "source": [
    "Here's how we get a quick summary of all the non-numeric columns in the dataset:"
   ]
  },
  {
   "cell_type": "code",
   "execution_count": 14,
   "id": "8b1c31bd",
   "metadata": {
    "execution": {
     "iopub.execute_input": "2025-03-24T06:39:46.702741Z",
     "iopub.status.busy": "2025-03-24T06:39:46.702403Z",
     "iopub.status.idle": "2025-03-24T06:39:46.724180Z",
     "shell.execute_reply": "2025-03-24T06:39:46.723181Z"
    },
    "hidden": true,
    "papermill": {
     "duration": 0.12192,
     "end_time": "2025-03-24T06:39:46.726305",
     "exception": false,
     "start_time": "2025-03-24T06:39:46.604385",
     "status": "completed"
    },
    "tags": []
   },
   "outputs": [
    {
     "data": {
      "text/html": [
       "<div>\n",
       "<style scoped>\n",
       "    .dataframe tbody tr th:only-of-type {\n",
       "        vertical-align: middle;\n",
       "    }\n",
       "\n",
       "    .dataframe tbody tr th {\n",
       "        vertical-align: top;\n",
       "    }\n",
       "\n",
       "    .dataframe thead th {\n",
       "        text-align: right;\n",
       "    }\n",
       "</style>\n",
       "<table border=\"1\" class=\"dataframe\">\n",
       "  <thead>\n",
       "    <tr style=\"text-align: right;\">\n",
       "      <th></th>\n",
       "      <th>Name</th>\n",
       "      <th>Sex</th>\n",
       "      <th>Ticket</th>\n",
       "      <th>Cabin</th>\n",
       "      <th>Embarked</th>\n",
       "    </tr>\n",
       "  </thead>\n",
       "  <tbody>\n",
       "    <tr>\n",
       "      <th>count</th>\n",
       "      <td>891</td>\n",
       "      <td>891</td>\n",
       "      <td>891</td>\n",
       "      <td>891</td>\n",
       "      <td>891</td>\n",
       "    </tr>\n",
       "    <tr>\n",
       "      <th>unique</th>\n",
       "      <td>891</td>\n",
       "      <td>2</td>\n",
       "      <td>681</td>\n",
       "      <td>147</td>\n",
       "      <td>3</td>\n",
       "    </tr>\n",
       "    <tr>\n",
       "      <th>top</th>\n",
       "      <td>Braund, Mr. Owen Harris</td>\n",
       "      <td>male</td>\n",
       "      <td>347082</td>\n",
       "      <td>B96 B98</td>\n",
       "      <td>S</td>\n",
       "    </tr>\n",
       "    <tr>\n",
       "      <th>freq</th>\n",
       "      <td>1</td>\n",
       "      <td>577</td>\n",
       "      <td>7</td>\n",
       "      <td>691</td>\n",
       "      <td>646</td>\n",
       "    </tr>\n",
       "  </tbody>\n",
       "</table>\n",
       "</div>"
      ],
      "text/plain": [
       "                           Name   Sex  Ticket    Cabin Embarked\n",
       "count                       891   891     891      891      891\n",
       "unique                      891     2     681      147        3\n",
       "top     Braund, Mr. Owen Harris  male  347082  B96 B98        S\n",
       "freq                          1   577       7      691      646"
      ]
     },
     "execution_count": 14,
     "metadata": {},
     "output_type": "execute_result"
    }
   ],
   "source": [
    "df.describe(include=[object])"
   ]
  },
  {
   "cell_type": "markdown",
   "id": "efb0e70f",
   "metadata": {
    "hidden": true,
    "papermill": {
     "duration": 0.097486,
     "end_time": "2025-03-24T06:39:46.920484",
     "exception": false,
     "start_time": "2025-03-24T06:39:46.822998",
     "status": "completed"
    },
    "tags": []
   },
   "source": [
    "Clearly we can't multiply strings like `male` or `S` by coefficients, so we need to replace those with numbers.\n",
    "\n",
    "We do that by creating new columns containing *dummy variables*. A dummy variable is a column that contains a `1` where a particular column contains a particular value, or a `0` otherwise. For instance, we could create a dummy variable for `Sex='male'`, which would be a new column containing `1` for rows where `Sex` is `'male'`, and 0 for rows where it isn't.\n",
    "\n",
    "Pandas can create these automatically using `get_dummies`, which also remove the original columns. We'll create dummy variables for `Pclass`, even although it's numeric, since the numbers `1`, `2`, and `3` correspond to first, second, and third class cabins - not to counts or measures that make sense to multiply by. We'll also create dummies for `Sex` and `Embarked` since we'll want to use those as predictors in our model. On the other hand, `Cabin`, `Name`, and `Ticket` have too many unique values for it to make sense creating dummy variables for them."
   ]
  },
  {
   "cell_type": "code",
   "execution_count": 15,
   "id": "273c7832",
   "metadata": {
    "execution": {
     "iopub.execute_input": "2025-03-24T06:39:47.123798Z",
     "iopub.status.busy": "2025-03-24T06:39:47.123508Z",
     "iopub.status.idle": "2025-03-24T06:39:47.136954Z",
     "shell.execute_reply": "2025-03-24T06:39:47.135716Z"
    },
    "hidden": true,
    "papermill": {
     "duration": 0.117315,
     "end_time": "2025-03-24T06:39:47.139650",
     "exception": false,
     "start_time": "2025-03-24T06:39:47.022335",
     "status": "completed"
    },
    "tags": []
   },
   "outputs": [
    {
     "data": {
      "text/plain": [
       "Index(['PassengerId', 'Survived', 'Name', 'Age', 'SibSp', 'Parch', 'Ticket', 'Fare', 'Cabin', 'LogFare', 'Sex_female', 'Sex_male',\n",
       "       'Pclass_1', 'Pclass_2', 'Pclass_3', 'Embarked_C', 'Embarked_Q', 'Embarked_S'],\n",
       "      dtype='object')"
      ]
     },
     "execution_count": 15,
     "metadata": {},
     "output_type": "execute_result"
    }
   ],
   "source": [
    "df = pd.get_dummies(df, columns=[\"Sex\",\"Pclass\",\"Embarked\"])\n",
    "df.columns"
   ]
  },
  {
   "cell_type": "markdown",
   "id": "c3a0f058",
   "metadata": {
    "hidden": true,
    "papermill": {
     "duration": 0.095284,
     "end_time": "2025-03-24T06:39:47.353242",
     "exception": false,
     "start_time": "2025-03-24T06:39:47.257958",
     "status": "completed"
    },
    "tags": []
   },
   "source": [
    "We can see that 5 columns have been added to the end -- one for each of the possible values of each of the three columns we requested, and that those three requested columns have been removed.\n",
    "\n",
    "Here's what the first few rows of those newly added columns look like:"
   ]
  },
  {
   "cell_type": "code",
   "execution_count": 16,
   "id": "89caf47e",
   "metadata": {
    "execution": {
     "iopub.execute_input": "2025-03-24T06:39:47.546668Z",
     "iopub.status.busy": "2025-03-24T06:39:47.545912Z",
     "iopub.status.idle": "2025-03-24T06:39:47.558091Z",
     "shell.execute_reply": "2025-03-24T06:39:47.557097Z"
    },
    "hidden": true,
    "papermill": {
     "duration": 0.11108,
     "end_time": "2025-03-24T06:39:47.560072",
     "exception": false,
     "start_time": "2025-03-24T06:39:47.448992",
     "status": "completed"
    },
    "tags": []
   },
   "outputs": [
    {
     "data": {
      "text/html": [
       "<div>\n",
       "<style scoped>\n",
       "    .dataframe tbody tr th:only-of-type {\n",
       "        vertical-align: middle;\n",
       "    }\n",
       "\n",
       "    .dataframe tbody tr th {\n",
       "        vertical-align: top;\n",
       "    }\n",
       "\n",
       "    .dataframe thead th {\n",
       "        text-align: right;\n",
       "    }\n",
       "</style>\n",
       "<table border=\"1\" class=\"dataframe\">\n",
       "  <thead>\n",
       "    <tr style=\"text-align: right;\">\n",
       "      <th></th>\n",
       "      <th>Sex_male</th>\n",
       "      <th>Sex_female</th>\n",
       "      <th>Pclass_1</th>\n",
       "      <th>Pclass_2</th>\n",
       "      <th>Pclass_3</th>\n",
       "      <th>Embarked_C</th>\n",
       "      <th>Embarked_Q</th>\n",
       "      <th>Embarked_S</th>\n",
       "    </tr>\n",
       "  </thead>\n",
       "  <tbody>\n",
       "    <tr>\n",
       "      <th>0</th>\n",
       "      <td>1</td>\n",
       "      <td>0</td>\n",
       "      <td>0</td>\n",
       "      <td>0</td>\n",
       "      <td>1</td>\n",
       "      <td>0</td>\n",
       "      <td>0</td>\n",
       "      <td>1</td>\n",
       "    </tr>\n",
       "    <tr>\n",
       "      <th>1</th>\n",
       "      <td>0</td>\n",
       "      <td>1</td>\n",
       "      <td>1</td>\n",
       "      <td>0</td>\n",
       "      <td>0</td>\n",
       "      <td>1</td>\n",
       "      <td>0</td>\n",
       "      <td>0</td>\n",
       "    </tr>\n",
       "    <tr>\n",
       "      <th>2</th>\n",
       "      <td>0</td>\n",
       "      <td>1</td>\n",
       "      <td>0</td>\n",
       "      <td>0</td>\n",
       "      <td>1</td>\n",
       "      <td>0</td>\n",
       "      <td>0</td>\n",
       "      <td>1</td>\n",
       "    </tr>\n",
       "    <tr>\n",
       "      <th>3</th>\n",
       "      <td>0</td>\n",
       "      <td>1</td>\n",
       "      <td>1</td>\n",
       "      <td>0</td>\n",
       "      <td>0</td>\n",
       "      <td>0</td>\n",
       "      <td>0</td>\n",
       "      <td>1</td>\n",
       "    </tr>\n",
       "    <tr>\n",
       "      <th>4</th>\n",
       "      <td>1</td>\n",
       "      <td>0</td>\n",
       "      <td>0</td>\n",
       "      <td>0</td>\n",
       "      <td>1</td>\n",
       "      <td>0</td>\n",
       "      <td>0</td>\n",
       "      <td>1</td>\n",
       "    </tr>\n",
       "  </tbody>\n",
       "</table>\n",
       "</div>"
      ],
      "text/plain": [
       "   Sex_male  Sex_female  Pclass_1  Pclass_2  Pclass_3  Embarked_C  Embarked_Q  Embarked_S\n",
       "0         1           0         0         0         1           0           0           1\n",
       "1         0           1         1         0         0           1           0           0\n",
       "2         0           1         0         0         1           0           0           1\n",
       "3         0           1         1         0         0           0           0           1\n",
       "4         1           0         0         0         1           0           0           1"
      ]
     },
     "execution_count": 16,
     "metadata": {},
     "output_type": "execute_result"
    }
   ],
   "source": [
    "added_cols = ['Sex_male', 'Sex_female', 'Pclass_1', 'Pclass_2', 'Pclass_3', 'Embarked_C', 'Embarked_Q', 'Embarked_S']\n",
    "df[added_cols].head()"
   ]
  },
  {
   "cell_type": "markdown",
   "id": "cd295c48",
   "metadata": {
    "hidden": true,
    "papermill": {
     "duration": 0.095482,
     "end_time": "2025-03-24T06:39:47.751605",
     "exception": false,
     "start_time": "2025-03-24T06:39:47.656123",
     "status": "completed"
    },
    "tags": []
   },
   "source": [
    "Now we can create our independent (predictors) and dependent (target) variables. They both need to be PyTorch tensors. Our dependent variable is `Survived`:"
   ]
  },
  {
   "cell_type": "code",
   "execution_count": 17,
   "id": "40a7e560",
   "metadata": {
    "execution": {
     "iopub.execute_input": "2025-03-24T06:39:47.947535Z",
     "iopub.status.busy": "2025-03-24T06:39:47.946911Z",
     "iopub.status.idle": "2025-03-24T06:39:47.960909Z",
     "shell.execute_reply": "2025-03-24T06:39:47.960099Z"
    },
    "hidden": true,
    "papermill": {
     "duration": 0.114819,
     "end_time": "2025-03-24T06:39:47.962856",
     "exception": false,
     "start_time": "2025-03-24T06:39:47.848037",
     "status": "completed"
    },
    "tags": []
   },
   "outputs": [],
   "source": [
    "from torch import tensor\n",
    "\n",
    "t_dep = tensor(df.Survived)"
   ]
  },
  {
   "cell_type": "markdown",
   "id": "4958ee76",
   "metadata": {
    "hidden": true,
    "papermill": {
     "duration": 0.095373,
     "end_time": "2025-03-24T06:39:48.155412",
     "exception": false,
     "start_time": "2025-03-24T06:39:48.060039",
     "status": "completed"
    },
    "tags": []
   },
   "source": [
    "Our independent variables are all the continuous variables of interest plus all the dummy variables we just created:"
   ]
  },
  {
   "cell_type": "code",
   "execution_count": 18,
   "id": "9f126157",
   "metadata": {
    "execution": {
     "iopub.execute_input": "2025-03-24T06:39:48.349466Z",
     "iopub.status.busy": "2025-03-24T06:39:48.349152Z",
     "iopub.status.idle": "2025-03-24T06:39:48.434674Z",
     "shell.execute_reply": "2025-03-24T06:39:48.433878Z"
    },
    "hidden": true,
    "papermill": {
     "duration": 0.183999,
     "end_time": "2025-03-24T06:39:48.436720",
     "exception": false,
     "start_time": "2025-03-24T06:39:48.252721",
     "status": "completed"
    },
    "tags": []
   },
   "outputs": [
    {
     "data": {
      "text/plain": [
       "tensor([[22.0000,  1.0000,  0.0000,  2.1102,  1.0000,  0.0000,  0.0000,  0.0000,  1.0000,  0.0000,  0.0000,  1.0000],\n",
       "        [38.0000,  1.0000,  0.0000,  4.2806,  0.0000,  1.0000,  1.0000,  0.0000,  0.0000,  1.0000,  0.0000,  0.0000],\n",
       "        [26.0000,  0.0000,  0.0000,  2.1889,  0.0000,  1.0000,  0.0000,  0.0000,  1.0000,  0.0000,  0.0000,  1.0000],\n",
       "        [35.0000,  1.0000,  0.0000,  3.9908,  0.0000,  1.0000,  1.0000,  0.0000,  0.0000,  0.0000,  0.0000,  1.0000],\n",
       "        [35.0000,  0.0000,  0.0000,  2.2028,  1.0000,  0.0000,  0.0000,  0.0000,  1.0000,  0.0000,  0.0000,  1.0000],\n",
       "        [24.0000,  0.0000,  0.0000,  2.2469,  1.0000,  0.0000,  0.0000,  0.0000,  1.0000,  0.0000,  1.0000,  0.0000],\n",
       "        [54.0000,  0.0000,  0.0000,  3.9677,  1.0000,  0.0000,  1.0000,  0.0000,  0.0000,  0.0000,  0.0000,  1.0000],\n",
       "        ...,\n",
       "        [25.0000,  0.0000,  0.0000,  2.0857,  1.0000,  0.0000,  0.0000,  0.0000,  1.0000,  0.0000,  0.0000,  1.0000],\n",
       "        [39.0000,  0.0000,  5.0000,  3.4054,  0.0000,  1.0000,  0.0000,  0.0000,  1.0000,  0.0000,  1.0000,  0.0000],\n",
       "        [27.0000,  0.0000,  0.0000,  2.6391,  1.0000,  0.0000,  0.0000,  1.0000,  0.0000,  0.0000,  0.0000,  1.0000],\n",
       "        [19.0000,  0.0000,  0.0000,  3.4340,  0.0000,  1.0000,  1.0000,  0.0000,  0.0000,  0.0000,  0.0000,  1.0000],\n",
       "        [24.0000,  1.0000,  2.0000,  3.1966,  0.0000,  1.0000,  0.0000,  0.0000,  1.0000,  0.0000,  0.0000,  1.0000],\n",
       "        [26.0000,  0.0000,  0.0000,  3.4340,  1.0000,  0.0000,  1.0000,  0.0000,  0.0000,  1.0000,  0.0000,  0.0000],\n",
       "        [32.0000,  0.0000,  0.0000,  2.1691,  1.0000,  0.0000,  0.0000,  0.0000,  1.0000,  0.0000,  1.0000,  0.0000]])"
      ]
     },
     "execution_count": 18,
     "metadata": {},
     "output_type": "execute_result"
    }
   ],
   "source": [
    "indep_cols = ['Age', 'SibSp', 'Parch', 'LogFare'] + added_cols\n",
    "\n",
    "t_indep = tensor(df[indep_cols].values, dtype=torch.float)\n",
    "t_indep"
   ]
  },
  {
   "cell_type": "markdown",
   "id": "d5979c1f",
   "metadata": {
    "hidden": true,
    "papermill": {
     "duration": 0.09563,
     "end_time": "2025-03-24T06:39:48.629088",
     "exception": false,
     "start_time": "2025-03-24T06:39:48.533458",
     "status": "completed"
    },
    "tags": []
   },
   "source": [
    "Here's the number of rows and columns we have for our independent variables:"
   ]
  },
  {
   "cell_type": "code",
   "execution_count": 19,
   "id": "119a1cc0",
   "metadata": {
    "execution": {
     "iopub.execute_input": "2025-03-24T06:39:48.824923Z",
     "iopub.status.busy": "2025-03-24T06:39:48.824646Z",
     "iopub.status.idle": "2025-03-24T06:39:48.830312Z",
     "shell.execute_reply": "2025-03-24T06:39:48.829485Z"
    },
    "hidden": true,
    "papermill": {
     "duration": 0.105539,
     "end_time": "2025-03-24T06:39:48.832112",
     "exception": false,
     "start_time": "2025-03-24T06:39:48.726573",
     "status": "completed"
    },
    "tags": []
   },
   "outputs": [
    {
     "data": {
      "text/plain": [
       "torch.Size([891, 12])"
      ]
     },
     "execution_count": 19,
     "metadata": {},
     "output_type": "execute_result"
    }
   ],
   "source": [
    "t_indep.shape"
   ]
  },
  {
   "cell_type": "markdown",
   "id": "6267cc47",
   "metadata": {
    "papermill": {
     "duration": 0.09783,
     "end_time": "2025-03-24T06:39:49.028808",
     "exception": false,
     "start_time": "2025-03-24T06:39:48.930978",
     "status": "completed"
    },
    "tags": []
   },
   "source": [
    "## Setting up a linear model"
   ]
  },
  {
   "cell_type": "markdown",
   "id": "79326bc7",
   "metadata": {
    "papermill": {
     "duration": 0.098595,
     "end_time": "2025-03-24T06:39:49.227903",
     "exception": false,
     "start_time": "2025-03-24T06:39:49.129308",
     "status": "completed"
    },
    "tags": []
   },
   "source": [
    "Now that we've got a matrix of independent variables and a dependent variable vector, we can work on calculating our predictions and our loss. In this section, we're going to manually do a single step of calculating predictions and loss for every row of our data.\n",
    "\n",
    "Our first model will be a simple linear model. We'll need a coefficient for each column in `t_indep`. We'll pick random numbers in the range `(-0.5,0.5)`, and set our manual seed so that my explanations in the prose in this notebook will be consistent with what you see when you run it."
   ]
  },
  {
   "cell_type": "code",
   "execution_count": 20,
   "id": "bc7e59e4",
   "metadata": {
    "execution": {
     "iopub.execute_input": "2025-03-24T06:39:49.425326Z",
     "iopub.status.busy": "2025-03-24T06:39:49.425042Z",
     "iopub.status.idle": "2025-03-24T06:39:49.445460Z",
     "shell.execute_reply": "2025-03-24T06:39:49.444606Z"
    },
    "papermill": {
     "duration": 0.120521,
     "end_time": "2025-03-24T06:39:49.447519",
     "exception": false,
     "start_time": "2025-03-24T06:39:49.326998",
     "status": "completed"
    },
    "tags": []
   },
   "outputs": [
    {
     "data": {
      "text/plain": [
       "tensor([-0.4629,  0.1386,  0.2409, -0.2262, -0.2632, -0.3147,  0.4876,  0.3136,  0.2799, -0.4392,  0.2103,  0.3625])"
      ]
     },
     "execution_count": 20,
     "metadata": {},
     "output_type": "execute_result"
    }
   ],
   "source": [
    "torch.manual_seed(442)\n",
    "\n",
    "n_coeff = t_indep.shape[1]\n",
    "coeffs = torch.rand(n_coeff)-0.5\n",
    "coeffs"
   ]
  },
  {
   "cell_type": "markdown",
   "id": "8b6afe3f",
   "metadata": {
    "papermill": {
     "duration": 0.098766,
     "end_time": "2025-03-24T06:39:49.645143",
     "exception": false,
     "start_time": "2025-03-24T06:39:49.546377",
     "status": "completed"
    },
    "tags": []
   },
   "source": [
    "Our predictions will be calculated by multiplying each row by the coefficients, and adding them up. One interesting point here is that we don't need a separate constant term (also known as a \"bias\" or \"intercept\" term), or a column of all `1`s to give the same effect has having a constant term. That's because our dummy variables already cover the entire dataset -- e.g. there's a column for \"male\" and a column for \"female\", and everyone in the dataset is in exactly one of these; therefore, we don't need a separate intercept term to cover rows that aren't otherwise part of a column.\n",
    "\n",
    "Here's what the multiplication looks like:"
   ]
  },
  {
   "cell_type": "code",
   "execution_count": 21,
   "id": "2c73d1ab",
   "metadata": {
    "execution": {
     "iopub.execute_input": "2025-03-24T06:39:49.843698Z",
     "iopub.status.busy": "2025-03-24T06:39:49.843371Z",
     "iopub.status.idle": "2025-03-24T06:39:49.851098Z",
     "shell.execute_reply": "2025-03-24T06:39:49.850333Z"
    },
    "papermill": {
     "duration": 0.109373,
     "end_time": "2025-03-24T06:39:49.852959",
     "exception": false,
     "start_time": "2025-03-24T06:39:49.743586",
     "status": "completed"
    },
    "tags": []
   },
   "outputs": [
    {
     "data": {
      "text/plain": [
       "tensor([[-10.1838,   0.1386,   0.0000,  -0.4772,  -0.2632,  -0.0000,   0.0000,   0.0000,   0.2799,  -0.0000,   0.0000,   0.3625],\n",
       "        [-17.5902,   0.1386,   0.0000,  -0.9681,  -0.0000,  -0.3147,   0.4876,   0.0000,   0.0000,  -0.4392,   0.0000,   0.0000],\n",
       "        [-12.0354,   0.0000,   0.0000,  -0.4950,  -0.0000,  -0.3147,   0.0000,   0.0000,   0.2799,  -0.0000,   0.0000,   0.3625],\n",
       "        [-16.2015,   0.1386,   0.0000,  -0.9025,  -0.0000,  -0.3147,   0.4876,   0.0000,   0.0000,  -0.0000,   0.0000,   0.3625],\n",
       "        [-16.2015,   0.0000,   0.0000,  -0.4982,  -0.2632,  -0.0000,   0.0000,   0.0000,   0.2799,  -0.0000,   0.0000,   0.3625],\n",
       "        [-11.1096,   0.0000,   0.0000,  -0.5081,  -0.2632,  -0.0000,   0.0000,   0.0000,   0.2799,  -0.0000,   0.2103,   0.0000],\n",
       "        [-24.9966,   0.0000,   0.0000,  -0.8973,  -0.2632,  -0.0000,   0.4876,   0.0000,   0.0000,  -0.0000,   0.0000,   0.3625],\n",
       "        ...,\n",
       "        [-11.5725,   0.0000,   0.0000,  -0.4717,  -0.2632,  -0.0000,   0.0000,   0.0000,   0.2799,  -0.0000,   0.0000,   0.3625],\n",
       "        [-18.0531,   0.0000,   1.2045,  -0.7701,  -0.0000,  -0.3147,   0.0000,   0.0000,   0.2799,  -0.0000,   0.2103,   0.0000],\n",
       "        [-12.4983,   0.0000,   0.0000,  -0.5968,  -0.2632,  -0.0000,   0.0000,   0.3136,   0.0000,  -0.0000,   0.0000,   0.3625],\n",
       "        [ -8.7951,   0.0000,   0.0000,  -0.7766,  -0.0000,  -0.3147,   0.4876,   0.0000,   0.0000,  -0.0000,   0.0000,   0.3625],\n",
       "        [-11.1096,   0.1386,   0.4818,  -0.7229,  -0.0000,  -0.3147,   0.0000,   0.0000,   0.2799,  -0.0000,   0.0000,   0.3625],\n",
       "        [-12.0354,   0.0000,   0.0000,  -0.7766,  -0.2632,  -0.0000,   0.4876,   0.0000,   0.0000,  -0.4392,   0.0000,   0.0000],\n",
       "        [-14.8128,   0.0000,   0.0000,  -0.4905,  -0.2632,  -0.0000,   0.0000,   0.0000,   0.2799,  -0.0000,   0.2103,   0.0000]])"
      ]
     },
     "execution_count": 21,
     "metadata": {},
     "output_type": "execute_result"
    }
   ],
   "source": [
    "t_indep*coeffs"
   ]
  },
  {
   "cell_type": "markdown",
   "id": "8a292167",
   "metadata": {
    "papermill": {
     "duration": 0.101644,
     "end_time": "2025-03-24T06:39:50.053868",
     "exception": false,
     "start_time": "2025-03-24T06:39:49.952224",
     "status": "completed"
    },
    "tags": []
   },
   "source": [
    "We can see we've got a problem here. The sums of each row will be dominated by the first column, which is `Age`, since that's bigger on average than all the others.\n",
    "\n",
    "Let's make all the columns contain numbers from `0` to `1`, by dividing each column by its `max()`:"
   ]
  },
  {
   "cell_type": "code",
   "execution_count": 22,
   "id": "c751d4ed",
   "metadata": {
    "execution": {
     "iopub.execute_input": "2025-03-24T06:39:50.250229Z",
     "iopub.status.busy": "2025-03-24T06:39:50.249910Z",
     "iopub.status.idle": "2025-03-24T06:39:50.258570Z",
     "shell.execute_reply": "2025-03-24T06:39:50.257702Z"
    },
    "papermill": {
     "duration": 0.109283,
     "end_time": "2025-03-24T06:39:50.260891",
     "exception": false,
     "start_time": "2025-03-24T06:39:50.151608",
     "status": "completed"
    },
    "tags": []
   },
   "outputs": [
    {
     "name": "stdout",
     "output_type": "stream",
     "text": [
      "tensor([80.0000,  8.0000,  6.0000,  6.2409,  1.0000,  1.0000,  1.0000,  1.0000,  1.0000,  1.0000,  1.0000,  1.0000])\n",
      "tensor([630, 159, 678, 258,   0,   1,   1,   9,   0,   1,   5,   0])\n"
     ]
    }
   ],
   "source": [
    "vals,indices = t_indep.max(dim=0)\n",
    "print(vals)\n",
    "print(indices)\n",
    "t_indep = t_indep / vals"
   ]
  },
  {
   "cell_type": "markdown",
   "id": "b8657ddd",
   "metadata": {
    "papermill": {
     "duration": 0.099165,
     "end_time": "2025-03-24T06:39:50.461400",
     "exception": false,
     "start_time": "2025-03-24T06:39:50.362235",
     "status": "completed"
    },
    "tags": []
   },
   "source": [
    "As we see, that removes the problem of one column dominating all the others:"
   ]
  },
  {
   "cell_type": "code",
   "execution_count": 23,
   "id": "6834bf95",
   "metadata": {
    "execution": {
     "iopub.execute_input": "2025-03-24T06:39:50.661503Z",
     "iopub.status.busy": "2025-03-24T06:39:50.661185Z",
     "iopub.status.idle": "2025-03-24T06:39:50.668925Z",
     "shell.execute_reply": "2025-03-24T06:39:50.668122Z"
    },
    "papermill": {
     "duration": 0.110349,
     "end_time": "2025-03-24T06:39:50.670841",
     "exception": false,
     "start_time": "2025-03-24T06:39:50.560492",
     "status": "completed"
    },
    "tags": []
   },
   "outputs": [
    {
     "data": {
      "text/plain": [
       "tensor([[-0.1273,  0.0173,  0.0000, -0.0765, -0.2632, -0.0000,  0.0000,  0.0000,  0.2799, -0.0000,  0.0000,  0.3625],\n",
       "        [-0.2199,  0.0173,  0.0000, -0.1551, -0.0000, -0.3147,  0.4876,  0.0000,  0.0000, -0.4392,  0.0000,  0.0000],\n",
       "        [-0.1504,  0.0000,  0.0000, -0.0793, -0.0000, -0.3147,  0.0000,  0.0000,  0.2799, -0.0000,  0.0000,  0.3625],\n",
       "        [-0.2025,  0.0173,  0.0000, -0.1446, -0.0000, -0.3147,  0.4876,  0.0000,  0.0000, -0.0000,  0.0000,  0.3625],\n",
       "        [-0.2025,  0.0000,  0.0000, -0.0798, -0.2632, -0.0000,  0.0000,  0.0000,  0.2799, -0.0000,  0.0000,  0.3625],\n",
       "        [-0.1389,  0.0000,  0.0000, -0.0814, -0.2632, -0.0000,  0.0000,  0.0000,  0.2799, -0.0000,  0.2103,  0.0000],\n",
       "        [-0.3125,  0.0000,  0.0000, -0.1438, -0.2632, -0.0000,  0.4876,  0.0000,  0.0000, -0.0000,  0.0000,  0.3625],\n",
       "        ...,\n",
       "        [-0.1447,  0.0000,  0.0000, -0.0756, -0.2632, -0.0000,  0.0000,  0.0000,  0.2799, -0.0000,  0.0000,  0.3625],\n",
       "        [-0.2257,  0.0000,  0.2008, -0.1234, -0.0000, -0.3147,  0.0000,  0.0000,  0.2799, -0.0000,  0.2103,  0.0000],\n",
       "        [-0.1562,  0.0000,  0.0000, -0.0956, -0.2632, -0.0000,  0.0000,  0.3136,  0.0000, -0.0000,  0.0000,  0.3625],\n",
       "        [-0.1099,  0.0000,  0.0000, -0.1244, -0.0000, -0.3147,  0.4876,  0.0000,  0.0000, -0.0000,  0.0000,  0.3625],\n",
       "        [-0.1389,  0.0173,  0.0803, -0.1158, -0.0000, -0.3147,  0.0000,  0.0000,  0.2799, -0.0000,  0.0000,  0.3625],\n",
       "        [-0.1504,  0.0000,  0.0000, -0.1244, -0.2632, -0.0000,  0.4876,  0.0000,  0.0000, -0.4392,  0.0000,  0.0000],\n",
       "        [-0.1852,  0.0000,  0.0000, -0.0786, -0.2632, -0.0000,  0.0000,  0.0000,  0.2799, -0.0000,  0.2103,  0.0000]])"
      ]
     },
     "execution_count": 23,
     "metadata": {},
     "output_type": "execute_result"
    }
   ],
   "source": [
    "t_indep*coeffs"
   ]
  },
  {
   "cell_type": "markdown",
   "id": "bb6e00e4",
   "metadata": {
    "papermill": {
     "duration": 0.098791,
     "end_time": "2025-03-24T06:39:50.870302",
     "exception": false,
     "start_time": "2025-03-24T06:39:50.771511",
     "status": "completed"
    },
    "tags": []
   },
   "source": [
    "One thing you hopefully noticed is how amazingly cool this line of code is:\n",
    "\n",
    "    t_indep = t_indep / vals\n",
    "\n",
    "That is dividing a matrix by a vector -- what on earth does that mean?!? The trick here is that we're taking advantage of a technique in numpy and PyTorch (and many other languages, going all the way back to APL) called [broadcasting](https://numpy.org/doc/stable/user/basics.broadcasting.html). In short, this acts as if there's a separate copy of the vector for every row of the matrix, so it divides each row of the matrix by the vector. In practice, it doesn't actually make any copies, and does the whole thing in a highly optimized way, taking full advantage of modern CPUs (or, indeed, GPUs, if we're using them). Broadcasting is one of the most important techniques for making your code concise, maintainable, and fast, so it's well worth studying and practicing.\n",
    "\n",
    "We can now create predictions from our linear model, by adding up the rows of the product:"
   ]
  },
  {
   "cell_type": "code",
   "execution_count": 24,
   "id": "8cb2418a",
   "metadata": {
    "execution": {
     "iopub.execute_input": "2025-03-24T06:39:51.073845Z",
     "iopub.status.busy": "2025-03-24T06:39:51.073566Z",
     "iopub.status.idle": "2025-03-24T06:39:51.081141Z",
     "shell.execute_reply": "2025-03-24T06:39:51.080518Z"
    },
    "papermill": {
     "duration": 0.112127,
     "end_time": "2025-03-24T06:39:51.083310",
     "exception": false,
     "start_time": "2025-03-24T06:39:50.971183",
     "status": "completed"
    },
    "tags": []
   },
   "outputs": [],
   "source": [
    "preds = (t_indep*coeffs).sum(axis=1)"
   ]
  },
  {
   "cell_type": "markdown",
   "id": "d397f095",
   "metadata": {
    "papermill": {
     "duration": 0.099853,
     "end_time": "2025-03-24T06:39:51.283280",
     "exception": false,
     "start_time": "2025-03-24T06:39:51.183427",
     "status": "completed"
    },
    "tags": []
   },
   "source": [
    "Let's take a look at the first few:"
   ]
  },
  {
   "cell_type": "code",
   "execution_count": 25,
   "id": "1f99a57c",
   "metadata": {
    "execution": {
     "iopub.execute_input": "2025-03-24T06:39:51.483566Z",
     "iopub.status.busy": "2025-03-24T06:39:51.483239Z",
     "iopub.status.idle": "2025-03-24T06:39:51.492244Z",
     "shell.execute_reply": "2025-03-24T06:39:51.491326Z"
    },
    "papermill": {
     "duration": 0.111557,
     "end_time": "2025-03-24T06:39:51.494170",
     "exception": false,
     "start_time": "2025-03-24T06:39:51.382613",
     "status": "completed"
    },
    "tags": []
   },
   "outputs": [
    {
     "data": {
      "text/plain": [
       "tensor([ 0.1927, -0.6239,  0.0979,  0.2056,  0.0968,  0.0066,  0.1306,  0.3476,  0.1613, -0.6285])"
      ]
     },
     "execution_count": 25,
     "metadata": {},
     "output_type": "execute_result"
    }
   ],
   "source": [
    "preds[:10]"
   ]
  },
  {
   "cell_type": "markdown",
   "id": "b30fef66",
   "metadata": {
    "papermill": {
     "duration": 0.098236,
     "end_time": "2025-03-24T06:39:51.691024",
     "exception": false,
     "start_time": "2025-03-24T06:39:51.592788",
     "status": "completed"
    },
    "tags": []
   },
   "source": [
    "Of course, these predictions aren't going to be any use, since our coefficients are random -- they're just a starting point for our gradient descent process.\n",
    "\n",
    "To do gradient descent, we need a loss function. Taking the average error of the rows (i.e. the absolute value of the difference between the prediction and the dependent) is generally a reasonable approach:"
   ]
  },
  {
   "cell_type": "code",
   "execution_count": 26,
   "id": "90e192e7",
   "metadata": {
    "execution": {
     "iopub.execute_input": "2025-03-24T06:39:51.890243Z",
     "iopub.status.busy": "2025-03-24T06:39:51.889459Z",
     "iopub.status.idle": "2025-03-24T06:39:51.900082Z",
     "shell.execute_reply": "2025-03-24T06:39:51.899199Z"
    },
    "papermill": {
     "duration": 0.111249,
     "end_time": "2025-03-24T06:39:51.901945",
     "exception": false,
     "start_time": "2025-03-24T06:39:51.790696",
     "status": "completed"
    },
    "tags": []
   },
   "outputs": [
    {
     "data": {
      "text/plain": [
       "tensor(0.5382)"
      ]
     },
     "execution_count": 26,
     "metadata": {},
     "output_type": "execute_result"
    }
   ],
   "source": [
    "loss = torch.abs(preds-t_dep).mean()\n",
    "loss"
   ]
  },
  {
   "cell_type": "markdown",
   "id": "967b0aaf",
   "metadata": {
    "papermill": {
     "duration": 0.100751,
     "end_time": "2025-03-24T06:39:52.102551",
     "exception": false,
     "start_time": "2025-03-24T06:39:52.001800",
     "status": "completed"
    },
    "tags": []
   },
   "source": [
    "Now that we've tested out a way of calculating predictions, and loss, let's pop them into functions to make life easier:"
   ]
  },
  {
   "cell_type": "code",
   "execution_count": 27,
   "id": "2f6213be",
   "metadata": {
    "execution": {
     "iopub.execute_input": "2025-03-24T06:39:52.302900Z",
     "iopub.status.busy": "2025-03-24T06:39:52.302171Z",
     "iopub.status.idle": "2025-03-24T06:39:52.307331Z",
     "shell.execute_reply": "2025-03-24T06:39:52.306492Z"
    },
    "papermill": {
     "duration": 0.107068,
     "end_time": "2025-03-24T06:39:52.309226",
     "exception": false,
     "start_time": "2025-03-24T06:39:52.202158",
     "status": "completed"
    },
    "tags": []
   },
   "outputs": [],
   "source": [
    "def calc_preds(coeffs, indeps): return (indeps*coeffs).sum(axis=1)\n",
    "def calc_loss(coeffs, indeps, deps): return torch.abs(calc_preds(coeffs, indeps)-deps).mean()"
   ]
  },
  {
   "cell_type": "markdown",
   "id": "f54bd2b1",
   "metadata": {
    "papermill": {
     "duration": 0.099406,
     "end_time": "2025-03-24T06:39:52.508303",
     "exception": false,
     "start_time": "2025-03-24T06:39:52.408897",
     "status": "completed"
    },
    "tags": []
   },
   "source": [
    "## Doing a gradient descent step"
   ]
  },
  {
   "cell_type": "markdown",
   "id": "5f811b2a",
   "metadata": {
    "papermill": {
     "duration": 0.099077,
     "end_time": "2025-03-24T06:39:52.706431",
     "exception": false,
     "start_time": "2025-03-24T06:39:52.607354",
     "status": "completed"
    },
    "tags": []
   },
   "source": [
    "In this section, we're going to do a single \"epoch\" of gradient descent manually. The only thing we're going to automate is calculating gradients, because let's face it that's pretty tedious and entirely pointless to do by hand! To get PyTorch to calculate gradients, we'll need to call `requires_grad_()` on our `coeffs` (if you're not sure why, review the previous notebook, [How does a neural net really work?](https://www.kaggle.com/code/jhoward/how-does-a-neural-net-really-work), before continuing):"
   ]
  },
  {
   "cell_type": "code",
   "execution_count": 28,
   "id": "dd466ece",
   "metadata": {
    "execution": {
     "iopub.execute_input": "2025-03-24T06:39:52.906908Z",
     "iopub.status.busy": "2025-03-24T06:39:52.906199Z",
     "iopub.status.idle": "2025-03-24T06:39:52.912615Z",
     "shell.execute_reply": "2025-03-24T06:39:52.911789Z"
    },
    "papermill": {
     "duration": 0.109888,
     "end_time": "2025-03-24T06:39:52.914529",
     "exception": false,
     "start_time": "2025-03-24T06:39:52.804641",
     "status": "completed"
    },
    "tags": []
   },
   "outputs": [
    {
     "data": {
      "text/plain": [
       "tensor([-0.4629,  0.1386,  0.2409, -0.2262, -0.2632, -0.3147,  0.4876,  0.3136,  0.2799, -0.4392,  0.2103,  0.3625], requires_grad=True)"
      ]
     },
     "execution_count": 28,
     "metadata": {},
     "output_type": "execute_result"
    }
   ],
   "source": [
    "coeffs.requires_grad_()"
   ]
  },
  {
   "cell_type": "markdown",
   "id": "805facd6",
   "metadata": {
    "papermill": {
     "duration": 0.100239,
     "end_time": "2025-03-24T06:39:53.115017",
     "exception": false,
     "start_time": "2025-03-24T06:39:53.014778",
     "status": "completed"
    },
    "tags": []
   },
   "source": [
    "Now when we calculate our loss, PyTorch will keep track of all the steps, so we'll be able to get the gradients afterwards:"
   ]
  },
  {
   "cell_type": "code",
   "execution_count": 29,
   "id": "19e6fd32",
   "metadata": {
    "execution": {
     "iopub.execute_input": "2025-03-24T06:39:53.317969Z",
     "iopub.status.busy": "2025-03-24T06:39:53.317162Z",
     "iopub.status.idle": "2025-03-24T06:39:53.324112Z",
     "shell.execute_reply": "2025-03-24T06:39:53.323413Z"
    },
    "papermill": {
     "duration": 0.109719,
     "end_time": "2025-03-24T06:39:53.325984",
     "exception": false,
     "start_time": "2025-03-24T06:39:53.216265",
     "status": "completed"
    },
    "tags": []
   },
   "outputs": [
    {
     "data": {
      "text/plain": [
       "tensor(0.5382, grad_fn=<MeanBackward0>)"
      ]
     },
     "execution_count": 29,
     "metadata": {},
     "output_type": "execute_result"
    }
   ],
   "source": [
    "loss = calc_loss(coeffs, t_indep, t_dep)\n",
    "loss"
   ]
  },
  {
   "cell_type": "markdown",
   "id": "2f0bd233",
   "metadata": {
    "papermill": {
     "duration": 0.099459,
     "end_time": "2025-03-24T06:39:53.525719",
     "exception": false,
     "start_time": "2025-03-24T06:39:53.426260",
     "status": "completed"
    },
    "tags": []
   },
   "source": [
    "Use `backward()` to ask PyTorch to calculate gradients now:"
   ]
  },
  {
   "cell_type": "code",
   "execution_count": 30,
   "id": "cc22e6d1",
   "metadata": {
    "execution": {
     "iopub.execute_input": "2025-03-24T06:39:53.725764Z",
     "iopub.status.busy": "2025-03-24T06:39:53.725412Z",
     "iopub.status.idle": "2025-03-24T06:39:53.738787Z",
     "shell.execute_reply": "2025-03-24T06:39:53.737967Z"
    },
    "papermill": {
     "duration": 0.115759,
     "end_time": "2025-03-24T06:39:53.740950",
     "exception": false,
     "start_time": "2025-03-24T06:39:53.625191",
     "status": "completed"
    },
    "tags": []
   },
   "outputs": [],
   "source": [
    "loss.backward()"
   ]
  },
  {
   "cell_type": "markdown",
   "id": "9a7ec380",
   "metadata": {
    "papermill": {
     "duration": 0.100787,
     "end_time": "2025-03-24T06:39:53.940652",
     "exception": false,
     "start_time": "2025-03-24T06:39:53.839865",
     "status": "completed"
    },
    "tags": []
   },
   "source": [
    "Let's see what they look like:"
   ]
  },
  {
   "cell_type": "code",
   "execution_count": 31,
   "id": "d220f000",
   "metadata": {
    "execution": {
     "iopub.execute_input": "2025-03-24T06:39:54.142730Z",
     "iopub.status.busy": "2025-03-24T06:39:54.142388Z",
     "iopub.status.idle": "2025-03-24T06:39:54.148775Z",
     "shell.execute_reply": "2025-03-24T06:39:54.147869Z"
    },
    "papermill": {
     "duration": 0.11117,
     "end_time": "2025-03-24T06:39:54.150788",
     "exception": false,
     "start_time": "2025-03-24T06:39:54.039618",
     "status": "completed"
    },
    "tags": []
   },
   "outputs": [
    {
     "data": {
      "text/plain": [
       "tensor([-0.0106,  0.0129, -0.0041, -0.0484,  0.2099, -0.2132, -0.1212, -0.0247,  0.1425, -0.1886, -0.0191,  0.2043])"
      ]
     },
     "execution_count": 31,
     "metadata": {},
     "output_type": "execute_result"
    }
   ],
   "source": [
    "coeffs.grad"
   ]
  },
  {
   "cell_type": "markdown",
   "id": "dbab076f",
   "metadata": {
    "papermill": {
     "duration": 0.099348,
     "end_time": "2025-03-24T06:39:54.351042",
     "exception": false,
     "start_time": "2025-03-24T06:39:54.251694",
     "status": "completed"
    },
    "tags": []
   },
   "source": [
    "Note that each time we call `backward`, the gradients are actually *added* to whatever is in the `.grad` attribute. Let's try running the above steps again:"
   ]
  },
  {
   "cell_type": "code",
   "execution_count": 32,
   "id": "14a0bd77",
   "metadata": {
    "execution": {
     "iopub.execute_input": "2025-03-24T06:39:54.553287Z",
     "iopub.status.busy": "2025-03-24T06:39:54.553019Z",
     "iopub.status.idle": "2025-03-24T06:39:54.562459Z",
     "shell.execute_reply": "2025-03-24T06:39:54.561597Z"
    },
    "papermill": {
     "duration": 0.113321,
     "end_time": "2025-03-24T06:39:54.564674",
     "exception": false,
     "start_time": "2025-03-24T06:39:54.451353",
     "status": "completed"
    },
    "tags": []
   },
   "outputs": [
    {
     "data": {
      "text/plain": [
       "tensor([-0.0212,  0.0258, -0.0082, -0.0969,  0.4198, -0.4265, -0.2424, -0.0494,  0.2851, -0.3771, -0.0382,  0.4085])"
      ]
     },
     "execution_count": 32,
     "metadata": {},
     "output_type": "execute_result"
    }
   ],
   "source": [
    "loss = calc_loss(coeffs, t_indep, t_dep)\n",
    "loss.backward()\n",
    "coeffs.grad"
   ]
  },
  {
   "cell_type": "markdown",
   "id": "fec9f640",
   "metadata": {
    "papermill": {
     "duration": 0.100126,
     "end_time": "2025-03-24T06:39:54.765143",
     "exception": false,
     "start_time": "2025-03-24T06:39:54.665017",
     "status": "completed"
    },
    "tags": []
   },
   "source": [
    "As you see, our `.grad` values are have doubled. That's because it added the gradients a second time. For this reason, after we use the gradients to do a gradient descent step, we need to set them back to zero.\n",
    "\n",
    "We can now do one gradient descent step, and check that our loss decreases:"
   ]
  },
  {
   "cell_type": "code",
   "execution_count": 33,
   "id": "62c94c52",
   "metadata": {
    "execution": {
     "iopub.execute_input": "2025-03-24T06:39:54.970291Z",
     "iopub.status.busy": "2025-03-24T06:39:54.970007Z",
     "iopub.status.idle": "2025-03-24T06:39:54.977709Z",
     "shell.execute_reply": "2025-03-24T06:39:54.976677Z"
    },
    "papermill": {
     "duration": 0.11375,
     "end_time": "2025-03-24T06:39:54.979638",
     "exception": false,
     "start_time": "2025-03-24T06:39:54.865888",
     "status": "completed"
    },
    "tags": []
   },
   "outputs": [
    {
     "name": "stdout",
     "output_type": "stream",
     "text": [
      "tensor(0.4945)\n"
     ]
    }
   ],
   "source": [
    "loss = calc_loss(coeffs, t_indep, t_dep)\n",
    "loss.backward()\n",
    "with torch.no_grad():\n",
    "    coeffs.sub_(coeffs.grad * 0.1)\n",
    "    coeffs.grad.zero_()\n",
    "    print(calc_loss(coeffs, t_indep, t_dep))"
   ]
  },
  {
   "cell_type": "markdown",
   "id": "13d43e59",
   "metadata": {
    "papermill": {
     "duration": 0.099734,
     "end_time": "2025-03-24T06:39:55.181592",
     "exception": false,
     "start_time": "2025-03-24T06:39:55.081858",
     "status": "completed"
    },
    "tags": []
   },
   "source": [
    "Note that `a.sub_(b)` subtracts `b` from `a` in-place. In PyTorch, any method that ends in `_` changes its object in-place. Similarly, `a.zero_()` sets all elements of a tensor to zero."
   ]
  },
  {
   "cell_type": "markdown",
   "id": "675cf147",
   "metadata": {
    "papermill": {
     "duration": 0.101289,
     "end_time": "2025-03-24T06:39:55.383483",
     "exception": false,
     "start_time": "2025-03-24T06:39:55.282194",
     "status": "completed"
    },
    "tags": []
   },
   "source": [
    "## Training the linear model"
   ]
  },
  {
   "cell_type": "markdown",
   "id": "bf5db245",
   "metadata": {
    "papermill": {
     "duration": 0.099881,
     "end_time": "2025-03-24T06:39:55.584673",
     "exception": false,
     "start_time": "2025-03-24T06:39:55.484792",
     "status": "completed"
    },
    "tags": []
   },
   "source": [
    "Before we begin training our model, we'll need to ensure that we hold out a validation set for calculating our metrics (for details on this, see \"[Getting started with NLP for absolute beginners](https://www.kaggle.com/code/jhoward/getting-started-with-nlp-for-absolute-beginners#Test-and-validation-sets)\".\n",
    "\n",
    "There's lots of different ways we can do this. In the next notebook we'll be comparing our approach here to what the fastai library does, so we'll want to ensure we split the data in the same way. So let's use `RandomSplitter` to get indices that will split our data into training and validation sets:"
   ]
  },
  {
   "cell_type": "code",
   "execution_count": 34,
   "id": "d28c6e81",
   "metadata": {
    "execution": {
     "iopub.execute_input": "2025-03-24T06:39:55.788419Z",
     "iopub.status.busy": "2025-03-24T06:39:55.788146Z",
     "iopub.status.idle": "2025-03-24T06:39:56.989310Z",
     "shell.execute_reply": "2025-03-24T06:39:56.988354Z"
    },
    "papermill": {
     "duration": 1.306048,
     "end_time": "2025-03-24T06:39:56.992646",
     "exception": false,
     "start_time": "2025-03-24T06:39:55.686598",
     "status": "completed"
    },
    "tags": []
   },
   "outputs": [],
   "source": [
    "from fastai.data.transforms import RandomSplitter\n",
    "trn_split,val_split=RandomSplitter(seed=42)(df)"
   ]
  },
  {
   "cell_type": "markdown",
   "id": "8facd62a",
   "metadata": {
    "papermill": {
     "duration": 0.123465,
     "end_time": "2025-03-24T06:39:57.224048",
     "exception": false,
     "start_time": "2025-03-24T06:39:57.100583",
     "status": "completed"
    },
    "tags": []
   },
   "source": [
    "Now we can apply those indicies to our independent and dependent variables:"
   ]
  },
  {
   "cell_type": "code",
   "execution_count": 35,
   "id": "b4081d7d",
   "metadata": {
    "execution": {
     "iopub.execute_input": "2025-03-24T06:39:57.427691Z",
     "iopub.status.busy": "2025-03-24T06:39:57.427346Z",
     "iopub.status.idle": "2025-03-24T06:39:57.437733Z",
     "shell.execute_reply": "2025-03-24T06:39:57.436961Z"
    },
    "papermill": {
     "duration": 0.113435,
     "end_time": "2025-03-24T06:39:57.439576",
     "exception": false,
     "start_time": "2025-03-24T06:39:57.326141",
     "status": "completed"
    },
    "tags": []
   },
   "outputs": [
    {
     "data": {
      "text/plain": [
       "(713, 178)"
      ]
     },
     "execution_count": 35,
     "metadata": {},
     "output_type": "execute_result"
    }
   ],
   "source": [
    "trn_indep,val_indep = t_indep[trn_split],t_indep[val_split]\n",
    "trn_dep,val_dep = t_dep[trn_split],t_dep[val_split]\n",
    "len(trn_indep),len(val_indep)"
   ]
  },
  {
   "cell_type": "markdown",
   "id": "8e501352",
   "metadata": {
    "papermill": {
     "duration": 0.100273,
     "end_time": "2025-03-24T06:39:57.640006",
     "exception": false,
     "start_time": "2025-03-24T06:39:57.539733",
     "status": "completed"
    },
    "tags": []
   },
   "source": [
    "We'll create functions for the three things we did manually above: updating `coeffs`, doing one full gradient descent step, and initilising `coeffs` to random numbers:"
   ]
  },
  {
   "cell_type": "code",
   "execution_count": 36,
   "id": "0abb1842",
   "metadata": {
    "execution": {
     "iopub.execute_input": "2025-03-24T06:39:57.842947Z",
     "iopub.status.busy": "2025-03-24T06:39:57.842665Z",
     "iopub.status.idle": "2025-03-24T06:39:57.846909Z",
     "shell.execute_reply": "2025-03-24T06:39:57.846097Z"
    },
    "papermill": {
     "duration": 0.109,
     "end_time": "2025-03-24T06:39:57.848900",
     "exception": false,
     "start_time": "2025-03-24T06:39:57.739900",
     "status": "completed"
    },
    "tags": []
   },
   "outputs": [],
   "source": [
    "def update_coeffs(coeffs, lr):\n",
    "    coeffs.sub_(coeffs.grad * lr)\n",
    "    coeffs.grad.zero_()"
   ]
  },
  {
   "cell_type": "code",
   "execution_count": 37,
   "id": "6668c447",
   "metadata": {
    "execution": {
     "iopub.execute_input": "2025-03-24T06:39:58.054021Z",
     "iopub.status.busy": "2025-03-24T06:39:58.053254Z",
     "iopub.status.idle": "2025-03-24T06:39:58.058049Z",
     "shell.execute_reply": "2025-03-24T06:39:58.057276Z"
    },
    "papermill": {
     "duration": 0.10925,
     "end_time": "2025-03-24T06:39:58.059929",
     "exception": false,
     "start_time": "2025-03-24T06:39:57.950679",
     "status": "completed"
    },
    "tags": []
   },
   "outputs": [],
   "source": [
    "def one_epoch(coeffs, lr):\n",
    "    loss = calc_loss(coeffs, trn_indep, trn_dep)\n",
    "    loss.backward()\n",
    "    with torch.no_grad(): update_coeffs(coeffs, lr)\n",
    "    print(f\"{loss:.3f}\", end=\"; \")"
   ]
  },
  {
   "cell_type": "code",
   "execution_count": 38,
   "id": "ccc223fb",
   "metadata": {
    "execution": {
     "iopub.execute_input": "2025-03-24T06:39:58.265924Z",
     "iopub.status.busy": "2025-03-24T06:39:58.265654Z",
     "iopub.status.idle": "2025-03-24T06:39:58.270198Z",
     "shell.execute_reply": "2025-03-24T06:39:58.269321Z"
    },
    "papermill": {
     "duration": 0.110153,
     "end_time": "2025-03-24T06:39:58.272150",
     "exception": false,
     "start_time": "2025-03-24T06:39:58.161997",
     "status": "completed"
    },
    "tags": []
   },
   "outputs": [],
   "source": [
    "def init_coeffs(): return (torch.rand(n_coeff)-0.5).requires_grad_()"
   ]
  },
  {
   "cell_type": "markdown",
   "id": "3c2d0ebe",
   "metadata": {
    "papermill": {
     "duration": 0.099636,
     "end_time": "2025-03-24T06:39:58.472666",
     "exception": false,
     "start_time": "2025-03-24T06:39:58.373030",
     "status": "completed"
    },
    "tags": []
   },
   "source": [
    "We can now use these functions to train our model:"
   ]
  },
  {
   "cell_type": "code",
   "execution_count": 39,
   "id": "a60b692c",
   "metadata": {
    "execution": {
     "iopub.execute_input": "2025-03-24T06:39:58.674930Z",
     "iopub.status.busy": "2025-03-24T06:39:58.674656Z",
     "iopub.status.idle": "2025-03-24T06:39:58.679422Z",
     "shell.execute_reply": "2025-03-24T06:39:58.678583Z"
    },
    "papermill": {
     "duration": 0.107491,
     "end_time": "2025-03-24T06:39:58.681217",
     "exception": false,
     "start_time": "2025-03-24T06:39:58.573726",
     "status": "completed"
    },
    "tags": []
   },
   "outputs": [],
   "source": [
    "def train_model(epochs=30, lr=0.01):\n",
    "    torch.manual_seed(442)\n",
    "    coeffs = init_coeffs()\n",
    "    for i in range(epochs): one_epoch(coeffs, lr=lr)\n",
    "    return coeffs"
   ]
  },
  {
   "cell_type": "markdown",
   "id": "6ce37f4b",
   "metadata": {
    "papermill": {
     "duration": 0.100873,
     "end_time": "2025-03-24T06:39:58.882247",
     "exception": false,
     "start_time": "2025-03-24T06:39:58.781374",
     "status": "completed"
    },
    "tags": []
   },
   "source": [
    "Let's try it. Our loss will print at the end of every step, so we hope we'll see it going down:"
   ]
  },
  {
   "cell_type": "code",
   "execution_count": 40,
   "id": "45840572",
   "metadata": {
    "execution": {
     "iopub.execute_input": "2025-03-24T06:39:59.089456Z",
     "iopub.status.busy": "2025-03-24T06:39:59.088698Z",
     "iopub.status.idle": "2025-03-24T06:39:59.101617Z",
     "shell.execute_reply": "2025-03-24T06:39:59.100800Z"
    },
    "papermill": {
     "duration": 0.119983,
     "end_time": "2025-03-24T06:39:59.103597",
     "exception": false,
     "start_time": "2025-03-24T06:39:58.983614",
     "status": "completed"
    },
    "tags": []
   },
   "outputs": [
    {
     "name": "stdout",
     "output_type": "stream",
     "text": [
      "0.536; 0.502; 0.477; 0.454; 0.431; 0.409; 0.388; 0.367; 0.349; 0.336; 0.330; 0.326; 0.329; 0.304; 0.314; 0.296; 0.300; 0.289; "
     ]
    }
   ],
   "source": [
    "coeffs = train_model(18, lr=0.2)"
   ]
  },
  {
   "cell_type": "markdown",
   "id": "92e078a3",
   "metadata": {
    "papermill": {
     "duration": 0.101322,
     "end_time": "2025-03-24T06:39:59.307585",
     "exception": false,
     "start_time": "2025-03-24T06:39:59.206263",
     "status": "completed"
    },
    "tags": []
   },
   "source": [
    "It does!\n",
    "\n",
    "Let's take a look at the coefficients for each column:"
   ]
  },
  {
   "cell_type": "code",
   "execution_count": 41,
   "id": "1d6b4046",
   "metadata": {
    "execution": {
     "iopub.execute_input": "2025-03-24T06:39:59.510034Z",
     "iopub.status.busy": "2025-03-24T06:39:59.509380Z",
     "iopub.status.idle": "2025-03-24T06:39:59.519582Z",
     "shell.execute_reply": "2025-03-24T06:39:59.518568Z"
    },
    "papermill": {
     "duration": 0.114015,
     "end_time": "2025-03-24T06:39:59.521735",
     "exception": false,
     "start_time": "2025-03-24T06:39:59.407720",
     "status": "completed"
    },
    "tags": []
   },
   "outputs": [
    {
     "data": {
      "text/plain": [
       "{'Age': tensor(-0.2694),\n",
       " 'SibSp': tensor(0.0901),\n",
       " 'Parch': tensor(0.2359),\n",
       " 'LogFare': tensor(0.0280),\n",
       " 'Sex_male': tensor(-0.3990),\n",
       " 'Sex_female': tensor(0.2345),\n",
       " 'Pclass_1': tensor(0.7232),\n",
       " 'Pclass_2': tensor(0.4112),\n",
       " 'Pclass_3': tensor(0.3601),\n",
       " 'Embarked_C': tensor(0.0955),\n",
       " 'Embarked_Q': tensor(0.2395),\n",
       " 'Embarked_S': tensor(0.2122)}"
      ]
     },
     "execution_count": 41,
     "metadata": {},
     "output_type": "execute_result"
    }
   ],
   "source": [
    "def show_coeffs(): return dict(zip(indep_cols, coeffs.requires_grad_(False)))\n",
    "show_coeffs()"
   ]
  },
  {
   "cell_type": "markdown",
   "id": "d30b03f5",
   "metadata": {
    "papermill": {
     "duration": 0.102604,
     "end_time": "2025-03-24T06:39:59.727416",
     "exception": false,
     "start_time": "2025-03-24T06:39:59.624812",
     "status": "completed"
    },
    "tags": []
   },
   "source": [
    "## Measuring accuracy"
   ]
  },
  {
   "cell_type": "markdown",
   "id": "bcace441",
   "metadata": {
    "papermill": {
     "duration": 0.118132,
     "end_time": "2025-03-24T06:39:59.946783",
     "exception": false,
     "start_time": "2025-03-24T06:39:59.828651",
     "status": "completed"
    },
    "tags": []
   },
   "source": [
    "The Kaggle competition is not, however, scored by absolute error (which is our loss function). It's scored by *accuracy* -- the proportion of rows where we correctly predict survival. Let's see how accurate we were on the validation set. First, calculate the predictions:"
   ]
  },
  {
   "cell_type": "code",
   "execution_count": 42,
   "id": "c6d10f14",
   "metadata": {
    "execution": {
     "iopub.execute_input": "2025-03-24T06:40:00.155676Z",
     "iopub.status.busy": "2025-03-24T06:40:00.155344Z",
     "iopub.status.idle": "2025-03-24T06:40:00.159607Z",
     "shell.execute_reply": "2025-03-24T06:40:00.158788Z"
    },
    "papermill": {
     "duration": 0.11096,
     "end_time": "2025-03-24T06:40:00.161613",
     "exception": false,
     "start_time": "2025-03-24T06:40:00.050653",
     "status": "completed"
    },
    "tags": []
   },
   "outputs": [],
   "source": [
    "preds = calc_preds(coeffs, val_indep)"
   ]
  },
  {
   "cell_type": "markdown",
   "id": "df3455ed",
   "metadata": {
    "papermill": {
     "duration": 0.101634,
     "end_time": "2025-03-24T06:40:00.366187",
     "exception": false,
     "start_time": "2025-03-24T06:40:00.264553",
     "status": "completed"
    },
    "tags": []
   },
   "source": [
    "We'll assume that any passenger with a score of over `0.5` is predicted to survive. So that means we're correct for each row where `preds>0.5` is the same as the dependent variable:"
   ]
  },
  {
   "cell_type": "code",
   "execution_count": 43,
   "id": "f0910bf6",
   "metadata": {
    "execution": {
     "iopub.execute_input": "2025-03-24T06:40:00.571034Z",
     "iopub.status.busy": "2025-03-24T06:40:00.570251Z",
     "iopub.status.idle": "2025-03-24T06:40:00.577322Z",
     "shell.execute_reply": "2025-03-24T06:40:00.576520Z"
    },
    "papermill": {
     "duration": 0.111496,
     "end_time": "2025-03-24T06:40:00.579294",
     "exception": false,
     "start_time": "2025-03-24T06:40:00.467798",
     "status": "completed"
    },
    "tags": []
   },
   "outputs": [
    {
     "data": {
      "text/plain": [
       "tensor([ True,  True,  True,  True,  True,  True,  True,  True,  True,  True, False, False, False,  True,  True, False])"
      ]
     },
     "execution_count": 43,
     "metadata": {},
     "output_type": "execute_result"
    }
   ],
   "source": [
    "results = val_dep.bool()==(preds>0.5)\n",
    "results[:16]"
   ]
  },
  {
   "cell_type": "markdown",
   "id": "bf3bb1cb",
   "metadata": {
    "papermill": {
     "duration": 0.100928,
     "end_time": "2025-03-24T06:40:00.781523",
     "exception": false,
     "start_time": "2025-03-24T06:40:00.680595",
     "status": "completed"
    },
    "tags": []
   },
   "source": [
    "Let's see what our average accuracy is:"
   ]
  },
  {
   "cell_type": "code",
   "execution_count": 44,
   "id": "741c7ef7",
   "metadata": {
    "execution": {
     "iopub.execute_input": "2025-03-24T06:40:00.984758Z",
     "iopub.status.busy": "2025-03-24T06:40:00.984344Z",
     "iopub.status.idle": "2025-03-24T06:40:00.991396Z",
     "shell.execute_reply": "2025-03-24T06:40:00.990363Z"
    },
    "papermill": {
     "duration": 0.111326,
     "end_time": "2025-03-24T06:40:00.993401",
     "exception": false,
     "start_time": "2025-03-24T06:40:00.882075",
     "status": "completed"
    },
    "tags": []
   },
   "outputs": [
    {
     "data": {
      "text/plain": [
       "tensor(0.7865)"
      ]
     },
     "execution_count": 44,
     "metadata": {},
     "output_type": "execute_result"
    }
   ],
   "source": [
    "results.float().mean()"
   ]
  },
  {
   "cell_type": "markdown",
   "id": "9a9ae6ce",
   "metadata": {
    "papermill": {
     "duration": 0.100979,
     "end_time": "2025-03-24T06:40:01.200159",
     "exception": false,
     "start_time": "2025-03-24T06:40:01.099180",
     "status": "completed"
    },
    "tags": []
   },
   "source": [
    "That's not a bad start at all! We'll create a function so we can calcuate the accuracy easy for other models we train:"
   ]
  },
  {
   "cell_type": "code",
   "execution_count": 45,
   "id": "1f7ad457",
   "metadata": {
    "execution": {
     "iopub.execute_input": "2025-03-24T06:40:01.407285Z",
     "iopub.status.busy": "2025-03-24T06:40:01.406971Z",
     "iopub.status.idle": "2025-03-24T06:40:01.414591Z",
     "shell.execute_reply": "2025-03-24T06:40:01.413702Z"
    },
    "papermill": {
     "duration": 0.113644,
     "end_time": "2025-03-24T06:40:01.416534",
     "exception": false,
     "start_time": "2025-03-24T06:40:01.302890",
     "status": "completed"
    },
    "tags": []
   },
   "outputs": [
    {
     "data": {
      "text/plain": [
       "tensor(0.7865)"
      ]
     },
     "execution_count": 45,
     "metadata": {},
     "output_type": "execute_result"
    }
   ],
   "source": [
    "def acc(coeffs): return (val_dep.bool()==(calc_preds(coeffs, val_indep)>0.5)).float().mean()\n",
    "acc(coeffs)"
   ]
  },
  {
   "cell_type": "markdown",
   "id": "0fd5a109",
   "metadata": {
    "papermill": {
     "duration": 0.102409,
     "end_time": "2025-03-24T06:40:01.623242",
     "exception": false,
     "start_time": "2025-03-24T06:40:01.520833",
     "status": "completed"
    },
    "tags": []
   },
   "source": [
    "## Using sigmoid"
   ]
  },
  {
   "cell_type": "markdown",
   "id": "2d84fba2",
   "metadata": {
    "papermill": {
     "duration": 0.101548,
     "end_time": "2025-03-24T06:40:01.829354",
     "exception": false,
     "start_time": "2025-03-24T06:40:01.727806",
     "status": "completed"
    },
    "tags": []
   },
   "source": [
    "Looking at our predictions, there's one obvious problem -- some of our predictions of the probability of survival are `>1`, and some are `<0`:"
   ]
  },
  {
   "cell_type": "code",
   "execution_count": 46,
   "id": "5d5bd6cd",
   "metadata": {
    "execution": {
     "iopub.execute_input": "2025-03-24T06:40:02.037887Z",
     "iopub.status.busy": "2025-03-24T06:40:02.037138Z",
     "iopub.status.idle": "2025-03-24T06:40:02.044101Z",
     "shell.execute_reply": "2025-03-24T06:40:02.043305Z"
    },
    "papermill": {
     "duration": 0.112931,
     "end_time": "2025-03-24T06:40:02.045936",
     "exception": false,
     "start_time": "2025-03-24T06:40:01.933005",
     "status": "completed"
    },
    "tags": []
   },
   "outputs": [
    {
     "data": {
      "text/plain": [
       "tensor([ 0.8160,  0.1295, -0.0148,  0.1831,  0.1520,  0.1350,  0.7279,  0.7754,  0.3222,  0.6740,  0.0753,  0.0389,  0.2216,  0.7631,\n",
       "         0.0678,  0.3997,  0.3324,  0.8278,  0.1078,  0.7126,  0.1023,  0.3627,  0.9937,  0.8050,  0.1153,  0.1455,  0.8652,  0.3425])"
      ]
     },
     "execution_count": 46,
     "metadata": {},
     "output_type": "execute_result"
    }
   ],
   "source": [
    "preds[:28]"
   ]
  },
  {
   "cell_type": "markdown",
   "id": "e4709c45",
   "metadata": {
    "papermill": {
     "duration": 0.103181,
     "end_time": "2025-03-24T06:40:02.253246",
     "exception": false,
     "start_time": "2025-03-24T06:40:02.150065",
     "status": "completed"
    },
    "tags": []
   },
   "source": [
    "To fix this, we should pass every prediction through the *sigmoid function*, which has a minimum at zero and maximum at one, and is defined as follows:"
   ]
  },
  {
   "cell_type": "code",
   "execution_count": 47,
   "id": "e7b78eac",
   "metadata": {
    "execution": {
     "iopub.execute_input": "2025-03-24T06:40:02.463890Z",
     "iopub.status.busy": "2025-03-24T06:40:02.463118Z",
     "iopub.status.idle": "2025-03-24T06:40:03.567811Z",
     "shell.execute_reply": "2025-03-24T06:40:03.566649Z"
    },
    "papermill": {
     "duration": 1.211353,
     "end_time": "2025-03-24T06:40:03.570264",
     "exception": false,
     "start_time": "2025-03-24T06:40:02.358911",
     "status": "completed"
    },
    "tags": []
   },
   "outputs": [
    {
     "data": {
      "image/png": "[encoded data removed]",
      "text/plain": [
       "<Figure size 432x288 with 1 Axes>"
      ]
     },
     "metadata": {
      "needs_background": "light"
     },
     "output_type": "display_data"
    }
   ],
   "source": [
    "import sympy\n",
    "sympy.plot(\"1/(1+exp(-x))\", xlim=(-5,5));"
   ]
  },
  {
   "cell_type": "markdown",
   "id": "b52321a2",
   "metadata": {
    "papermill": {
     "duration": 0.117933,
     "end_time": "2025-03-24T06:40:03.806862",
     "exception": false,
     "start_time": "2025-03-24T06:40:03.688929",
     "status": "completed"
    },
    "tags": []
   },
   "source": [
    "PyTorch already defines that function for us, so we can modify `calc_preds` to use it:"
   ]
  },
  {
   "cell_type": "code",
   "execution_count": 48,
   "id": "2b535f7a",
   "metadata": {
    "execution": {
     "iopub.execute_input": "2025-03-24T06:40:04.017788Z",
     "iopub.status.busy": "2025-03-24T06:40:04.016974Z",
     "iopub.status.idle": "2025-03-24T06:40:04.021645Z",
     "shell.execute_reply": "2025-03-24T06:40:04.020812Z"
    },
    "papermill": {
     "duration": 0.111679,
     "end_time": "2025-03-24T06:40:04.023537",
     "exception": false,
     "start_time": "2025-03-24T06:40:03.911858",
     "status": "completed"
    },
    "tags": []
   },
   "outputs": [],
   "source": [
    "def calc_preds(coeffs, indeps): return torch.sigmoid((indeps*coeffs).sum(axis=1))"
   ]
  },
  {
   "cell_type": "markdown",
   "id": "60735f6f",
   "metadata": {
    "papermill": {
     "duration": 0.102714,
     "end_time": "2025-03-24T06:40:04.234473",
     "exception": false,
     "start_time": "2025-03-24T06:40:04.131759",
     "status": "completed"
    },
    "tags": []
   },
   "source": [
    "Let's train a new model now, using this updated function to calculate predictions:"
   ]
  },
  {
   "cell_type": "code",
   "execution_count": 49,
   "id": "535f7e45",
   "metadata": {
    "execution": {
     "iopub.execute_input": "2025-03-24T06:40:04.447502Z",
     "iopub.status.busy": "2025-03-24T06:40:04.446567Z",
     "iopub.status.idle": "2025-03-24T06:40:04.469321Z",
     "shell.execute_reply": "2025-03-24T06:40:04.468485Z"
    },
    "papermill": {
     "duration": 0.132579,
     "end_time": "2025-03-24T06:40:04.471841",
     "exception": false,
     "start_time": "2025-03-24T06:40:04.339262",
     "status": "completed"
    },
    "tags": []
   },
   "outputs": [
    {
     "name": "stdout",
     "output_type": "stream",
     "text": [
      "0.510; 0.327; 0.294; 0.207; 0.201; 0.199; 0.198; 0.197; 0.196; 0.196; 0.196; 0.195; 0.195; 0.195; 0.195; 0.195; 0.195; 0.195; 0.194; 0.194; 0.194; 0.194; 0.194; 0.194; 0.194; 0.194; 0.194; 0.194; 0.194; 0.194; "
     ]
    }
   ],
   "source": [
    "coeffs = train_model(lr=100)"
   ]
  },
  {
   "cell_type": "markdown",
   "id": "871d1166",
   "metadata": {
    "papermill": {
     "duration": 0.105013,
     "end_time": "2025-03-24T06:40:04.690207",
     "exception": false,
     "start_time": "2025-03-24T06:40:04.585194",
     "status": "completed"
    },
    "tags": []
   },
   "source": [
    "The loss has improved by a lot. Let's check the accuracy:"
   ]
  },
  {
   "cell_type": "code",
   "execution_count": 50,
   "id": "f85cccfd",
   "metadata": {
    "execution": {
     "iopub.execute_input": "2025-03-24T06:40:04.902142Z",
     "iopub.status.busy": "2025-03-24T06:40:04.901851Z",
     "iopub.status.idle": "2025-03-24T06:40:04.908157Z",
     "shell.execute_reply": "2025-03-24T06:40:04.907364Z"
    },
    "papermill": {
     "duration": 0.11267,
     "end_time": "2025-03-24T06:40:04.910086",
     "exception": false,
     "start_time": "2025-03-24T06:40:04.797416",
     "status": "completed"
    },
    "tags": []
   },
   "outputs": [
    {
     "data": {
      "text/plain": [
       "tensor(0.8258)"
      ]
     },
     "execution_count": 50,
     "metadata": {},
     "output_type": "execute_result"
    }
   ],
   "source": [
    "acc(coeffs)"
   ]
  },
  {
   "cell_type": "markdown",
   "id": "466ecaed",
   "metadata": {
    "papermill": {
     "duration": 0.105885,
     "end_time": "2025-03-24T06:40:05.181711",
     "exception": false,
     "start_time": "2025-03-24T06:40:05.075826",
     "status": "completed"
    },
    "tags": []
   },
   "source": [
    "That's improved too! Here's the coefficients of our trained model:"
   ]
  },
  {
   "cell_type": "code",
   "execution_count": 51,
   "id": "65d92298",
   "metadata": {
    "execution": {
     "iopub.execute_input": "2025-03-24T06:40:05.392829Z",
     "iopub.status.busy": "2025-03-24T06:40:05.392532Z",
     "iopub.status.idle": "2025-03-24T06:40:05.402019Z",
     "shell.execute_reply": "2025-03-24T06:40:05.401192Z"
    },
    "papermill": {
     "duration": 0.11731,
     "end_time": "2025-03-24T06:40:05.403919",
     "exception": false,
     "start_time": "2025-03-24T06:40:05.286609",
     "status": "completed"
    },
    "tags": []
   },
   "outputs": [
    {
     "data": {
      "text/plain": [
       "{'Age': tensor(-1.5061),\n",
       " 'SibSp': tensor(-1.1575),\n",
       " 'Parch': tensor(-0.4267),\n",
       " 'LogFare': tensor(0.2543),\n",
       " 'Sex_male': tensor(-10.3320),\n",
       " 'Sex_female': tensor(8.4185),\n",
       " 'Pclass_1': tensor(3.8389),\n",
       " 'Pclass_2': tensor(2.1398),\n",
       " 'Pclass_3': tensor(-6.2331),\n",
       " 'Embarked_C': tensor(1.4771),\n",
       " 'Embarked_Q': tensor(2.1168),\n",
       " 'Embarked_S': tensor(-4.7958)}"
      ]
     },
     "execution_count": 51,
     "metadata": {},
     "output_type": "execute_result"
    }
   ],
   "source": [
    "show_coeffs()"
   ]
  },
  {
   "cell_type": "markdown",
   "id": "475ea3f2",
   "metadata": {
    "papermill": {
     "duration": 0.103473,
     "end_time": "2025-03-24T06:40:05.613107",
     "exception": false,
     "start_time": "2025-03-24T06:40:05.509634",
     "status": "completed"
    },
    "tags": []
   },
   "source": [
    "These coefficients seem reasonable -- in general, older people and males were less likely to survive, and first class passengers were more likely to survive."
   ]
  },
  {
   "cell_type": "markdown",
   "id": "19c635c5",
   "metadata": {
    "papermill": {
     "duration": 0.103306,
     "end_time": "2025-03-24T06:40:05.820323",
     "exception": false,
     "start_time": "2025-03-24T06:40:05.717017",
     "status": "completed"
    },
    "tags": []
   },
   "source": [
    "## Submitting to Kaggle"
   ]
  },
  {
   "cell_type": "markdown",
   "id": "1d3844cc",
   "metadata": {
    "papermill": {
     "duration": 0.104153,
     "end_time": "2025-03-24T06:40:06.029496",
     "exception": false,
     "start_time": "2025-03-24T06:40:05.925343",
     "status": "completed"
    },
    "tags": []
   },
   "source": [
    "Now that we've got a trained model, we can prepare a submission to Kaggle. To do that, first we need to read the test set:"
   ]
  },
  {
   "cell_type": "code",
   "execution_count": 52,
   "id": "3983b917",
   "metadata": {
    "execution": {
     "iopub.execute_input": "2025-03-24T06:40:06.243372Z",
     "iopub.status.busy": "2025-03-24T06:40:06.243062Z",
     "iopub.status.idle": "2025-03-24T06:40:06.255808Z",
     "shell.execute_reply": "2025-03-24T06:40:06.254954Z"
    },
    "papermill": {
     "duration": 0.12273,
     "end_time": "2025-03-24T06:40:06.258076",
     "exception": false,
     "start_time": "2025-03-24T06:40:06.135346",
     "status": "completed"
    },
    "tags": []
   },
   "outputs": [],
   "source": [
    "tst_df = pd.read_csv(path/'test.csv')"
   ]
  },
  {
   "cell_type": "markdown",
   "id": "fec1dd68",
   "metadata": {
    "papermill": {
     "duration": 0.10383,
     "end_time": "2025-03-24T06:40:06.469360",
     "exception": false,
     "start_time": "2025-03-24T06:40:06.365530",
     "status": "completed"
    },
    "tags": []
   },
   "source": [
    "In this case, it turns out that the test set is missing `Fare` for one passenger. We'll just fill it with `0` to avoid problems:"
   ]
  },
  {
   "cell_type": "code",
   "execution_count": 53,
   "id": "50d5a137",
   "metadata": {
    "execution": {
     "iopub.execute_input": "2025-03-24T06:40:06.680754Z",
     "iopub.status.busy": "2025-03-24T06:40:06.680426Z",
     "iopub.status.idle": "2025-03-24T06:40:06.685732Z",
     "shell.execute_reply": "2025-03-24T06:40:06.684809Z"
    },
    "papermill": {
     "duration": 0.113787,
     "end_time": "2025-03-24T06:40:06.687665",
     "exception": false,
     "start_time": "2025-03-24T06:40:06.573878",
     "status": "completed"
    },
    "tags": []
   },
   "outputs": [],
   "source": [
    "tst_df['Fare'] = tst_df.Fare.fillna(0)"
   ]
  },
  {
   "cell_type": "markdown",
   "id": "80d6d94f",
   "metadata": {
    "papermill": {
     "duration": 0.108516,
     "end_time": "2025-03-24T06:40:06.903308",
     "exception": false,
     "start_time": "2025-03-24T06:40:06.794792",
     "status": "completed"
    },
    "tags": []
   },
   "source": [
    "Now we can just copy the same steps we did to our training set and do the same exact things on our test set to preprocess the data:"
   ]
  },
  {
   "cell_type": "code",
   "execution_count": 54,
   "id": "fbb26669",
   "metadata": {
    "execution": {
     "iopub.execute_input": "2025-03-24T06:40:07.120394Z",
     "iopub.status.busy": "2025-03-24T06:40:07.120091Z",
     "iopub.status.idle": "2025-03-24T06:40:07.139011Z",
     "shell.execute_reply": "2025-03-24T06:40:07.137994Z"
    },
    "papermill": {
     "duration": 0.12842,
     "end_time": "2025-03-24T06:40:07.141954",
     "exception": false,
     "start_time": "2025-03-24T06:40:07.013534",
     "status": "completed"
    },
    "tags": []
   },
   "outputs": [],
   "source": [
    "tst_df.fillna(modes, inplace=True)\n",
    "tst_df['LogFare'] = np.log(tst_df['Fare']+1)\n",
    "tst_df = pd.get_dummies(tst_df, columns=[\"Sex\",\"Pclass\",\"Embarked\"])\n",
    "\n",
    "tst_indep = tensor(tst_df[indep_cols].values, dtype=torch.float)\n",
    "tst_indep = tst_indep / vals"
   ]
  },
  {
   "cell_type": "markdown",
   "id": "089aba43",
   "metadata": {
    "papermill": {
     "duration": 0.104379,
     "end_time": "2025-03-24T06:40:07.372307",
     "exception": false,
     "start_time": "2025-03-24T06:40:07.267928",
     "status": "completed"
    },
    "tags": []
   },
   "source": [
    "Let's calculate our predictions of which passengers survived in the test set:"
   ]
  },
  {
   "cell_type": "code",
   "execution_count": 55,
   "id": "269c0e1b",
   "metadata": {
    "execution": {
     "iopub.execute_input": "2025-03-24T06:40:07.580331Z",
     "iopub.status.busy": "2025-03-24T06:40:07.580047Z",
     "iopub.status.idle": "2025-03-24T06:40:07.585316Z",
     "shell.execute_reply": "2025-03-24T06:40:07.584681Z"
    },
    "papermill": {
     "duration": 0.111616,
     "end_time": "2025-03-24T06:40:07.587215",
     "exception": false,
     "start_time": "2025-03-24T06:40:07.475599",
     "status": "completed"
    },
    "tags": []
   },
   "outputs": [],
   "source": [
    "tst_df['Survived'] = (calc_preds(tst_indep, coeffs)>0.5).int()"
   ]
  },
  {
   "cell_type": "markdown",
   "id": "c32aff53",
   "metadata": {
    "papermill": {
     "duration": 0.103076,
     "end_time": "2025-03-24T06:40:07.793476",
     "exception": false,
     "start_time": "2025-03-24T06:40:07.690400",
     "status": "completed"
    },
    "tags": []
   },
   "source": [
    "The sample submission on the Kaggle competition site shows that we're expected to upload a CSV with just `PassengerId` and `Survived`, so let's create that and save it:"
   ]
  },
  {
   "cell_type": "code",
   "execution_count": 56,
   "id": "42a4becb",
   "metadata": {
    "execution": {
     "iopub.execute_input": "2025-03-24T06:40:08.003139Z",
     "iopub.status.busy": "2025-03-24T06:40:08.002851Z",
     "iopub.status.idle": "2025-03-24T06:40:08.012210Z",
     "shell.execute_reply": "2025-03-24T06:40:08.011620Z"
    },
    "papermill": {
     "duration": 0.116589,
     "end_time": "2025-03-24T06:40:08.014287",
     "exception": false,
     "start_time": "2025-03-24T06:40:07.897698",
     "status": "completed"
    },
    "tags": []
   },
   "outputs": [],
   "source": [
    "sub_df = tst_df[['PassengerId','Survived']]\n",
    "sub_df.to_csv('sub.csv', index=False)"
   ]
  },
  {
   "cell_type": "markdown",
   "id": "276c50e6",
   "metadata": {
    "papermill": {
     "duration": 0.106178,
     "end_time": "2025-03-24T06:40:08.228223",
     "exception": false,
     "start_time": "2025-03-24T06:40:08.122045",
     "status": "completed"
    },
    "tags": []
   },
   "source": [
    "We can check the first few rows of the file to make sure it looks reasonable:"
   ]
  },
  {
   "cell_type": "code",
   "execution_count": 57,
   "id": "d15cd290",
   "metadata": {
    "execution": {
     "iopub.execute_input": "2025-03-24T06:40:08.440982Z",
     "iopub.status.busy": "2025-03-24T06:40:08.440708Z",
     "iopub.status.idle": "2025-03-24T06:40:09.518655Z",
     "shell.execute_reply": "2025-03-24T06:40:09.517386Z"
    },
    "papermill": {
     "duration": 1.187171,
     "end_time": "2025-03-24T06:40:09.521167",
     "exception": false,
     "start_time": "2025-03-24T06:40:08.333996",
     "status": "completed"
    },
    "tags": []
   },
   "outputs": [
    {
     "name": "stdout",
     "output_type": "stream",
     "text": [
      "PassengerId,Survived\r\n",
      "892,0\r\n",
      "893,0\r\n",
      "894,0\r\n",
      "895,0\r\n",
      "896,0\r\n",
      "897,0\r\n",
      "898,1\r\n",
      "899,0\r\n",
      "900,1\r\n"
     ]
    }
   ],
   "source": [
    "!head sub.csv"
   ]
  },
  {
   "cell_type": "markdown",
   "id": "67b1702a",
   "metadata": {
    "papermill": {
     "duration": 0.10473,
     "end_time": "2025-03-24T06:40:09.732092",
     "exception": false,
     "start_time": "2025-03-24T06:40:09.627362",
     "status": "completed"
    },
    "tags": []
   },
   "source": [
    "When you click \"save version\" in Kaggle, and wait for the notebook to run, you'll see that `sub.csv` appears in the \"Data\" tab. Clicking on that file will show a *Submit* button, which allows you to submit to the competition."
   ]
  },
  {
   "cell_type": "markdown",
   "id": "38aebf25",
   "metadata": {
    "papermill": {
     "duration": 0.10701,
     "end_time": "2025-03-24T06:40:09.944022",
     "exception": false,
     "start_time": "2025-03-24T06:40:09.837012",
     "status": "completed"
    },
    "tags": []
   },
   "source": [
    "## Using matrix product"
   ]
  },
  {
   "cell_type": "markdown",
   "id": "98a4d257",
   "metadata": {
    "papermill": {
     "duration": 0.107559,
     "end_time": "2025-03-24T06:40:10.156233",
     "exception": false,
     "start_time": "2025-03-24T06:40:10.048674",
     "status": "completed"
    },
    "tags": []
   },
   "source": [
    "We can make things quite a bit neater...\n",
    "\n",
    "Take a look at the inner-most calculation we're doing to get the predictions:"
   ]
  },
  {
   "cell_type": "code",
   "execution_count": 58,
   "id": "3044148d",
   "metadata": {
    "execution": {
     "iopub.execute_input": "2025-03-24T06:40:10.371305Z",
     "iopub.status.busy": "2025-03-24T06:40:10.371004Z",
     "iopub.status.idle": "2025-03-24T06:40:10.381319Z",
     "shell.execute_reply": "2025-03-24T06:40:10.380474Z"
    },
    "papermill": {
     "duration": 0.120418,
     "end_time": "2025-03-24T06:40:10.383273",
     "exception": false,
     "start_time": "2025-03-24T06:40:10.262855",
     "status": "completed"
    },
    "tags": []
   },
   "outputs": [
    {
     "data": {
      "text/plain": [
       "tensor([ 12.3288, -14.8119, -15.4540, -13.1513, -13.3512, -13.6469,   3.6248,   5.3429, -22.0878,   3.1233, -21.8742, -15.6421, -21.5504,\n",
       "          3.9393, -21.9190, -12.0010, -12.3775,   5.3550, -13.5880,  -3.1015, -21.7237, -12.2081,  12.9767,   4.7427, -21.6525, -14.9135,\n",
       "         -2.7433, -12.3210, -21.5886,   3.9387,   5.3890,  -3.6196, -21.6296, -21.8454,  12.2159,  -3.2275, -12.0289,  13.4560, -21.7230,\n",
       "         -3.1366, -13.2462, -21.7230, -13.6831,  13.3092, -21.6477,  -3.5868, -21.6854, -21.8316, -14.8158,  -2.9386,  -5.3103, -22.2384,\n",
       "        -22.1097, -21.7466, -13.3780, -13.4909, -14.8119, -22.0690, -21.6666, -21.7818,  -5.4439, -21.7407, -12.6551, -21.6671,   4.9238,\n",
       "        -11.5777, -13.3323, -21.9638, -15.3030,   5.0243, -21.7614,   3.1820, -13.4721, -21.7170, -11.6066, -21.5737, -21.7230, -11.9652,\n",
       "        -13.2382, -13.7599, -13.2170,  13.1347, -21.7049, -21.7268,   4.9207,  -7.3198,  -5.3081,   7.1065,  11.4948, -13.3135, -21.8723,\n",
       "        -21.7230,  13.3603, -15.5670,   3.4105,  -7.2857, -13.7197,   3.6909,   3.9763, -14.7227, -21.8268,   3.9387, -21.8743, -21.8367,\n",
       "        -11.8518, -13.6712, -21.8299,   4.9440,  -5.4471, -21.9666,   5.1333,  -3.2187, -11.6008,  13.7920, -21.7230,  12.6369,  -3.7268,\n",
       "        -14.8119, -22.0637,  12.9468, -22.1610,  -6.1827, -14.8119,  -3.2838, -15.4540, -11.6950,  -2.9926,  -3.0110, -21.5664, -13.8268,\n",
       "          7.3426, -21.8418,   5.0744,   5.2582,  13.3415, -21.6289, -13.9898, -21.8112,  -7.3316,   5.2296, -13.4453,  12.7891, -22.1235,\n",
       "        -14.9625,  -3.4339,   6.3089, -21.9839,   3.1968,   7.2400,   2.8558,  -3.1187,   3.7965,   5.4667, -15.1101, -15.0597, -22.9391,\n",
       "        -21.7230,  -3.0346, -13.5206, -21.7011,  13.4425,  -7.2690, -21.8335, -12.0582,  13.0489,   6.7993,   5.2160,   5.0794, -12.6957,\n",
       "        -12.1838,  -3.0873, -21.6070,   7.0744, -21.7170, -22.1001,   6.8159, -11.6002, -21.6310])"
      ]
     },
     "execution_count": 58,
     "metadata": {},
     "output_type": "execute_result"
    }
   ],
   "source": [
    "(val_indep*coeffs).sum(axis=1)"
   ]
  },
  {
   "cell_type": "markdown",
   "id": "018535e8",
   "metadata": {
    "papermill": {
     "duration": 0.104281,
     "end_time": "2025-03-24T06:40:10.592317",
     "exception": false,
     "start_time": "2025-03-24T06:40:10.488036",
     "status": "completed"
    },
    "tags": []
   },
   "source": [
    "Multiplying elements together and then adding across rows is identical to doing a matrix-vector product! Python uses the `@` operator to indicate matrix products, and is supported by PyTorch tensors. Therefore, we can replicate the above calculate more simply like so:"
   ]
  },
  {
   "cell_type": "code",
   "execution_count": 59,
   "id": "e1b36e5b",
   "metadata": {
    "execution": {
     "iopub.execute_input": "2025-03-24T06:40:10.802117Z",
     "iopub.status.busy": "2025-03-24T06:40:10.801832Z",
     "iopub.status.idle": "2025-03-24T06:40:10.814665Z",
     "shell.execute_reply": "2025-03-24T06:40:10.813865Z"
    },
    "papermill": {
     "duration": 0.120075,
     "end_time": "2025-03-24T06:40:10.816704",
     "exception": false,
     "start_time": "2025-03-24T06:40:10.696629",
     "status": "completed"
    },
    "tags": []
   },
   "outputs": [
    {
     "data": {
      "text/plain": [
       "tensor([ 12.3288, -14.8119, -15.4540, -13.1513, -13.3511, -13.6468,   3.6248,   5.3429, -22.0878,   3.1233, -21.8742, -15.6421, -21.5504,\n",
       "          3.9393, -21.9190, -12.0010, -12.3775,   5.3550, -13.5880,  -3.1015, -21.7237, -12.2081,  12.9767,   4.7427, -21.6525, -14.9135,\n",
       "         -2.7433, -12.3210, -21.5886,   3.9387,   5.3890,  -3.6196, -21.6296, -21.8454,  12.2159,  -3.2275, -12.0289,  13.4560, -21.7230,\n",
       "         -3.1366, -13.2462, -21.7230, -13.6831,  13.3092, -21.6477,  -3.5868, -21.6854, -21.8316, -14.8158,  -2.9386,  -5.3103, -22.2384,\n",
       "        -22.1097, -21.7466, -13.3780, -13.4909, -14.8119, -22.0690, -21.6666, -21.7818,  -5.4439, -21.7407, -12.6551, -21.6671,   4.9238,\n",
       "        -11.5777, -13.3323, -21.9638, -15.3030,   5.0243, -21.7614,   3.1820, -13.4721, -21.7170, -11.6066, -21.5737, -21.7230, -11.9652,\n",
       "        -13.2382, -13.7599, -13.2170,  13.1347, -21.7049, -21.7268,   4.9207,  -7.3198,  -5.3081,   7.1065,  11.4948, -13.3135, -21.8723,\n",
       "        -21.7230,  13.3603, -15.5670,   3.4105,  -7.2857, -13.7197,   3.6909,   3.9763, -14.7227, -21.8268,   3.9387, -21.8743, -21.8367,\n",
       "        -11.8518, -13.6712, -21.8299,   4.9440,  -5.4471, -21.9666,   5.1333,  -3.2187, -11.6008,  13.7920, -21.7230,  12.6369,  -3.7268,\n",
       "        -14.8119, -22.0637,  12.9468, -22.1610,  -6.1827, -14.8119,  -3.2838, -15.4540, -11.6950,  -2.9926,  -3.0110, -21.5664, -13.8268,\n",
       "          7.3426, -21.8418,   5.0744,   5.2582,  13.3415, -21.6289, -13.9898, -21.8112,  -7.3316,   5.2296, -13.4453,  12.7891, -22.1235,\n",
       "        -14.9625,  -3.4339,   6.3089, -21.9839,   3.1968,   7.2400,   2.8558,  -3.1187,   3.7965,   5.4667, -15.1101, -15.0597, -22.9391,\n",
       "        -21.7230,  -3.0346, -13.5206, -21.7011,  13.4425,  -7.2690, -21.8335, -12.0582,  13.0489,   6.7993,   5.2160,   5.0794, -12.6957,\n",
       "        -12.1838,  -3.0873, -21.6070,   7.0744, -21.7170, -22.1001,   6.8159, -11.6002, -21.6310])"
      ]
     },
     "execution_count": 59,
     "metadata": {},
     "output_type": "execute_result"
    }
   ],
   "source": [
    "val_indep@coeffs"
   ]
  },
  {
   "cell_type": "markdown",
   "id": "d01cc98d",
   "metadata": {
    "papermill": {
     "duration": 0.10604,
     "end_time": "2025-03-24T06:40:11.030606",
     "exception": false,
     "start_time": "2025-03-24T06:40:10.924566",
     "status": "completed"
    },
    "tags": []
   },
   "source": [
    "It also turns out that this is much faster, because matrix products in PyTorch are very highly optimised.\n",
    "\n",
    "Let's use this to replace how `calc_preds` works:"
   ]
  },
  {
   "cell_type": "code",
   "execution_count": 60,
   "id": "5b0710e3",
   "metadata": {
    "execution": {
     "iopub.execute_input": "2025-03-24T06:40:11.246140Z",
     "iopub.status.busy": "2025-03-24T06:40:11.245319Z",
     "iopub.status.idle": "2025-03-24T06:40:11.249693Z",
     "shell.execute_reply": "2025-03-24T06:40:11.248908Z"
    },
    "papermill": {
     "duration": 0.113467,
     "end_time": "2025-03-24T06:40:11.251751",
     "exception": false,
     "start_time": "2025-03-24T06:40:11.138284",
     "status": "completed"
    },
    "tags": []
   },
   "outputs": [],
   "source": [
    "def calc_preds(coeffs, indeps): return torch.sigmoid(indeps@coeffs)"
   ]
  },
  {
   "cell_type": "markdown",
   "id": "72f42a13",
   "metadata": {
    "papermill": {
     "duration": 0.107153,
     "end_time": "2025-03-24T06:40:11.465830",
     "exception": false,
     "start_time": "2025-03-24T06:40:11.358677",
     "status": "completed"
    },
    "tags": []
   },
   "source": [
    "In order to do matrix-matrix products (which we'll need in the next section), we need to turn `coeffs` into a column vector (i.e. a matrix with a single column), which we can do by passing a second argument `1` to `torch.rand()`, indicating that we want our coefficients to have one column:"
   ]
  },
  {
   "cell_type": "code",
   "execution_count": 61,
   "id": "00ae28f4",
   "metadata": {
    "execution": {
     "iopub.execute_input": "2025-03-24T06:40:11.684046Z",
     "iopub.status.busy": "2025-03-24T06:40:11.683461Z",
     "iopub.status.idle": "2025-03-24T06:40:11.688189Z",
     "shell.execute_reply": "2025-03-24T06:40:11.687239Z"
    },
    "papermill": {
     "duration": 0.113794,
     "end_time": "2025-03-24T06:40:11.690168",
     "exception": false,
     "start_time": "2025-03-24T06:40:11.576374",
     "status": "completed"
    },
    "tags": []
   },
   "outputs": [],
   "source": [
    "def init_coeffs(): return (torch.rand(n_coeff, 1)*0.1).requires_grad_()"
   ]
  },
  {
   "cell_type": "markdown",
   "id": "e95cb1c9",
   "metadata": {
    "papermill": {
     "duration": 0.105646,
     "end_time": "2025-03-24T06:40:11.901770",
     "exception": false,
     "start_time": "2025-03-24T06:40:11.796124",
     "status": "completed"
    },
    "tags": []
   },
   "source": [
    "We'll also need to turn our dependent variable into a column vector, which we can do by indexing the column dimension with the special value `None`, which tells PyTorch to add a new dimension in this position:"
   ]
  },
  {
   "cell_type": "code",
   "execution_count": 62,
   "id": "60e01718",
   "metadata": {
    "execution": {
     "iopub.execute_input": "2025-03-24T06:40:12.114178Z",
     "iopub.status.busy": "2025-03-24T06:40:12.113519Z",
     "iopub.status.idle": "2025-03-24T06:40:12.117779Z",
     "shell.execute_reply": "2025-03-24T06:40:12.116891Z"
    },
    "papermill": {
     "duration": 0.113186,
     "end_time": "2025-03-24T06:40:12.119785",
     "exception": false,
     "start_time": "2025-03-24T06:40:12.006599",
     "status": "completed"
    },
    "tags": []
   },
   "outputs": [],
   "source": [
    "trn_dep = trn_dep[:,None]\n",
    "val_dep = val_dep[:,None]"
   ]
  },
  {
   "cell_type": "markdown",
   "id": "fc1c5380",
   "metadata": {
    "papermill": {
     "duration": 0.105762,
     "end_time": "2025-03-24T06:40:12.331332",
     "exception": false,
     "start_time": "2025-03-24T06:40:12.225570",
     "status": "completed"
    },
    "tags": []
   },
   "source": [
    "We can now train our model as before and confirm we get identical outputs...:"
   ]
  },
  {
   "cell_type": "code",
   "execution_count": 63,
   "id": "48f984d5",
   "metadata": {
    "execution": {
     "iopub.execute_input": "2025-03-24T06:40:12.545404Z",
     "iopub.status.busy": "2025-03-24T06:40:12.544580Z",
     "iopub.status.idle": "2025-03-24T06:40:12.565157Z",
     "shell.execute_reply": "2025-03-24T06:40:12.564231Z"
    },
    "papermill": {
     "duration": 0.129535,
     "end_time": "2025-03-24T06:40:12.567521",
     "exception": false,
     "start_time": "2025-03-24T06:40:12.437986",
     "status": "completed"
    },
    "tags": []
   },
   "outputs": [
    {
     "name": "stdout",
     "output_type": "stream",
     "text": [
      "0.512; 0.323; 0.290; 0.205; 0.200; 0.198; 0.197; 0.197; 0.196; 0.196; 0.196; 0.195; 0.195; 0.195; 0.195; 0.195; 0.195; 0.194; 0.194; 0.194; 0.194; 0.194; 0.194; 0.194; 0.194; 0.194; 0.194; 0.194; 0.194; 0.194; "
     ]
    }
   ],
   "source": [
    "coeffs = train_model(lr=100)"
   ]
  },
  {
   "cell_type": "markdown",
   "id": "44d48e68",
   "metadata": {
    "papermill": {
     "duration": 0.106696,
     "end_time": "2025-03-24T06:40:12.780917",
     "exception": false,
     "start_time": "2025-03-24T06:40:12.674221",
     "status": "completed"
    },
    "tags": []
   },
   "source": [
    "...and identical accuracy:"
   ]
  },
  {
   "cell_type": "code",
   "execution_count": 64,
   "id": "332e67d0",
   "metadata": {
    "execution": {
     "iopub.execute_input": "2025-03-24T06:40:12.997201Z",
     "iopub.status.busy": "2025-03-24T06:40:12.996937Z",
     "iopub.status.idle": "2025-03-24T06:40:13.003560Z",
     "shell.execute_reply": "2025-03-24T06:40:13.002757Z"
    },
    "papermill": {
     "duration": 0.114982,
     "end_time": "2025-03-24T06:40:13.005662",
     "exception": false,
     "start_time": "2025-03-24T06:40:12.890680",
     "status": "completed"
    },
    "tags": []
   },
   "outputs": [
    {
     "data": {
      "text/plain": [
       "tensor(0.8258)"
      ]
     },
     "execution_count": 64,
     "metadata": {},
     "output_type": "execute_result"
    }
   ],
   "source": [
    "acc(coeffs)"
   ]
  },
  {
   "cell_type": "markdown",
   "id": "e5c09a59",
   "metadata": {
    "papermill": {
     "duration": 0.10642,
     "end_time": "2025-03-24T06:40:13.221046",
     "exception": false,
     "start_time": "2025-03-24T06:40:13.114626",
     "status": "completed"
    },
    "tags": []
   },
   "source": [
    "## A neural network"
   ]
  },
  {
   "cell_type": "markdown",
   "id": "6c7c607d",
   "metadata": {
    "papermill": {
     "duration": 0.107049,
     "end_time": "2025-03-24T06:40:13.435787",
     "exception": false,
     "start_time": "2025-03-24T06:40:13.328738",
     "status": "completed"
    },
    "tags": []
   },
   "source": [
    "We've now got what we need to implement our neural network.\n",
    "\n",
    "First, we'll need to create coefficients for each of our layers. Our first set of coefficients will take our `n_coeff` inputs, and create `n_hidden` outputs. We can choose whatever `n_hidden` we like -- a higher number gives our network more flexibility, but makes it slower and harder to train. So we need a matrix of size `n_coeff` by `n_hidden`. We'll divide these coefficients by `n_hidden` so that when we sum them up in the next layer we'll end up with similar magnitude numbers to what we started with.\n",
    "\n",
    "Then our second layer will need to take the `n_hidden` inputs and create a single output, so that means we need a `n_hidden` by `1` matrix there. The second layer will also need a constant term added."
   ]
  },
  {
   "cell_type": "code",
   "execution_count": 65,
   "id": "9dc216f1",
   "metadata": {
    "execution": {
     "iopub.execute_input": "2025-03-24T06:40:13.649512Z",
     "iopub.status.busy": "2025-03-24T06:40:13.649186Z",
     "iopub.status.idle": "2025-03-24T06:40:13.654549Z",
     "shell.execute_reply": "2025-03-24T06:40:13.653718Z"
    },
    "papermill": {
     "duration": 0.114554,
     "end_time": "2025-03-24T06:40:13.656390",
     "exception": false,
     "start_time": "2025-03-24T06:40:13.541836",
     "status": "completed"
    },
    "tags": []
   },
   "outputs": [],
   "source": [
    "def init_coeffs(n_hidden=20):\n",
    "    layer1 = (torch.rand(n_coeff, n_hidden)-0.5)/n_hidden\n",
    "    layer2 = torch.rand(n_hidden, 1)-0.3\n",
    "    const = torch.rand(1)[0]\n",
    "    return layer1.requires_grad_(),layer2.requires_grad_(),const.requires_grad_()"
   ]
  },
  {
   "cell_type": "markdown",
   "id": "8238d4d1",
   "metadata": {
    "papermill": {
     "duration": 0.107889,
     "end_time": "2025-03-24T06:40:13.870138",
     "exception": false,
     "start_time": "2025-03-24T06:40:13.762249",
     "status": "completed"
    },
    "tags": []
   },
   "source": [
    "Now we have our coefficients, we can create our neural net. The key steps are the two matrix products, `indeps@l1` and `res@l2` (where `res` is the output of the first layer). The first layer output is passed to `F.relu` (that's our non-linearity), and the second is passed to `torch.sigmoid` as before."
   ]
  },
  {
   "cell_type": "code",
   "execution_count": 66,
   "id": "e60d77c5",
   "metadata": {
    "execution": {
     "iopub.execute_input": "2025-03-24T06:40:14.086569Z",
     "iopub.status.busy": "2025-03-24T06:40:14.086266Z",
     "iopub.status.idle": "2025-03-24T06:40:14.091276Z",
     "shell.execute_reply": "2025-03-24T06:40:14.090391Z"
    },
    "papermill": {
     "duration": 0.118174,
     "end_time": "2025-03-24T06:40:14.093192",
     "exception": false,
     "start_time": "2025-03-24T06:40:13.975018",
     "status": "completed"
    },
    "tags": []
   },
   "outputs": [],
   "source": [
    "import torch.nn.functional as F\n",
    "\n",
    "def calc_preds(coeffs, indeps):\n",
    "    l1,l2,const = coeffs\n",
    "    res = F.relu(indeps@l1)\n",
    "    res = res@l2 + const\n",
    "    return torch.sigmoid(res)"
   ]
  },
  {
   "cell_type": "markdown",
   "id": "83aa2836",
   "metadata": {
    "papermill": {
     "duration": 0.105433,
     "end_time": "2025-03-24T06:40:14.307141",
     "exception": false,
     "start_time": "2025-03-24T06:40:14.201708",
     "status": "completed"
    },
    "tags": []
   },
   "source": [
    "Finally, now that we have more than one set of coefficients, we need to add a loop to update each one:"
   ]
  },
  {
   "cell_type": "code",
   "execution_count": 67,
   "id": "df2797f5",
   "metadata": {
    "execution": {
     "iopub.execute_input": "2025-03-24T06:40:14.521225Z",
     "iopub.status.busy": "2025-03-24T06:40:14.520943Z",
     "iopub.status.idle": "2025-03-24T06:40:14.525322Z",
     "shell.execute_reply": "2025-03-24T06:40:14.524558Z"
    },
    "papermill": {
     "duration": 0.113267,
     "end_time": "2025-03-24T06:40:14.527203",
     "exception": false,
     "start_time": "2025-03-24T06:40:14.413936",
     "status": "completed"
    },
    "tags": []
   },
   "outputs": [],
   "source": [
    "def update_coeffs(coeffs, lr):\n",
    "    for layer in coeffs:\n",
    "        layer.sub_(layer.grad * lr)\n",
    "        layer.grad.zero_()"
   ]
  },
  {
   "cell_type": "markdown",
   "id": "110c9cf4",
   "metadata": {
    "papermill": {
     "duration": 0.105666,
     "end_time": "2025-03-24T06:40:14.738236",
     "exception": false,
     "start_time": "2025-03-24T06:40:14.632570",
     "status": "completed"
    },
    "tags": []
   },
   "source": [
    "That's it -- we're now ready to train our model!"
   ]
  },
  {
   "cell_type": "code",
   "execution_count": 68,
   "id": "4106bc32",
   "metadata": {
    "execution": {
     "iopub.execute_input": "2025-03-24T06:40:14.954345Z",
     "iopub.status.busy": "2025-03-24T06:40:14.954052Z",
     "iopub.status.idle": "2025-03-24T06:40:14.987784Z",
     "shell.execute_reply": "2025-03-24T06:40:14.986852Z"
    },
    "papermill": {
     "duration": 0.145014,
     "end_time": "2025-03-24T06:40:14.989867",
     "exception": false,
     "start_time": "2025-03-24T06:40:14.844853",
     "status": "completed"
    },
    "tags": []
   },
   "outputs": [
    {
     "name": "stdout",
     "output_type": "stream",
     "text": [
      "0.543; 0.532; 0.520; 0.505; 0.487; 0.466; 0.439; 0.407; 0.373; 0.343; 0.319; 0.301; 0.286; 0.274; 0.264; 0.256; 0.250; 0.245; 0.240; 0.237; 0.234; 0.231; 0.229; 0.227; 0.226; 0.224; 0.223; 0.222; 0.221; 0.220; "
     ]
    }
   ],
   "source": [
    "coeffs = train_model(lr=1.4)"
   ]
  },
  {
   "cell_type": "code",
   "execution_count": 69,
   "id": "1fb46e94",
   "metadata": {
    "execution": {
     "iopub.execute_input": "2025-03-24T06:40:15.209093Z",
     "iopub.status.busy": "2025-03-24T06:40:15.208309Z",
     "iopub.status.idle": "2025-03-24T06:40:15.230021Z",
     "shell.execute_reply": "2025-03-24T06:40:15.229130Z"
    },
    "papermill": {
     "duration": 0.132652,
     "end_time": "2025-03-24T06:40:15.232218",
     "exception": false,
     "start_time": "2025-03-24T06:40:15.099566",
     "status": "completed"
    },
    "tags": []
   },
   "outputs": [
    {
     "name": "stdout",
     "output_type": "stream",
     "text": [
      "0.543; 0.400; 0.260; 0.390; 0.221; 0.211; 0.197; 0.195; 0.193; 0.193; 0.193; 0.193; 0.193; 0.193; 0.193; 0.193; 0.193; 0.192; 0.192; 0.192; 0.192; 0.192; 0.192; 0.192; 0.192; 0.192; 0.192; 0.192; 0.192; 0.192; "
     ]
    }
   ],
   "source": [
    "coeffs = train_model(lr=20)"
   ]
  },
  {
   "cell_type": "markdown",
   "id": "eed91381",
   "metadata": {
    "papermill": {
     "duration": 0.107162,
     "end_time": "2025-03-24T06:40:15.447382",
     "exception": false,
     "start_time": "2025-03-24T06:40:15.340220",
     "status": "completed"
    },
    "tags": []
   },
   "source": [
    "It's looking good -- our loss is lower than before. Let's see if that translates to a better result on the validation set:"
   ]
  },
  {
   "cell_type": "code",
   "execution_count": 70,
   "id": "3a286bb5",
   "metadata": {
    "execution": {
     "iopub.execute_input": "2025-03-24T06:40:15.660898Z",
     "iopub.status.busy": "2025-03-24T06:40:15.660610Z",
     "iopub.status.idle": "2025-03-24T06:40:15.667724Z",
     "shell.execute_reply": "2025-03-24T06:40:15.666903Z"
    },
    "papermill": {
     "duration": 0.116795,
     "end_time": "2025-03-24T06:40:15.669782",
     "exception": false,
     "start_time": "2025-03-24T06:40:15.552987",
     "status": "completed"
    },
    "tags": []
   },
   "outputs": [
    {
     "data": {
      "text/plain": [
       "tensor(0.8258)"
      ]
     },
     "execution_count": 70,
     "metadata": {},
     "output_type": "execute_result"
    }
   ],
   "source": [
    "acc(coeffs)"
   ]
  },
  {
   "cell_type": "markdown",
   "id": "706a8f82",
   "metadata": {
    "papermill": {
     "duration": 0.106431,
     "end_time": "2025-03-24T06:40:15.883352",
     "exception": false,
     "start_time": "2025-03-24T06:40:15.776921",
     "status": "completed"
    },
    "tags": []
   },
   "source": [
    "In this case our neural net isn't showing better results than the linear model. That's not surprising; this dataset is very small and very simple, and isn't the kind of thing we'd expect to see neural networks excel at. Furthermore, our validation set is too small to reliably see much accuracy difference. But the key thing is that we now know exactly what a real neural net looks like!"
   ]
  },
  {
   "cell_type": "markdown",
   "id": "73009f85",
   "metadata": {
    "papermill": {
     "duration": 0.107691,
     "end_time": "2025-03-24T06:40:16.097050",
     "exception": false,
     "start_time": "2025-03-24T06:40:15.989359",
     "status": "completed"
    },
    "tags": []
   },
   "source": [
    "## Deep learning"
   ]
  },
  {
   "cell_type": "markdown",
   "id": "2d0eb4ab",
   "metadata": {
    "papermill": {
     "duration": 0.105979,
     "end_time": "2025-03-24T06:40:16.311658",
     "exception": false,
     "start_time": "2025-03-24T06:40:16.205679",
     "status": "completed"
    },
    "tags": []
   },
   "source": [
    "The neural net in the previous section only uses one hidden layer, so it doesn't count as \"deep\" learning. But we can use the exact same technique to make our neural net deep, by adding more matrix multiplications.\n",
    "\n",
    "First, we'll need to create additional coefficients for each layer:"
   ]
  },
  {
   "cell_type": "code",
   "execution_count": 71,
   "id": "17963f2f",
   "metadata": {
    "execution": {
     "iopub.execute_input": "2025-03-24T06:40:16.526778Z",
     "iopub.status.busy": "2025-03-24T06:40:16.526415Z",
     "iopub.status.idle": "2025-03-24T06:40:16.532791Z",
     "shell.execute_reply": "2025-03-24T06:40:16.531940Z"
    },
    "papermill": {
     "duration": 0.115493,
     "end_time": "2025-03-24T06:40:16.534722",
     "exception": false,
     "start_time": "2025-03-24T06:40:16.419229",
     "status": "completed"
    },
    "tags": []
   },
   "outputs": [],
   "source": [
    "def init_coeffs():\n",
    "    hiddens = [10, 10]  # <-- set this to the size of each hidden layer you want\n",
    "    sizes = [n_coeff] + hiddens + [1]\n",
    "    n = len(sizes)\n",
    "    layers = [(torch.rand(sizes[i], sizes[i+1])-0.3)/sizes[i+1]*4 for i in range(n-1)]\n",
    "    consts = [(torch.rand(1)[0]-0.5)*0.1 for i in range(n-1)]\n",
    "    for l in layers+consts: l.requires_grad_()\n",
    "    return layers,consts"
   ]
  },
  {
   "cell_type": "markdown",
   "id": "b3fb9214",
   "metadata": {
    "papermill": {
     "duration": 0.105971,
     "end_time": "2025-03-24T06:40:16.746846",
     "exception": false,
     "start_time": "2025-03-24T06:40:16.640875",
     "status": "completed"
    },
    "tags": []
   },
   "source": [
    "You'll notice here that there's a lot of messy constants to get the random numbers in just the right ranges. When you train the model in a moment, you'll see that the tiniest changes to these initialisations can cause our model to fail to train at all! This is a key reason that deep learning failed to make much progress in the early days -- it's very finicky to get a good starting point for our coefficients. Nowadays, we have ways to deal with that, which we'll learn about in other notebooks.\n",
    "\n",
    "Our deep learning `calc_preds` looks much the same as before, but now we loop through each layer, instead of listing them separately:"
   ]
  },
  {
   "cell_type": "code",
   "execution_count": 72,
   "id": "e92f8afe",
   "metadata": {
    "execution": {
     "iopub.execute_input": "2025-03-24T06:40:16.962613Z",
     "iopub.status.busy": "2025-03-24T06:40:16.962285Z",
     "iopub.status.idle": "2025-03-24T06:40:16.968194Z",
     "shell.execute_reply": "2025-03-24T06:40:16.967255Z"
    },
    "papermill": {
     "duration": 0.117092,
     "end_time": "2025-03-24T06:40:16.970232",
     "exception": false,
     "start_time": "2025-03-24T06:40:16.853140",
     "status": "completed"
    },
    "tags": []
   },
   "outputs": [],
   "source": [
    "import torch.nn.functional as F\n",
    "\n",
    "def calc_preds(coeffs, indeps):\n",
    "    layers,consts = coeffs\n",
    "    n = len(layers)\n",
    "    res = indeps\n",
    "    for i,l in enumerate(layers):\n",
    "        res = res@l + consts[i]\n",
    "        if i!=n-1: res = F.relu(res)\n",
    "    return torch.sigmoid(res)"
   ]
  },
  {
   "cell_type": "markdown",
   "id": "79cfd097",
   "metadata": {
    "papermill": {
     "duration": 0.129373,
     "end_time": "2025-03-24T06:40:17.210477",
     "exception": false,
     "start_time": "2025-03-24T06:40:17.081104",
     "status": "completed"
    },
    "tags": []
   },
   "source": [
    "We also need a minor update to `update_coeffs` since we've got `layers` and `consts` separated now:"
   ]
  },
  {
   "cell_type": "code",
   "execution_count": 73,
   "id": "374f6223",
   "metadata": {
    "execution": {
     "iopub.execute_input": "2025-03-24T06:40:17.436637Z",
     "iopub.status.busy": "2025-03-24T06:40:17.436297Z",
     "iopub.status.idle": "2025-03-24T06:40:17.441225Z",
     "shell.execute_reply": "2025-03-24T06:40:17.440241Z"
    },
    "papermill": {
     "duration": 0.116207,
     "end_time": "2025-03-24T06:40:17.443138",
     "exception": false,
     "start_time": "2025-03-24T06:40:17.326931",
     "status": "completed"
    },
    "tags": []
   },
   "outputs": [],
   "source": [
    "def update_coeffs(coeffs, lr):\n",
    "    layers,consts = coeffs\n",
    "    for layer in layers+consts:\n",
    "        layer.sub_(layer.grad * lr)\n",
    "        layer.grad.zero_()"
   ]
  },
  {
   "cell_type": "markdown",
   "id": "b8f15b1f",
   "metadata": {
    "papermill": {
     "duration": 0.105647,
     "end_time": "2025-03-24T06:40:17.655260",
     "exception": false,
     "start_time": "2025-03-24T06:40:17.549613",
     "status": "completed"
    },
    "tags": []
   },
   "source": [
    "Let's train our model..."
   ]
  },
  {
   "cell_type": "code",
   "execution_count": 74,
   "id": "3cd3f3af",
   "metadata": {
    "execution": {
     "iopub.execute_input": "2025-03-24T06:40:17.869475Z",
     "iopub.status.busy": "2025-03-24T06:40:17.868683Z",
     "iopub.status.idle": "2025-03-24T06:40:17.897830Z",
     "shell.execute_reply": "2025-03-24T06:40:17.896801Z"
    },
    "papermill": {
     "duration": 0.138794,
     "end_time": "2025-03-24T06:40:17.899900",
     "exception": false,
     "start_time": "2025-03-24T06:40:17.761106",
     "status": "completed"
    },
    "tags": []
   },
   "outputs": [
    {
     "name": "stdout",
     "output_type": "stream",
     "text": [
      "0.521; 0.483; 0.427; 0.379; 0.379; 0.379; 0.379; 0.378; 0.378; 0.378; 0.378; 0.378; 0.378; 0.378; 0.378; 0.378; 0.377; 0.376; 0.371; 0.333; 0.239; 0.224; 0.208; 0.204; 0.203; 0.203; 0.207; 0.197; 0.196; 0.195; "
     ]
    }
   ],
   "source": [
    "coeffs = train_model(lr=4)"
   ]
  },
  {
   "cell_type": "markdown",
   "id": "813b9213",
   "metadata": {
    "papermill": {
     "duration": 0.108165,
     "end_time": "2025-03-24T06:40:18.114709",
     "exception": false,
     "start_time": "2025-03-24T06:40:18.006544",
     "status": "completed"
    },
    "tags": []
   },
   "source": [
    "...and check its accuracy:"
   ]
  },
  {
   "cell_type": "code",
   "execution_count": 75,
   "id": "4030f2fd",
   "metadata": {
    "execution": {
     "iopub.execute_input": "2025-03-24T06:40:18.334599Z",
     "iopub.status.busy": "2025-03-24T06:40:18.333796Z",
     "iopub.status.idle": "2025-03-24T06:40:18.340562Z",
     "shell.execute_reply": "2025-03-24T06:40:18.339779Z"
    },
    "papermill": {
     "duration": 0.117459,
     "end_time": "2025-03-24T06:40:18.342427",
     "exception": false,
     "start_time": "2025-03-24T06:40:18.224968",
     "status": "completed"
    },
    "tags": []
   },
   "outputs": [
    {
     "data": {
      "text/plain": [
       "tensor(0.8258)"
      ]
     },
     "execution_count": 75,
     "metadata": {},
     "output_type": "execute_result"
    }
   ],
   "source": [
    "acc(coeffs)"
   ]
  },
  {
   "cell_type": "markdown",
   "id": "ef89b131",
   "metadata": {
    "papermill": {
     "duration": 0.106685,
     "end_time": "2025-03-24T06:40:18.557697",
     "exception": false,
     "start_time": "2025-03-24T06:40:18.451012",
     "status": "completed"
    },
    "tags": []
   },
   "source": [
    "## Final thoughts"
   ]
  },
  {
   "cell_type": "markdown",
   "id": "e18385f2",
   "metadata": {
    "papermill": {
     "duration": 0.107613,
     "end_time": "2025-03-24T06:40:18.772024",
     "exception": false,
     "start_time": "2025-03-24T06:40:18.664411",
     "status": "completed"
    },
    "tags": []
   },
   "source": [
    "It's actually pretty cool that we've managed to create a real deep learning model from scratch and trained it to get over 80% accuracy on this task, all in the course of a single notebook!\n",
    "\n",
    "The \"real\" deep learning models that are used in research and industry look very similar to this, and in fact if you look inside the source code of any deep learning model you'll recognise the basic steps are the same.\n",
    "\n",
    "The biggest differences in practical models to what we have above are:\n",
    "\n",
    "- How initialisation and normalisation is done to ensure the model trains correctly every time\n",
    "- Regularization (to avoid over-fitting)\n",
    "- Modifying the neural net itself to take advantage of knowledge of the problem domain\n",
    "- Doing gradient descent steps on smaller batches, rather than the whole dataset.\n",
    "\n",
    "I'll be adding notebooks about all these later, and will add links here once they're ready.\n",
    "\n",
    "If you found this notebook useful, please remember to click the little up-arrow at the top to upvote it, since I like to know when people have found my work useful, and it helps others find it too. (BTW, be sure you're looking at my [original notebook here](https://www.kaggle.com/code/jhoward/linear-model-and-neural-net-from-scratch) when you do that, and are not on your own copy of it, otherwise your upvote won't get counted!) And if you have any questions or comments, please pop them below -- I read every comment I receive!"
   ]
  },
  {
   "cell_type": "code",
   "execution_count": null,
   "id": "bdefd47d",
   "metadata": {
    "papermill": {
     "duration": 0.109378,
     "end_time": "2025-03-24T06:40:18.988490",
     "exception": false,
     "start_time": "2025-03-24T06:40:18.879112",
     "status": "completed"
    },
    "tags": []
   },
   "outputs": [],
   "source": []
  }
 ],
 "metadata": {
  "kaggle": {
   "accelerator": "none",
   "dataSources": [
    {
     "databundleVersionId": 26502,
     "sourceId": 3136,
     "sourceType": "competition"
    }
   ],
   "dockerImageVersionId": 30184,
   "isGpuEnabled": false,
   "isInternetEnabled": true,
   "language": "python",
   "sourceType": "notebook"
  },
  "kernelspec": {
   "display_name": "Python 3",
   "language": "python",
   "name": "python3"
  },
  "language_info": {
   "codemirror_mode": {
    "name": "ipython",
    "version": 3
   },
   "file_extension": ".py",
   "mimetype": "text/x-python",
   "name": "python",
   "nbconvert_exporter": "python",
   "pygments_lexer": "ipython3",
   "version": "3.7.12"
  },
  "papermill": {
   "default_parameters": {},
   "duration": 49.722468,
   "end_time": "2025-03-24T06:40:20.118419",
   "environment_variables": {},
   "exception": null,
   "input_path": "__notebook__.ipynb",
   "output_path": "__notebook__.ipynb",
   "parameters": {},
   "start_time": "2025-03-24T06:39:30.395951",
   "version": "2.3.4"
  }
 },
 "nbformat": 4,
 "nbformat_minor": 5
}
