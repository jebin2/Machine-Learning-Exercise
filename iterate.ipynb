{
 "cells": [
  {
   "cell_type": "markdown",
   "metadata": {},
   "source": [
    "## Iterate like a grandmaster"
   ]
  },
  {
   "cell_type": "markdown",
   "metadata": {},
   "source": [
    "**Note**: If you're fairly new to Kaggle, NLP, or Transformers, I strongly recommend you read my [Getting Started](https://www.kaggle.com/code/jhoward/getting-started-with-nlp-for-absolute-beginners) notebook first, and then come back to this one.\n",
    "\n",
    "---\n",
    "\n",
    "There's a lot of impressive notebooks around on Kaggle, but they often  fall into one of two categories:\n",
    "\n",
    "- Exploratory Data Analysis (EDA) notebooks with lots of pretty charts, but not much focus on understanding the key issues that will make a difference in the competition\n",
    "- Training/inference notebooks with little detail about *why* each step was chosen.\n",
    "\n",
    "In this notebook I'll try to give a taste of how a competitions grandmaster might tackle the [U.S. Patent Phrase to Phrase Matching](https://www.kaggle.com/competitions/us-patent-phrase-to-phrase-matching/) competition. The focus generally should be two things:\n",
    "\n",
    "1. Creating an effective validation set\n",
    "1. Iterating rapidly to find changes which improve results on the validation set.\n",
    "\n",
    "If you can do these two things, then you can try out lots of experiments and find what works, and what doesn't. Without these two things, it will be nearly impossible to do well in a Kaggle competition (and, indeed, to create highly accurate models in real life!)\n",
    "\n",
    "I will show a couple of different ways to create an appropriate validation set, and will explain how to expand them into an appropriate cross-validation system. I'll use just plain HuggingFace Transformers for everything, and will keep the code concise and simple. The more code you have, the more you have to maintain, and the more chances there are to make mistakes. So keep it simple!\n",
    "\n",
    "OK, let's get started..."
   ]
  },
  {
   "cell_type": "markdown",
   "metadata": {},
   "source": [
    "It's nice to be able to run things locally too, to save your Kaggle GPU hours, so set a variable to make it easy to see where we are, and download what we need:"
   ]
  },
  {
   "cell_type": "code",
   "execution_count": 2,
   "metadata": {
    "execution": {
     "iopub.execute_input": "2022-04-20T18:46:49.775805Z",
     "iopub.status.busy": "2022-04-20T18:46:49.775183Z",
     "iopub.status.idle": "2022-04-20T18:46:49.780768Z",
     "shell.execute_reply": "2022-04-20T18:46:49.780055Z",
     "shell.execute_reply.started": "2022-04-20T18:46:49.775763Z"
    },
    "trusted": true
   },
   "outputs": [
    {
     "name": "stdout",
     "output_type": "stream",
     "text": [
      "us-patent-phrase-to-phrase-matching.zip: Skipping, found more recently modified local copy (use --force to force download)\n"
     ]
    }
   ],
   "source": [
    "from pathlib import Path\n",
    "import os\n",
    "\n",
    "iskaggle = os.environ.get('KAGGLE_KERNEL_RUN_TYPE', '')\n",
    "if iskaggle:\n",
    "    !pip install -Uqq fastai\n",
    "else:\n",
    "    import zipfile,kaggle\n",
    "    path = Path('us-patent-phrase-to-phrase-matching')\n",
    "    kaggle.api.competition_download_cli(str(path))\n",
    "    zipfile.ZipFile(f'{path}.zip').extractall(path)"
   ]
  },
  {
   "cell_type": "markdown",
   "metadata": {},
   "source": [
    "A lot of the basic imports you'll want (`np`, `pd`, `plt`, etc) are provided by fastai, so let's grab them in one line:"
   ]
  },
  {
   "cell_type": "code",
   "execution_count": 3,
   "metadata": {
    "execution": {
     "iopub.execute_input": "2022-04-20T18:46:49.343918Z",
     "iopub.status.busy": "2022-04-20T18:46:49.343214Z",
     "iopub.status.idle": "2022-04-20T18:46:49.772683Z",
     "shell.execute_reply": "2022-04-20T18:46:49.771859Z",
     "shell.execute_reply.started": "2022-04-20T18:46:49.343819Z"
    },
    "trusted": true
   },
   "outputs": [],
   "source": [
    "from fastai.imports import *"
   ]
  },
  {
   "cell_type": "markdown",
   "metadata": {
    "heading_collapsed": true
   },
   "source": [
    "## Import and EDA"
   ]
  },
  {
   "cell_type": "markdown",
   "metadata": {
    "hidden": true
   },
   "source": [
    "Set a path to our data. Use `pathlib.Path` because it makes everything so much easier, and make it work automatically regardless if you're working on your own PC or on Kaggle!"
   ]
  },
  {
   "cell_type": "code",
   "execution_count": 4,
   "metadata": {
    "execution": {
     "iopub.execute_input": "2022-04-20T18:46:49.78287Z",
     "iopub.status.busy": "2022-04-20T18:46:49.782611Z",
     "iopub.status.idle": "2022-04-20T18:46:49.796818Z",
     "shell.execute_reply": "2022-04-20T18:46:49.796077Z",
     "shell.execute_reply.started": "2022-04-20T18:46:49.782844Z"
    },
    "hidden": true,
    "trusted": true
   },
   "outputs": [
    {
     "data": {
      "text/plain": [
       "(#3) [Path('us-patent-phrase-to-phrase-matching/test.csv'),Path('us-patent-phrase-to-phrase-matching/train.csv'),Path('us-patent-phrase-to-phrase-matching/sample_submission.csv')]"
      ]
     },
     "execution_count": 4,
     "metadata": {},
     "output_type": "execute_result"
    }
   ],
   "source": [
    "if iskaggle: path = Path('../input/us-patent-phrase-to-phrase-matching')\n",
    "path.ls()"
   ]
  },
  {
   "cell_type": "markdown",
   "metadata": {
    "hidden": true
   },
   "source": [
    "Let's look at the training set:"
   ]
  },
  {
   "cell_type": "code",
   "execution_count": 5,
   "metadata": {
    "execution": {
     "iopub.execute_input": "2022-04-20T18:46:49.799401Z",
     "iopub.status.busy": "2022-04-20T18:46:49.798961Z",
     "iopub.status.idle": "2022-04-20T18:46:49.905765Z",
     "shell.execute_reply": "2022-04-20T18:46:49.905058Z",
     "shell.execute_reply.started": "2022-04-20T18:46:49.79936Z"
    },
    "hidden": true,
    "trusted": true
   },
   "outputs": [
    {
     "data": {
      "text/html": [
       "<div>\n",
       "<style scoped>\n",
       "    .dataframe tbody tr th:only-of-type {\n",
       "        vertical-align: middle;\n",
       "    }\n",
       "\n",
       "    .dataframe tbody tr th {\n",
       "        vertical-align: top;\n",
       "    }\n",
       "\n",
       "    .dataframe thead th {\n",
       "        text-align: right;\n",
       "    }\n",
       "</style>\n",
       "<table border=\"1\" class=\"dataframe\">\n",
       "  <thead>\n",
       "    <tr style=\"text-align: right;\">\n",
       "      <th></th>\n",
       "      <th>id</th>\n",
       "      <th>anchor</th>\n",
       "      <th>target</th>\n",
       "      <th>context</th>\n",
       "      <th>score</th>\n",
       "    </tr>\n",
       "  </thead>\n",
       "  <tbody>\n",
       "    <tr>\n",
       "      <th>0</th>\n",
       "      <td>37d61fd2272659b1</td>\n",
       "      <td>abatement</td>\n",
       "      <td>abatement of pollution</td>\n",
       "      <td>A47</td>\n",
       "      <td>0.50</td>\n",
       "    </tr>\n",
       "    <tr>\n",
       "      <th>1</th>\n",
       "      <td>7b9652b17b68b7a4</td>\n",
       "      <td>abatement</td>\n",
       "      <td>act of abating</td>\n",
       "      <td>A47</td>\n",
       "      <td>0.75</td>\n",
       "    </tr>\n",
       "    <tr>\n",
       "      <th>2</th>\n",
       "      <td>36d72442aefd8232</td>\n",
       "      <td>abatement</td>\n",
       "      <td>active catalyst</td>\n",
       "      <td>A47</td>\n",
       "      <td>0.25</td>\n",
       "    </tr>\n",
       "    <tr>\n",
       "      <th>3</th>\n",
       "      <td>5296b0c19e1ce60e</td>\n",
       "      <td>abatement</td>\n",
       "      <td>eliminating process</td>\n",
       "      <td>A47</td>\n",
       "      <td>0.50</td>\n",
       "    </tr>\n",
       "    <tr>\n",
       "      <th>4</th>\n",
       "      <td>54c1e3b9184cb5b6</td>\n",
       "      <td>abatement</td>\n",
       "      <td>forest region</td>\n",
       "      <td>A47</td>\n",
       "      <td>0.00</td>\n",
       "    </tr>\n",
       "    <tr>\n",
       "      <th>...</th>\n",
       "      <td>...</td>\n",
       "      <td>...</td>\n",
       "      <td>...</td>\n",
       "      <td>...</td>\n",
       "      <td>...</td>\n",
       "    </tr>\n",
       "    <tr>\n",
       "      <th>36468</th>\n",
       "      <td>8e1386cbefd7f245</td>\n",
       "      <td>wood article</td>\n",
       "      <td>wooden article</td>\n",
       "      <td>B44</td>\n",
       "      <td>1.00</td>\n",
       "    </tr>\n",
       "    <tr>\n",
       "      <th>36469</th>\n",
       "      <td>42d9e032d1cd3242</td>\n",
       "      <td>wood article</td>\n",
       "      <td>wooden box</td>\n",
       "      <td>B44</td>\n",
       "      <td>0.50</td>\n",
       "    </tr>\n",
       "    <tr>\n",
       "      <th>36470</th>\n",
       "      <td>208654ccb9e14fa3</td>\n",
       "      <td>wood article</td>\n",
       "      <td>wooden handle</td>\n",
       "      <td>B44</td>\n",
       "      <td>0.50</td>\n",
       "    </tr>\n",
       "    <tr>\n",
       "      <th>36471</th>\n",
       "      <td>756ec035e694722b</td>\n",
       "      <td>wood article</td>\n",
       "      <td>wooden material</td>\n",
       "      <td>B44</td>\n",
       "      <td>0.75</td>\n",
       "    </tr>\n",
       "    <tr>\n",
       "      <th>36472</th>\n",
       "      <td>8d135da0b55b8c88</td>\n",
       "      <td>wood article</td>\n",
       "      <td>wooden substrate</td>\n",
       "      <td>B44</td>\n",
       "      <td>0.50</td>\n",
       "    </tr>\n",
       "  </tbody>\n",
       "</table>\n",
       "<p>36473 rows × 5 columns</p>\n",
       "</div>"
      ],
      "text/plain": [
       "                     id        anchor                  target context  score\n",
       "0      37d61fd2272659b1     abatement  abatement of pollution     A47   0.50\n",
       "1      7b9652b17b68b7a4     abatement          act of abating     A47   0.75\n",
       "2      36d72442aefd8232     abatement         active catalyst     A47   0.25\n",
       "3      5296b0c19e1ce60e     abatement     eliminating process     A47   0.50\n",
       "4      54c1e3b9184cb5b6     abatement           forest region     A47   0.00\n",
       "...                 ...           ...                     ...     ...    ...\n",
       "36468  8e1386cbefd7f245  wood article          wooden article     B44   1.00\n",
       "36469  42d9e032d1cd3242  wood article              wooden box     B44   0.50\n",
       "36470  208654ccb9e14fa3  wood article           wooden handle     B44   0.50\n",
       "36471  756ec035e694722b  wood article         wooden material     B44   0.75\n",
       "36472  8d135da0b55b8c88  wood article        wooden substrate     B44   0.50\n",
       "\n",
       "[36473 rows x 5 columns]"
      ]
     },
     "execution_count": 5,
     "metadata": {},
     "output_type": "execute_result"
    }
   ],
   "source": [
    "df = pd.read_csv(path/'train.csv')\n",
    "df"
   ]
  },
  {
   "cell_type": "markdown",
   "metadata": {
    "hidden": true
   },
   "source": [
    "...and the test set:"
   ]
  },
  {
   "cell_type": "code",
   "execution_count": 6,
   "metadata": {
    "execution": {
     "iopub.execute_input": "2022-04-20T18:46:49.907528Z",
     "iopub.status.busy": "2022-04-20T18:46:49.907233Z",
     "iopub.status.idle": "2022-04-20T18:46:49.931788Z",
     "shell.execute_reply": "2022-04-20T18:46:49.930927Z",
     "shell.execute_reply.started": "2022-04-20T18:46:49.907493Z"
    },
    "hidden": true,
    "trusted": true
   },
   "outputs": [
    {
     "data": {
      "text/plain": [
       "36"
      ]
     },
     "execution_count": 6,
     "metadata": {},
     "output_type": "execute_result"
    }
   ],
   "source": [
    "eval_df = pd.read_csv(path/'test.csv')\n",
    "len(eval_df)"
   ]
  },
  {
   "cell_type": "code",
   "execution_count": 7,
   "metadata": {
    "execution": {
     "iopub.execute_input": "2022-04-20T18:46:49.936181Z",
     "iopub.status.busy": "2022-04-20T18:46:49.935205Z",
     "iopub.status.idle": "2022-04-20T18:46:49.958464Z",
     "shell.execute_reply": "2022-04-20T18:46:49.957771Z",
     "shell.execute_reply.started": "2022-04-20T18:46:49.936134Z"
    },
    "hidden": true,
    "trusted": true
   },
   "outputs": [
    {
     "data": {
      "text/html": [
       "<div>\n",
       "<style scoped>\n",
       "    .dataframe tbody tr th:only-of-type {\n",
       "        vertical-align: middle;\n",
       "    }\n",
       "\n",
       "    .dataframe tbody tr th {\n",
       "        vertical-align: top;\n",
       "    }\n",
       "\n",
       "    .dataframe thead th {\n",
       "        text-align: right;\n",
       "    }\n",
       "</style>\n",
       "<table border=\"1\" class=\"dataframe\">\n",
       "  <thead>\n",
       "    <tr style=\"text-align: right;\">\n",
       "      <th></th>\n",
       "      <th>id</th>\n",
       "      <th>anchor</th>\n",
       "      <th>target</th>\n",
       "      <th>context</th>\n",
       "    </tr>\n",
       "  </thead>\n",
       "  <tbody>\n",
       "    <tr>\n",
       "      <th>0</th>\n",
       "      <td>4112d61851461f60</td>\n",
       "      <td>opc drum</td>\n",
       "      <td>inorganic photoconductor drum</td>\n",
       "      <td>G02</td>\n",
       "    </tr>\n",
       "    <tr>\n",
       "      <th>1</th>\n",
       "      <td>09e418c93a776564</td>\n",
       "      <td>adjust gas flow</td>\n",
       "      <td>altering gas flow</td>\n",
       "      <td>F23</td>\n",
       "    </tr>\n",
       "    <tr>\n",
       "      <th>2</th>\n",
       "      <td>36baf228038e314b</td>\n",
       "      <td>lower trunnion</td>\n",
       "      <td>lower locating</td>\n",
       "      <td>B60</td>\n",
       "    </tr>\n",
       "    <tr>\n",
       "      <th>3</th>\n",
       "      <td>1f37ead645e7f0c8</td>\n",
       "      <td>cap component</td>\n",
       "      <td>upper portion</td>\n",
       "      <td>D06</td>\n",
       "    </tr>\n",
       "    <tr>\n",
       "      <th>4</th>\n",
       "      <td>71a5b6ad068d531f</td>\n",
       "      <td>neural stimulation</td>\n",
       "      <td>artificial neural network</td>\n",
       "      <td>H04</td>\n",
       "    </tr>\n",
       "  </tbody>\n",
       "</table>\n",
       "</div>"
      ],
      "text/plain": [
       "                 id              anchor                         target context\n",
       "0  4112d61851461f60            opc drum  inorganic photoconductor drum     G02\n",
       "1  09e418c93a776564     adjust gas flow              altering gas flow     F23\n",
       "2  36baf228038e314b      lower trunnion                 lower locating     B60\n",
       "3  1f37ead645e7f0c8       cap component                  upper portion     D06\n",
       "4  71a5b6ad068d531f  neural stimulation      artificial neural network     H04"
      ]
     },
     "execution_count": 7,
     "metadata": {},
     "output_type": "execute_result"
    }
   ],
   "source": [
    "eval_df.head()"
   ]
  },
  {
   "cell_type": "markdown",
   "metadata": {
    "hidden": true
   },
   "source": [
    "Let's look at the distribution of values of `target`:"
   ]
  },
  {
   "cell_type": "code",
   "execution_count": 8,
   "metadata": {
    "execution": {
     "iopub.execute_input": "2022-04-20T18:46:49.963179Z",
     "iopub.status.busy": "2022-04-20T18:46:49.959717Z",
     "iopub.status.idle": "2022-04-20T18:46:50.007831Z",
     "shell.execute_reply": "2022-04-20T18:46:50.007098Z",
     "shell.execute_reply.started": "2022-04-20T18:46:49.963128Z"
    },
    "hidden": true,
    "trusted": true
   },
   "outputs": [
    {
     "data": {
      "text/plain": [
       "target\n",
       "composition                    24\n",
       "metal                          22\n",
       "motor                          22\n",
       "data                           22\n",
       "assembly                       21\n",
       "                               ..\n",
       "cylindrical carving machine     1\n",
       "embossing device                1\n",
       "lumber article                  1\n",
       "plywood article                 1\n",
       "timber article                  1\n",
       "Name: count, Length: 29340, dtype: int64"
      ]
     },
     "execution_count": 8,
     "metadata": {},
     "output_type": "execute_result"
    }
   ],
   "source": [
    "df.target.value_counts()"
   ]
  },
  {
   "cell_type": "markdown",
   "metadata": {
    "hidden": true
   },
   "source": [
    "We see that there's nearly as many unique targets as items in the training set, so they're nearly but not quite unique. Most importantly, we can see that these generally contain very few words (1-4 words in the above sample).\n",
    "\n",
    "Let's check `anchor`:"
   ]
  },
  {
   "cell_type": "code",
   "execution_count": 9,
   "metadata": {
    "execution": {
     "iopub.execute_input": "2022-04-20T18:46:50.014229Z",
     "iopub.status.busy": "2022-04-20T18:46:50.011877Z",
     "iopub.status.idle": "2022-04-20T18:46:50.036328Z",
     "shell.execute_reply": "2022-04-20T18:46:50.035356Z",
     "shell.execute_reply.started": "2022-04-20T18:46:50.014179Z"
    },
    "hidden": true,
    "trusted": true
   },
   "outputs": [
    {
     "data": {
      "text/plain": [
       "anchor\n",
       "component composite coating              152\n",
       "sheet supply roller                      150\n",
       "source voltage                           140\n",
       "perfluoroalkyl group                     136\n",
       "el display                               135\n",
       "                                        ... \n",
       "shannon                                    2\n",
       "plug nozzle                                2\n",
       "dry coating composition1                   2\n",
       "conduct conducting material                1\n",
       "peripheral nervous system stimulation      1\n",
       "Name: count, Length: 733, dtype: int64"
      ]
     },
     "execution_count": 9,
     "metadata": {},
     "output_type": "execute_result"
    }
   ],
   "source": [
    "df.anchor.value_counts()"
   ]
  },
  {
   "cell_type": "markdown",
   "metadata": {
    "hidden": true
   },
   "source": [
    "We can see here that there's far fewer unique values (just 733) and that again they're very short (2-4 words in this sample).\n",
    "\n",
    "Now we'll do `context`"
   ]
  },
  {
   "cell_type": "code",
   "execution_count": 10,
   "metadata": {
    "execution": {
     "iopub.execute_input": "2022-04-20T18:46:50.03818Z",
     "iopub.status.busy": "2022-04-20T18:46:50.037806Z",
     "iopub.status.idle": "2022-04-20T18:46:50.05077Z",
     "shell.execute_reply": "2022-04-20T18:46:50.049963Z",
     "shell.execute_reply.started": "2022-04-20T18:46:50.038141Z"
    },
    "hidden": true,
    "trusted": true
   },
   "outputs": [
    {
     "data": {
      "text/plain": [
       "context\n",
       "H01    2186\n",
       "H04    2177\n",
       "G01    1812\n",
       "A61    1477\n",
       "F16    1091\n",
       "       ... \n",
       "B03      47\n",
       "F17      33\n",
       "B31      24\n",
       "A62      23\n",
       "F26      18\n",
       "Name: count, Length: 106, dtype: int64"
      ]
     },
     "execution_count": 10,
     "metadata": {},
     "output_type": "execute_result"
    }
   ],
   "source": [
    "df.context.value_counts()"
   ]
  },
  {
   "cell_type": "markdown",
   "metadata": {
    "hidden": true
   },
   "source": [
    "These are just short codes. Some of them have very few examples (18 in the smallest case) The first character is the section the patent was filed under -- let's create a column for that and look at the distribution:"
   ]
  },
  {
   "cell_type": "code",
   "execution_count": 11,
   "metadata": {
    "execution": {
     "iopub.execute_input": "2022-04-20T18:46:50.054758Z",
     "iopub.status.busy": "2022-04-20T18:46:50.054381Z",
     "iopub.status.idle": "2022-04-20T18:46:50.101873Z",
     "shell.execute_reply": "2022-04-20T18:46:50.100986Z",
     "shell.execute_reply.started": "2022-04-20T18:46:50.054721Z"
    },
    "hidden": true,
    "trusted": true
   },
   "outputs": [
    {
     "data": {
      "text/plain": [
       "section\n",
       "B    8019\n",
       "H    6195\n",
       "G    6013\n",
       "C    5288\n",
       "A    4094\n",
       "F    4054\n",
       "E    1531\n",
       "D    1279\n",
       "Name: count, dtype: int64"
      ]
     },
     "execution_count": 11,
     "metadata": {},
     "output_type": "execute_result"
    }
   ],
   "source": [
    "df['section'] = df.context.str[0]\n",
    "df.section.value_counts()"
   ]
  },
  {
   "cell_type": "markdown",
   "metadata": {
    "hidden": true
   },
   "source": [
    "It seems likely that these sections might be useful, since they've got quite a bit more data in each.\n",
    "\n",
    "Finally, we'll take a look at a histogram of the scores:"
   ]
  },
  {
   "cell_type": "code",
   "execution_count": 13,
   "metadata": {
    "execution": {
     "iopub.execute_input": "2022-04-20T18:46:50.103871Z",
     "iopub.status.busy": "2022-04-20T18:46:50.103594Z",
     "iopub.status.idle": "2022-04-20T18:46:50.401495Z",
     "shell.execute_reply": "2022-04-20T18:46:50.40062Z",
     "shell.execute_reply.started": "2022-04-20T18:46:50.103833Z"
    },
    "hidden": true,
    "trusted": true
   },
   "outputs": [
    {
     "data": {
      "text/plain": [
       "<Axes: >"
      ]
     },
     "execution_count": 13,
     "metadata": {},
     "output_type": "execute_result"
    },
    {
     "data": {
      "image/png": "[encoded data removed]",
      "text/plain": [
       "<Figure size 640x480 with 1 Axes>"
      ]
     },
     "metadata": {},
     "output_type": "display_data"
    }
   ],
   "source": [
    "df.score.hist()"
   ]
  },
  {
   "cell_type": "markdown",
   "metadata": {
    "hidden": true
   },
   "source": [
    "There's a small number that are scored `1.0` - here's a sample:"
   ]
  },
  {
   "cell_type": "code",
   "execution_count": 14,
   "metadata": {
    "execution": {
     "iopub.execute_input": "2022-04-20T18:46:50.403302Z",
     "iopub.status.busy": "2022-04-20T18:46:50.403022Z",
     "iopub.status.idle": "2022-04-20T18:46:50.428747Z",
     "shell.execute_reply": "2022-04-20T18:46:50.428058Z",
     "shell.execute_reply.started": "2022-04-20T18:46:50.403266Z"
    },
    "hidden": true,
    "trusted": true
   },
   "outputs": [
    {
     "data": {
      "text/html": [
       "<div>\n",
       "<style scoped>\n",
       "    .dataframe tbody tr th:only-of-type {\n",
       "        vertical-align: middle;\n",
       "    }\n",
       "\n",
       "    .dataframe tbody tr th {\n",
       "        vertical-align: top;\n",
       "    }\n",
       "\n",
       "    .dataframe thead th {\n",
       "        text-align: right;\n",
       "    }\n",
       "</style>\n",
       "<table border=\"1\" class=\"dataframe\">\n",
       "  <thead>\n",
       "    <tr style=\"text-align: right;\">\n",
       "      <th></th>\n",
       "      <th>id</th>\n",
       "      <th>anchor</th>\n",
       "      <th>target</th>\n",
       "      <th>context</th>\n",
       "      <th>score</th>\n",
       "      <th>section</th>\n",
       "    </tr>\n",
       "  </thead>\n",
       "  <tbody>\n",
       "    <tr>\n",
       "      <th>28</th>\n",
       "      <td>473137168ebf7484</td>\n",
       "      <td>abatement</td>\n",
       "      <td>abating</td>\n",
       "      <td>F24</td>\n",
       "      <td>1.0</td>\n",
       "      <td>F</td>\n",
       "    </tr>\n",
       "    <tr>\n",
       "      <th>158</th>\n",
       "      <td>621b048d70aa8867</td>\n",
       "      <td>absorbent properties</td>\n",
       "      <td>absorbent characteristics</td>\n",
       "      <td>D01</td>\n",
       "      <td>1.0</td>\n",
       "      <td>D</td>\n",
       "    </tr>\n",
       "    <tr>\n",
       "      <th>161</th>\n",
       "      <td>bc20a1c961cb073a</td>\n",
       "      <td>absorbent properties</td>\n",
       "      <td>absorption properties</td>\n",
       "      <td>D01</td>\n",
       "      <td>1.0</td>\n",
       "      <td>D</td>\n",
       "    </tr>\n",
       "    <tr>\n",
       "      <th>311</th>\n",
       "      <td>e955700dffd68624</td>\n",
       "      <td>acid absorption</td>\n",
       "      <td>absorption of acid</td>\n",
       "      <td>B08</td>\n",
       "      <td>1.0</td>\n",
       "      <td>B</td>\n",
       "    </tr>\n",
       "    <tr>\n",
       "      <th>315</th>\n",
       "      <td>3a09aba546aac675</td>\n",
       "      <td>acid absorption</td>\n",
       "      <td>acid absorption</td>\n",
       "      <td>B08</td>\n",
       "      <td>1.0</td>\n",
       "      <td>B</td>\n",
       "    </tr>\n",
       "    <tr>\n",
       "      <th>...</th>\n",
       "      <td>...</td>\n",
       "      <td>...</td>\n",
       "      <td>...</td>\n",
       "      <td>...</td>\n",
       "      <td>...</td>\n",
       "      <td>...</td>\n",
       "    </tr>\n",
       "    <tr>\n",
       "      <th>36398</th>\n",
       "      <td>913141526432f1d6</td>\n",
       "      <td>wiring trough</td>\n",
       "      <td>wiring troughs</td>\n",
       "      <td>F16</td>\n",
       "      <td>1.0</td>\n",
       "      <td>F</td>\n",
       "    </tr>\n",
       "    <tr>\n",
       "      <th>36435</th>\n",
       "      <td>ee0746f2a8ecef97</td>\n",
       "      <td>wood article</td>\n",
       "      <td>wood articles</td>\n",
       "      <td>B05</td>\n",
       "      <td>1.0</td>\n",
       "      <td>B</td>\n",
       "    </tr>\n",
       "    <tr>\n",
       "      <th>36440</th>\n",
       "      <td>ecaf479135cf0dfd</td>\n",
       "      <td>wood article</td>\n",
       "      <td>wooden article</td>\n",
       "      <td>B05</td>\n",
       "      <td>1.0</td>\n",
       "      <td>B</td>\n",
       "    </tr>\n",
       "    <tr>\n",
       "      <th>36464</th>\n",
       "      <td>8ceaa2b5c2d56250</td>\n",
       "      <td>wood article</td>\n",
       "      <td>wood article</td>\n",
       "      <td>B44</td>\n",
       "      <td>1.0</td>\n",
       "      <td>B</td>\n",
       "    </tr>\n",
       "    <tr>\n",
       "      <th>36468</th>\n",
       "      <td>8e1386cbefd7f245</td>\n",
       "      <td>wood article</td>\n",
       "      <td>wooden article</td>\n",
       "      <td>B44</td>\n",
       "      <td>1.0</td>\n",
       "      <td>B</td>\n",
       "    </tr>\n",
       "  </tbody>\n",
       "</table>\n",
       "<p>1154 rows × 6 columns</p>\n",
       "</div>"
      ],
      "text/plain": [
       "                     id                anchor                     target  \\\n",
       "28     473137168ebf7484             abatement                    abating   \n",
       "158    621b048d70aa8867  absorbent properties  absorbent characteristics   \n",
       "161    bc20a1c961cb073a  absorbent properties      absorption properties   \n",
       "311    e955700dffd68624       acid absorption         absorption of acid   \n",
       "315    3a09aba546aac675       acid absorption            acid absorption   \n",
       "...                 ...                   ...                        ...   \n",
       "36398  913141526432f1d6         wiring trough             wiring troughs   \n",
       "36435  ee0746f2a8ecef97          wood article              wood articles   \n",
       "36440  ecaf479135cf0dfd          wood article             wooden article   \n",
       "36464  8ceaa2b5c2d56250          wood article               wood article   \n",
       "36468  8e1386cbefd7f245          wood article             wooden article   \n",
       "\n",
       "      context  score section  \n",
       "28        F24    1.0       F  \n",
       "158       D01    1.0       D  \n",
       "161       D01    1.0       D  \n",
       "311       B08    1.0       B  \n",
       "315       B08    1.0       B  \n",
       "...       ...    ...     ...  \n",
       "36398     F16    1.0       F  \n",
       "36435     B05    1.0       B  \n",
       "36440     B05    1.0       B  \n",
       "36464     B44    1.0       B  \n",
       "36468     B44    1.0       B  \n",
       "\n",
       "[1154 rows x 6 columns]"
      ]
     },
     "execution_count": 14,
     "metadata": {},
     "output_type": "execute_result"
    }
   ],
   "source": [
    "df[df.score==1]"
   ]
  },
  {
   "cell_type": "markdown",
   "metadata": {
    "hidden": true
   },
   "source": [
    "We can see from this that these are just minor rewordings of the same concept, and isn't likely to be specific to `context`. Any pretrained model should be pretty good at finding these already."
   ]
  },
  {
   "cell_type": "markdown",
   "metadata": {
    "heading_collapsed": true
   },
   "source": [
    "## Training"
   ]
  },
  {
   "cell_type": "markdown",
   "metadata": {
    "hidden": true
   },
   "source": [
    "Time to import the stuff we'll need for training:"
   ]
  },
  {
   "cell_type": "code",
   "execution_count": 15,
   "metadata": {
    "execution": {
     "iopub.execute_input": "2022-04-20T18:46:50.43071Z",
     "iopub.status.busy": "2022-04-20T18:46:50.430234Z",
     "iopub.status.idle": "2022-04-20T18:46:57.746488Z",
     "shell.execute_reply": "2022-04-20T18:46:57.745751Z",
     "shell.execute_reply.started": "2022-04-20T18:46:50.430672Z"
    },
    "hidden": true,
    "trusted": true
   },
   "outputs": [],
   "source": [
    "from torch.utils.data import DataLoader\n",
    "import warnings,transformers,logging,torch\n",
    "from transformers import TrainingArguments,Trainer\n",
    "from transformers import AutoModelForSequenceClassification,AutoTokenizer"
   ]
  },
  {
   "cell_type": "code",
   "execution_count": 16,
   "metadata": {
    "execution": {
     "iopub.execute_input": "2022-04-20T18:46:57.749621Z",
     "iopub.status.busy": "2022-04-20T18:46:57.748956Z",
     "iopub.status.idle": "2022-04-20T18:47:07.03975Z",
     "shell.execute_reply": "2022-04-20T18:47:07.038771Z",
     "shell.execute_reply.started": "2022-04-20T18:46:57.749578Z"
    },
    "hidden": true,
    "trusted": true
   },
   "outputs": [],
   "source": [
    "if iskaggle:\n",
    "    !pip install -q datasets\n",
    "import datasets\n",
    "from datasets import load_dataset, Dataset, DatasetDict"
   ]
  },
  {
   "cell_type": "markdown",
   "metadata": {
    "hidden": true
   },
   "source": [
    "HuggingFace Transformers tends to be rather enthusiastic about spitting out lots of warnings, so let's quieten it down for our sanity:"
   ]
  },
  {
   "cell_type": "code",
   "execution_count": 17,
   "metadata": {
    "execution": {
     "iopub.execute_input": "2022-04-20T18:47:07.041896Z",
     "iopub.status.busy": "2022-04-20T18:47:07.041591Z",
     "iopub.status.idle": "2022-04-20T18:47:07.050908Z",
     "shell.execute_reply": "2022-04-20T18:47:07.050014Z",
     "shell.execute_reply.started": "2022-04-20T18:47:07.041859Z"
    },
    "hidden": true,
    "trusted": true
   },
   "outputs": [],
   "source": [
    "warnings.simplefilter('ignore')\n",
    "logging.disable(logging.WARNING)"
   ]
  },
  {
   "cell_type": "markdown",
   "metadata": {
    "hidden": true
   },
   "source": [
    "I tried to find a model that I could train reasonably at home in under two minutes, but got reasonable accuracy from. I found that deberta-v3-small fits the bill, so let's use it:"
   ]
  },
  {
   "cell_type": "code",
   "execution_count": 18,
   "metadata": {
    "execution": {
     "iopub.execute_input": "2022-04-20T18:47:07.053716Z",
     "iopub.status.busy": "2022-04-20T18:47:07.053033Z",
     "iopub.status.idle": "2022-04-20T18:47:07.059372Z",
     "shell.execute_reply": "2022-04-20T18:47:07.058573Z",
     "shell.execute_reply.started": "2022-04-20T18:47:07.053658Z"
    },
    "hidden": true,
    "trusted": true
   },
   "outputs": [],
   "source": [
    "model_nm = 'microsoft/deberta-v3-small'"
   ]
  },
  {
   "cell_type": "markdown",
   "metadata": {
    "hidden": true
   },
   "source": [
    "We can now create a tokenizer for this model. Note that pretrained models assume that text is tokenized in a particular way. In order to ensure that your tokenizer matches your model, use the `AutoTokenizer`, passing in your model name."
   ]
  },
  {
   "cell_type": "code",
   "execution_count": 19,
   "metadata": {
    "execution": {
     "iopub.execute_input": "2022-04-20T18:47:07.061862Z",
     "iopub.status.busy": "2022-04-20T18:47:07.061198Z",
     "iopub.status.idle": "2022-04-20T18:47:14.62168Z",
     "shell.execute_reply": "2022-04-20T18:47:14.620923Z",
     "shell.execute_reply.started": "2022-04-20T18:47:07.06182Z"
    },
    "hidden": true,
    "trusted": true
   },
   "outputs": [],
   "source": [
    "tokz = AutoTokenizer.from_pretrained(model_nm)"
   ]
  },
  {
   "cell_type": "markdown",
   "metadata": {
    "hidden": true
   },
   "source": [
    "We'll need to combine the context, anchor, and target together somehow. There's not much research as to the best way to do this, so we may need to iterate a bit. To start with, we'll just combine them all into a single string. The model will need to know where each section starts, so we can use the special separator token to tell it:"
   ]
  },
  {
   "cell_type": "code",
   "execution_count": 20,
   "metadata": {
    "execution": {
     "iopub.execute_input": "2022-04-20T18:47:14.623336Z",
     "iopub.status.busy": "2022-04-20T18:47:14.623072Z",
     "iopub.status.idle": "2022-04-20T18:47:14.629563Z",
     "shell.execute_reply": "2022-04-20T18:47:14.628819Z",
     "shell.execute_reply.started": "2022-04-20T18:47:14.623301Z"
    },
    "hidden": true,
    "trusted": true
   },
   "outputs": [
    {
     "data": {
      "text/plain": [
       "'[SEP]'"
      ]
     },
     "execution_count": 20,
     "metadata": {},
     "output_type": "execute_result"
    }
   ],
   "source": [
    "sep = tokz.sep_token\n",
    "sep"
   ]
  },
  {
   "cell_type": "markdown",
   "metadata": {
    "hidden": true
   },
   "source": [
    "Let's now created our combined column:"
   ]
  },
  {
   "cell_type": "code",
   "execution_count": 21,
   "metadata": {
    "execution": {
     "iopub.execute_input": "2022-04-20T18:47:14.631656Z",
     "iopub.status.busy": "2022-04-20T18:47:14.630753Z",
     "iopub.status.idle": "2022-04-20T18:47:14.659935Z",
     "shell.execute_reply": "2022-04-20T18:47:14.659164Z",
     "shell.execute_reply.started": "2022-04-20T18:47:14.631622Z"
    },
    "hidden": true,
    "trusted": true
   },
   "outputs": [],
   "source": [
    "df['inputs'] = df.context + sep + df.anchor + sep + df.target"
   ]
  },
  {
   "cell_type": "markdown",
   "metadata": {
    "hidden": true
   },
   "source": [
    "Generally we'll get best performance if we convert pandas DataFrames into HuggingFace Datasets, so we'll convert them over, and also rename the score column to what Transformers expects for the dependent variable, which is `label`:"
   ]
  },
  {
   "cell_type": "code",
   "execution_count": 22,
   "metadata": {
    "execution": {
     "iopub.execute_input": "2022-04-20T18:47:14.663898Z",
     "iopub.status.busy": "2022-04-20T18:47:14.663658Z",
     "iopub.status.idle": "2022-04-20T18:47:14.930885Z",
     "shell.execute_reply": "2022-04-20T18:47:14.930142Z",
     "shell.execute_reply.started": "2022-04-20T18:47:14.663871Z"
    },
    "hidden": true,
    "trusted": true
   },
   "outputs": [],
   "source": [
    "ds = Dataset.from_pandas(df).rename_column('score', 'label')\n",
    "eval_ds = Dataset.from_pandas(eval_df)"
   ]
  },
  {
   "cell_type": "markdown",
   "metadata": {
    "hidden": true
   },
   "source": [
    "To tokenize the data, we'll create a function (since that's what `Dataset.map` will need):"
   ]
  },
  {
   "cell_type": "code",
   "execution_count": 24,
   "metadata": {
    "execution": {
     "iopub.execute_input": "2022-04-20T18:47:14.932356Z",
     "iopub.status.busy": "2022-04-20T18:47:14.932088Z",
     "iopub.status.idle": "2022-04-20T18:47:14.937768Z",
     "shell.execute_reply": "2022-04-20T18:47:14.936893Z",
     "shell.execute_reply.started": "2022-04-20T18:47:14.93232Z"
    },
    "hidden": true,
    "trusted": true
   },
   "outputs": [],
   "source": [
    "def tok_func(x): return tokz(x[\"inputs\"])"
   ]
  },
  {
   "cell_type": "markdown",
   "metadata": {
    "hidden": true
   },
   "source": [
    "Let's try tokenizing one input and see how it looks"
   ]
  },
  {
   "cell_type": "code",
   "execution_count": 25,
   "metadata": {
    "execution": {
     "iopub.execute_input": "2022-04-20T18:47:14.94012Z",
     "iopub.status.busy": "2022-04-20T18:47:14.9395Z",
     "iopub.status.idle": "2022-04-20T18:47:14.948855Z",
     "shell.execute_reply": "2022-04-20T18:47:14.947933Z",
     "shell.execute_reply.started": "2022-04-20T18:47:14.940059Z"
    },
    "hidden": true,
    "trusted": true
   },
   "outputs": [
    {
     "data": {
      "text/plain": [
       "{'input_ids': [1, 336, 5753, 2, 47284, 2, 47284, 265, 6435, 2], 'token_type_ids': [0, 0, 0, 0, 0, 0, 0, 0, 0, 0], 'attention_mask': [1, 1, 1, 1, 1, 1, 1, 1, 1, 1]}"
      ]
     },
     "execution_count": 25,
     "metadata": {},
     "output_type": "execute_result"
    }
   ],
   "source": [
    "tok_func(ds[0])"
   ]
  },
  {
   "cell_type": "markdown",
   "metadata": {
    "hidden": true
   },
   "source": [
    "The only bit we care about at the moment is `input_ids`. We can see in the tokens that it starts with a special token `1` (which represents the start of text), and then has our three fields separated by the separator token `2`. We can check the indices of the special token IDs like so:"
   ]
  },
  {
   "cell_type": "code",
   "execution_count": 26,
   "metadata": {
    "execution": {
     "iopub.execute_input": "2022-04-20T18:47:14.951091Z",
     "iopub.status.busy": "2022-04-20T18:47:14.95066Z",
     "iopub.status.idle": "2022-04-20T18:47:14.958787Z",
     "shell.execute_reply": "2022-04-20T18:47:14.958102Z",
     "shell.execute_reply.started": "2022-04-20T18:47:14.951052Z"
    },
    "hidden": true,
    "trusted": true
   },
   "outputs": [
    {
     "data": {
      "text/plain": [
       "['[CLS]', '[SEP]', '[UNK]', '[PAD]', '[MASK]']"
      ]
     },
     "execution_count": 26,
     "metadata": {},
     "output_type": "execute_result"
    }
   ],
   "source": [
    "tokz.all_special_tokens"
   ]
  },
  {
   "cell_type": "markdown",
   "metadata": {
    "hidden": true
   },
   "source": [
    "We can now tokenize the input. We'll use batching to speed it up, and remove the columns we no longer need:"
   ]
  },
  {
   "cell_type": "code",
   "execution_count": 27,
   "metadata": {
    "execution": {
     "iopub.execute_input": "2022-04-20T18:47:14.960882Z",
     "iopub.status.busy": "2022-04-20T18:47:14.960537Z",
     "iopub.status.idle": "2022-04-20T18:47:21.816439Z",
     "shell.execute_reply": "2022-04-20T18:47:21.815542Z",
     "shell.execute_reply.started": "2022-04-20T18:47:14.960846Z"
    },
    "hidden": true,
    "trusted": true
   },
   "outputs": [
    {
     "data": {
      "application/vnd.jupyter.widget-view+json": {
       "model_id": "af55cf7e3c384836bdca87648890dc4f",
       "version_major": 2,
       "version_minor": 0
      },
      "text/plain": [
       "Map:   0%|          | 0/36473 [00:00<?, ? examples/s]"
      ]
     },
     "metadata": {},
     "output_type": "display_data"
    }
   ],
   "source": [
    "inps = \"anchor\",\"target\",\"context\"\n",
    "tok_ds = ds.map(tok_func, batched=True, remove_columns=inps+('inputs','id','section'))"
   ]
  },
  {
   "cell_type": "markdown",
   "metadata": {
    "hidden": true
   },
   "source": [
    "Looking at the first item of the dataset we should see the same information as when we checked `tok_func` above:"
   ]
  },
  {
   "cell_type": "code",
   "execution_count": 28,
   "metadata": {
    "execution": {
     "iopub.execute_input": "2022-04-20T18:47:21.821993Z",
     "iopub.status.busy": "2022-04-20T18:47:21.821662Z",
     "iopub.status.idle": "2022-04-20T18:47:21.830103Z",
     "shell.execute_reply": "2022-04-20T18:47:21.829105Z",
     "shell.execute_reply.started": "2022-04-20T18:47:21.821952Z"
    },
    "hidden": true,
    "trusted": true
   },
   "outputs": [
    {
     "data": {
      "text/plain": [
       "{'label': 0.5,\n",
       " 'input_ids': [1, 336, 5753, 2, 47284, 2, 47284, 265, 6435, 2],\n",
       " 'token_type_ids': [0, 0, 0, 0, 0, 0, 0, 0, 0, 0],\n",
       " 'attention_mask': [1, 1, 1, 1, 1, 1, 1, 1, 1, 1]}"
      ]
     },
     "execution_count": 28,
     "metadata": {},
     "output_type": "execute_result"
    }
   ],
   "source": [
    "tok_ds[0]"
   ]
  },
  {
   "cell_type": "markdown",
   "metadata": {
    "heading_collapsed": true
   },
   "source": [
    "## Creating a validation set"
   ]
  },
  {
   "cell_type": "markdown",
   "metadata": {
    "hidden": true
   },
   "source": [
    "According to [this post](https://www.kaggle.com/competitions/us-patent-phrase-to-phrase-matching/discussion/315220), the private test anchors do not overlap with the training set. So let's do the same thing for our validation set.\n",
    "\n",
    "First, create a randomly shuffled list of anchors:"
   ]
  },
  {
   "cell_type": "code",
   "execution_count": 32,
   "metadata": {
    "execution": {
     "iopub.execute_input": "2022-04-20T18:47:21.832504Z",
     "iopub.status.busy": "2022-04-20T18:47:21.83193Z",
     "iopub.status.idle": "2022-04-20T18:47:21.843939Z",
     "shell.execute_reply": "2022-04-20T18:47:21.843091Z",
     "shell.execute_reply.started": "2022-04-20T18:47:21.83246Z"
    },
    "hidden": true,
    "trusted": true
   },
   "outputs": [
    {
     "data": {
      "text/plain": [
       "array(['time digital signal', 'antiatherosclerotic', 'filled interior',\n",
       "       'dispersed powder', 'locking formation'], dtype=object)"
      ]
     },
     "execution_count": 32,
     "metadata": {},
     "output_type": "execute_result"
    }
   ],
   "source": [
    "anchors = df.anchor.unique()\n",
    "np.random.seed(42)\n",
    "np.random.shuffle(anchors)\n",
    "anchors[:5]"
   ]
  },
  {
   "cell_type": "markdown",
   "metadata": {
    "hidden": true
   },
   "source": [
    "Now we can pick some proportion (e.g 25%) of these anchors to go in the validation set:"
   ]
  },
  {
   "cell_type": "code",
   "execution_count": 33,
   "metadata": {
    "execution": {
     "iopub.execute_input": "2022-04-20T18:47:21.845887Z",
     "iopub.status.busy": "2022-04-20T18:47:21.845547Z",
     "iopub.status.idle": "2022-04-20T18:47:21.850296Z",
     "shell.execute_reply": "2022-04-20T18:47:21.849224Z",
     "shell.execute_reply.started": "2022-04-20T18:47:21.845845Z"
    },
    "hidden": true,
    "trusted": true
   },
   "outputs": [],
   "source": [
    "val_prop = 0.25\n",
    "val_sz = int(len(anchors)*val_prop)\n",
    "val_anchors = anchors[:val_sz]"
   ]
  },
  {
   "cell_type": "markdown",
   "metadata": {
    "hidden": true
   },
   "source": [
    "Now we can get a list of which rows match `val_anchors`, and get their indices:"
   ]
  },
  {
   "cell_type": "code",
   "execution_count": 34,
   "metadata": {
    "execution": {
     "iopub.execute_input": "2022-04-20T18:47:21.852407Z",
     "iopub.status.busy": "2022-04-20T18:47:21.852064Z",
     "iopub.status.idle": "2022-04-20T18:47:22.061679Z",
     "shell.execute_reply": "2022-04-20T18:47:22.060884Z",
     "shell.execute_reply.started": "2022-04-20T18:47:21.852371Z"
    },
    "hidden": true,
    "trusted": true
   },
   "outputs": [
    {
     "data": {
      "text/plain": [
       "(9116, 27357)"
      ]
     },
     "execution_count": 34,
     "metadata": {},
     "output_type": "execute_result"
    }
   ],
   "source": [
    "is_val = np.isin(df.anchor, val_anchors)\n",
    "idxs = np.arange(len(df))\n",
    "val_idxs = idxs[ is_val]\n",
    "trn_idxs = idxs[~is_val]\n",
    "len(val_idxs),len(trn_idxs)"
   ]
  },
  {
   "cell_type": "markdown",
   "metadata": {
    "hidden": true
   },
   "source": [
    "Our training and validation `Dataset`s can now be selected, and put into a `DatasetDict` ready for training:"
   ]
  },
  {
   "cell_type": "code",
   "execution_count": 35,
   "metadata": {
    "execution": {
     "iopub.execute_input": "2022-04-20T18:47:22.06324Z",
     "iopub.status.busy": "2022-04-20T18:47:22.062967Z",
     "iopub.status.idle": "2022-04-20T18:47:22.085388Z",
     "shell.execute_reply": "2022-04-20T18:47:22.084686Z",
     "shell.execute_reply.started": "2022-04-20T18:47:22.063211Z"
    },
    "hidden": true,
    "trusted": true
   },
   "outputs": [],
   "source": [
    "dds = DatasetDict({\"train\":tok_ds.select(trn_idxs),\n",
    "             \"test\": tok_ds.select(val_idxs)})"
   ]
  },
  {
   "cell_type": "markdown",
   "metadata": {
    "hidden": true
   },
   "source": [
    "BTW, a lot of people do more complex stuff for creating their validation set, but with a dataset this large there's not much point. As you can see, the mean scores in the two groups are very similar despite just doing a random shuffle:"
   ]
  },
  {
   "cell_type": "code",
   "execution_count": 37,
   "metadata": {
    "execution": {
     "iopub.execute_input": "2022-04-20T18:47:22.086967Z",
     "iopub.status.busy": "2022-04-20T18:47:22.086715Z",
     "iopub.status.idle": "2022-04-20T18:47:22.105427Z",
     "shell.execute_reply": "2022-04-20T18:47:22.104655Z",
     "shell.execute_reply.started": "2022-04-20T18:47:22.086933Z"
    },
    "hidden": true,
    "trusted": true
   },
   "outputs": [
    {
     "data": {
      "text/plain": [
       "(np.float64(0.3623021530138539), np.float64(0.3613426941641071))"
      ]
     },
     "execution_count": 37,
     "metadata": {},
     "output_type": "execute_result"
    }
   ],
   "source": [
    "df.iloc[trn_idxs].score.mean(),df.iloc[val_idxs].score.mean()"
   ]
  },
  {
   "cell_type": "markdown",
   "metadata": {
    "heading_collapsed": true
   },
   "source": [
    "## Initial model"
   ]
  },
  {
   "cell_type": "markdown",
   "metadata": {
    "hidden": true
   },
   "source": [
    "Let's now train our model! We'll need to specify a metric, which is the correlation coefficient provided by numpy (we need to return a dictionary since that's how Transformers knows what label to use):"
   ]
  },
  {
   "cell_type": "code",
   "execution_count": 38,
   "metadata": {
    "execution": {
     "iopub.execute_input": "2022-04-20T18:47:22.10845Z",
     "iopub.status.busy": "2022-04-20T18:47:22.107753Z",
     "iopub.status.idle": "2022-04-20T18:47:22.113066Z",
     "shell.execute_reply": "2022-04-20T18:47:22.112354Z",
     "shell.execute_reply.started": "2022-04-20T18:47:22.108412Z"
    },
    "hidden": true,
    "trusted": true
   },
   "outputs": [],
   "source": [
    "def corr(eval_pred): return {'pearson': np.corrcoef(*eval_pred)[0][1]}"
   ]
  },
  {
   "cell_type": "markdown",
   "metadata": {
    "hidden": true
   },
   "source": [
    "We pick a learning rate and batch size that fits our GPU, and pick a reasonable weight decay and small number of epochs:"
   ]
  },
  {
   "cell_type": "code",
   "execution_count": 39,
   "metadata": {
    "execution": {
     "iopub.execute_input": "2022-04-20T18:47:22.114479Z",
     "iopub.status.busy": "2022-04-20T18:47:22.11422Z",
     "iopub.status.idle": "2022-04-20T18:47:22.122924Z",
     "shell.execute_reply": "2022-04-20T18:47:22.122065Z",
     "shell.execute_reply.started": "2022-04-20T18:47:22.114437Z"
    },
    "hidden": true,
    "trusted": true
   },
   "outputs": [],
   "source": [
    "lr,bs = 8e-5,128\n",
    "wd,epochs = 0.01,4"
   ]
  },
  {
   "cell_type": "markdown",
   "metadata": {
    "hidden": true
   },
   "source": [
    "Three epochs might not sound like much, but you'll see once we train that most of the progress can be made in that time, so this is good for experimentation.\n",
    "\n",
    "Transformers uses the `TrainingArguments` class to set up arguments. We'll use a cosine scheduler with warmup, since at fast.ai we've found that's pretty reliable. We'll use fp16 since it's much faster on modern GPUs, and saves some memory. We evaluate using double-sized batches, since no gradients are stored so we can do twice as many rows at a time."
   ]
  },
  {
   "cell_type": "code",
   "execution_count": 40,
   "metadata": {
    "execution": {
     "iopub.execute_input": "2022-04-20T18:47:22.124918Z",
     "iopub.status.busy": "2022-04-20T18:47:22.124207Z",
     "iopub.status.idle": "2022-04-20T18:47:22.132907Z",
     "shell.execute_reply": "2022-04-20T18:47:22.131963Z",
     "shell.execute_reply.started": "2022-04-20T18:47:22.12488Z"
    },
    "hidden": true,
    "trusted": true
   },
   "outputs": [],
   "source": [
    "def get_trainer(dds):\n",
    "    args = TrainingArguments('outputs', learning_rate=lr, warmup_ratio=0.1, lr_scheduler_type='cosine', fp16=True,\n",
    "        evaluation_strategy=\"epoch\", per_device_train_batch_size=bs, per_device_eval_batch_size=bs*2,\n",
    "        num_train_epochs=epochs, weight_decay=wd, report_to='none')\n",
    "    model = AutoModelForSequenceClassification.from_pretrained(model_nm, num_labels=1)\n",
    "    return Trainer(model, args, train_dataset=dds['train'], eval_dataset=dds['test'],\n",
    "                   tokenizer=tokz, compute_metrics=corr)"
   ]
  },
  {
   "cell_type": "code",
   "execution_count": 41,
   "metadata": {
    "execution": {
     "iopub.execute_input": "2022-04-20T18:47:22.135049Z",
     "iopub.status.busy": "2022-04-20T18:47:22.134453Z",
     "iopub.status.idle": "2022-04-20T18:47:22.202953Z",
     "shell.execute_reply": "2022-04-20T18:47:22.202166Z",
     "shell.execute_reply.started": "2022-04-20T18:47:22.134979Z"
    },
    "hidden": true,
    "trusted": true
   },
   "outputs": [],
   "source": [
    "args = TrainingArguments('outputs', learning_rate=lr, warmup_ratio=0.1, lr_scheduler_type='cosine', fp16=True,\n",
    "    evaluation_strategy=\"epoch\", per_device_train_batch_size=bs, per_device_eval_batch_size=bs*2,\n",
    "    num_train_epochs=epochs, weight_decay=wd, report_to='none')"
   ]
  },
  {
   "cell_type": "markdown",
   "metadata": {
    "hidden": true
   },
   "source": [
    "We can now create our model, and `Trainer`, which is a class which combines the data and model together (just like `Learner` in fastai):"
   ]
  },
  {
   "cell_type": "code",
   "execution_count": 42,
   "metadata": {
    "execution": {
     "iopub.execute_input": "2022-04-20T18:47:22.204911Z",
     "iopub.status.busy": "2022-04-20T18:47:22.204458Z",
     "iopub.status.idle": "2022-04-20T18:47:43.410149Z",
     "shell.execute_reply": "2022-04-20T18:47:43.409397Z",
     "shell.execute_reply.started": "2022-04-20T18:47:22.204868Z"
    },
    "hidden": true,
    "trusted": true
   },
   "outputs": [],
   "source": [
    "model = AutoModelForSequenceClassification.from_pretrained(model_nm, num_labels=1)\n",
    "trainer = Trainer(model, args, train_dataset=dds['train'], eval_dataset=dds['test'],\n",
    "               tokenizer=tokz, compute_metrics=corr)"
   ]
  },
  {
   "cell_type": "markdown",
   "metadata": {
    "hidden": true
   },
   "source": [
    "Let's train our model!"
   ]
  },
  {
   "cell_type": "code",
   "execution_count": 43,
   "metadata": {
    "execution": {
     "iopub.execute_input": "2022-04-20T18:47:43.411807Z",
     "iopub.status.busy": "2022-04-20T18:47:43.41156Z",
     "iopub.status.idle": "2022-04-20T18:52:07.511673Z",
     "shell.execute_reply": "2022-04-20T18:52:07.510666Z",
     "shell.execute_reply.started": "2022-04-20T18:47:43.411773Z"
    },
    "hidden": true,
    "trusted": true
   },
   "outputs": [
    {
     "data": {
      "text/html": [
       "\n",
       "    <div>\n",
       "      \n",
       "      <progress value='856' max='856' style='width:300px; height:20px; vertical-align: middle;'></progress>\n",
       "      [856/856 03:39, Epoch 4/4]\n",
       "    </div>\n",
       "    <table border=\"1\" class=\"dataframe\">\n",
       "  <thead>\n",
       " <tr style=\"text-align: left;\">\n",
       "      <th>Epoch</th>\n",
       "      <th>Training Loss</th>\n",
       "      <th>Validation Loss</th>\n",
       "      <th>Pearson</th>\n",
       "    </tr>\n",
       "  </thead>\n",
       "  <tbody>\n",
       "    <tr>\n",
       "      <td>1</td>\n",
       "      <td>No log</td>\n",
       "      <td>0.028152</td>\n",
       "      <td>0.785130</td>\n",
       "    </tr>\n",
       "    <tr>\n",
       "      <td>2</td>\n",
       "      <td>No log</td>\n",
       "      <td>0.024859</td>\n",
       "      <td>0.807601</td>\n",
       "    </tr>\n",
       "    <tr>\n",
       "      <td>3</td>\n",
       "      <td>0.036100</td>\n",
       "      <td>0.025810</td>\n",
       "      <td>0.810571</td>\n",
       "    </tr>\n",
       "    <tr>\n",
       "      <td>4</td>\n",
       "      <td>0.036100</td>\n",
       "      <td>0.025234</td>\n",
       "      <td>0.811680</td>\n",
       "    </tr>\n",
       "  </tbody>\n",
       "</table><p>"
      ],
      "text/plain": [
       "<IPython.core.display.HTML object>"
      ]
     },
     "metadata": {},
     "output_type": "display_data"
    },
    {
     "data": {
      "text/plain": [
       "TrainOutput(global_step=856, training_loss=0.02674760996738327, metrics={'train_runtime': 220.0063, 'train_samples_per_second': 497.386, 'train_steps_per_second': 3.891, 'total_flos': 468342161238420.0, 'train_loss': 0.02674760996738327, 'epoch': 4.0})"
      ]
     },
     "execution_count": 43,
     "metadata": {},
     "output_type": "execute_result"
    }
   ],
   "source": [
    "trainer.train()"
   ]
  },
  {
   "cell_type": "markdown",
   "metadata": {},
   "source": [
    "## Improving the model"
   ]
  },
  {
   "cell_type": "markdown",
   "metadata": {},
   "source": [
    "We now want to start iterating to improve this. To do that, we need to know whether the model gives stable results. I tried training it 3 times from scratch, and got a range of outcomes from 0.808-0.810. This is stable enough to make a start - if we're not finding improvements that are visible within this range, then they're not very significant! Later on, if and when we feel confident that we've got the basics right, we can use cross validation and more epochs of training.\n",
    "\n",
    "Iteration speed is critical, so we need to quickly be able to try different data processing and trainer parameters. So let's create a function to quickly apply tokenization and create our `DatasetDict`:"
   ]
  },
  {
   "cell_type": "code",
   "execution_count": 44,
   "metadata": {
    "execution": {
     "iopub.execute_input": "2022-04-20T18:52:07.513602Z",
     "iopub.status.busy": "2022-04-20T18:52:07.513288Z",
     "iopub.status.idle": "2022-04-20T18:52:07.520202Z",
     "shell.execute_reply": "2022-04-20T18:52:07.519072Z",
     "shell.execute_reply.started": "2022-04-20T18:52:07.51356Z"
    },
    "trusted": true
   },
   "outputs": [],
   "source": [
    "def get_dds(df):\n",
    "    ds = Dataset.from_pandas(df).rename_column('score', 'label')\n",
    "    tok_ds = ds.map(tok_func, batched=True, remove_columns=inps+('inputs','id','section'))\n",
    "    return DatasetDict({\"train\":tok_ds.select(trn_idxs), \"test\": tok_ds.select(val_idxs)})"
   ]
  },
  {
   "cell_type": "markdown",
   "metadata": {},
   "source": [
    "...and also a function to create a `Trainer`:"
   ]
  },
  {
   "cell_type": "code",
   "execution_count": 46,
   "metadata": {
    "execution": {
     "iopub.execute_input": "2022-04-20T18:52:07.522323Z",
     "iopub.status.busy": "2022-04-20T18:52:07.521749Z",
     "iopub.status.idle": "2022-04-20T18:52:07.531826Z",
     "shell.execute_reply": "2022-04-20T18:52:07.530942Z",
     "shell.execute_reply.started": "2022-04-20T18:52:07.522276Z"
    },
    "trusted": true
   },
   "outputs": [],
   "source": [
    "def get_model(): return AutoModelForSequenceClassification.from_pretrained(model_nm, num_labels=1)\n",
    "\n",
    "def get_trainer(dds, model=None):\n",
    "    if model is None: model = get_model()\n",
    "    args = TrainingArguments('outputs', learning_rate=lr, warmup_ratio=0.1, lr_scheduler_type='cosine', fp16=True,\n",
    "        evaluation_strategy=\"epoch\", per_device_train_batch_size=bs, per_device_eval_batch_size=bs*2,\n",
    "        num_train_epochs=epochs, weight_decay=wd, report_to='none')\n",
    "    return Trainer(model, args, train_dataset=dds['train'], eval_dataset=dds['test'],\n",
    "                   tokenizer=tokz, compute_metrics=corr)"
   ]
  },
  {
   "cell_type": "markdown",
   "metadata": {},
   "source": [
    "Let's now try out some ideas...\n",
    "\n",
    "Perhaps using the special separator character isn't a good idea, and we should use something we create instead. Let's see if that makes things better. First we'll change the separator and create the `DatasetDict`:"
   ]
  },
  {
   "cell_type": "code",
   "execution_count": 51,
   "metadata": {
    "execution": {
     "iopub.execute_input": "2022-04-20T18:56:47.886388Z",
     "iopub.status.busy": "2022-04-20T18:56:47.886069Z",
     "iopub.status.idle": "2022-04-20T18:56:55.223931Z",
     "shell.execute_reply": "2022-04-20T18:56:55.223168Z",
     "shell.execute_reply.started": "2022-04-20T18:56:47.88635Z"
    },
    "trusted": true
   },
   "outputs": [
    {
     "data": {
      "application/vnd.jupyter.widget-view+json": {
       "model_id": "8d3efc8de26a4a2eb331faedbde832fb",
       "version_major": 2,
       "version_minor": 0
      },
      "text/plain": [
       "Map:   0%|          | 0/36473 [00:00<?, ? examples/s]"
      ]
     },
     "metadata": {},
     "output_type": "display_data"
    }
   ],
   "source": [
    "sep = \" [s] \"\n",
    "df['inputs'] = df.context + sep + df.anchor + sep + df.target\n",
    "dds = get_dds(df)"
   ]
  },
  {
   "cell_type": "markdown",
   "metadata": {},
   "source": [
    "...and create and train a model. "
   ]
  },
  {
   "cell_type": "code",
   "execution_count": null,
   "metadata": {
    "execution": {
     "iopub.execute_input": "2022-04-20T18:56:55.22593Z",
     "iopub.status.busy": "2022-04-20T18:56:55.225658Z",
     "iopub.status.idle": "2022-04-20T19:01:39.374114Z",
     "shell.execute_reply": "2022-04-20T19:01:39.372069Z",
     "shell.execute_reply.started": "2022-04-20T18:56:55.225892Z"
    },
    "trusted": true
   },
   "outputs": [
    {
     "data": {
      "text/html": [
       "\n",
       "    <div>\n",
       "      \n",
       "      <progress value='856' max='856' style='width:300px; height:20px; vertical-align: middle;'></progress>\n",
       "      [856/856 55:28, Epoch 4/4]\n",
       "    </div>\n",
       "    <table border=\"1\" class=\"dataframe\">\n",
       "  <thead>\n",
       " <tr style=\"text-align: left;\">\n",
       "      <th>Epoch</th>\n",
       "      <th>Training Loss</th>\n",
       "      <th>Validation Loss</th>\n",
       "      <th>Pearson</th>\n",
       "    </tr>\n",
       "  </thead>\n",
       "  <tbody>\n",
       "    <tr>\n",
       "      <td>1</td>\n",
       "      <td>No log</td>\n",
       "      <td>0.029613</td>\n",
       "      <td>0.796225</td>\n",
       "    </tr>\n",
       "    <tr>\n",
       "      <td>2</td>\n",
       "      <td>No log</td>\n",
       "      <td>0.023624</td>\n",
       "      <td>0.813204</td>\n",
       "    </tr>\n",
       "    <tr>\n",
       "      <td>3</td>\n",
       "      <td>0.030500</td>\n",
       "      <td>0.024508</td>\n",
       "      <td>0.814931</td>\n",
       "    </tr>\n",
       "    <tr>\n",
       "      <td>4</td>\n",
       "      <td>0.030500</td>\n",
       "      <td>0.024307</td>\n",
       "      <td>0.817065</td>\n",
       "    </tr>\n",
       "  </tbody>\n",
       "</table><p>"
      ],
      "text/plain": [
       "<IPython.core.display.HTML object>"
      ]
     },
     "metadata": {},
     "output_type": "display_data"
    },
    {
     "data": {
      "text/plain": [
       "TrainOutput(global_step=856, training_loss=0.02312340803235491, metrics={'train_runtime': 3330.4833, 'train_samples_per_second': 32.856, 'train_steps_per_second': 0.257, 'total_flos': 581591382621300.0, 'train_loss': 0.02312340803235491, 'epoch': 4.0})"
      ]
     },
     "execution_count": 52,
     "metadata": {},
     "output_type": "execute_result"
    },
    {
     "ename": "",
     "evalue": "",
     "output_type": "error",
     "traceback": [
      "\u001b[1;31mThe Kernel crashed while executing code in the current cell or a previous cell. \n",
      "\u001b[1;31mPlease review the code in the cell(s) to identify a possible cause of the failure. \n",
      "\u001b[1;31mClick <a href='https://aka.ms/vscodeJupyterKernelCrash'>here</a> for more info. \n",
      "\u001b[1;31mView Jupyter <a href='command:jupyter.viewOutput'>log</a> for further details."
     ]
    }
   ],
   "source": [
    "get_trainer(dds).train()"
   ]
  },
  {
   "cell_type": "markdown",
   "metadata": {},
   "source": [
    "That's looking quite a bit better, so we'll keep that change.\n",
    "\n",
    "Often changing to lowercase is helpful. Let's see if that helps too:"
   ]
  },
  {
   "cell_type": "code",
   "execution_count": null,
   "metadata": {
    "execution": {
     "iopub.execute_input": "2022-04-20T19:01:39.376053Z",
     "iopub.status.busy": "2022-04-20T19:01:39.375599Z",
     "iopub.status.idle": "2022-04-20T19:06:34.190059Z",
     "shell.execute_reply": "2022-04-20T19:06:34.188972Z",
     "shell.execute_reply.started": "2022-04-20T19:01:39.375999Z"
    },
    "trusted": true
   },
   "outputs": [],
   "source": [
    "df['inputs'] = df.inputs.str.lower()\n",
    "dds = get_dds(df)\n",
    "get_trainer(dds).train()"
   ]
  },
  {
   "cell_type": "markdown",
   "metadata": {},
   "source": [
    "That one is less clear. We'll keep that change too since most times I run it, it's a little better."
   ]
  },
  {
   "cell_type": "markdown",
   "metadata": {},
   "source": [
    "## Special tokens"
   ]
  },
  {
   "cell_type": "markdown",
   "metadata": {},
   "source": [
    "What if we made the patent section a special token? Then potentially the model might learn to recognize that different sections need to be handled in different ways. To do that, we'll use, e.g. `[A]` for section A. We'll then add those as special tokens:"
   ]
  },
  {
   "cell_type": "code",
   "execution_count": null,
   "metadata": {
    "execution": {
     "iopub.execute_input": "2022-04-20T19:06:34.192422Z",
     "iopub.status.busy": "2022-04-20T19:06:34.192158Z",
     "iopub.status.idle": "2022-04-20T19:06:34.219858Z",
     "shell.execute_reply": "2022-04-20T19:06:34.219043Z",
     "shell.execute_reply.started": "2022-04-20T19:06:34.192388Z"
    },
    "trusted": true
   },
   "outputs": [],
   "source": [
    "df['sectok'] = '[' + df.section + ']'\n",
    "sectoks = list(df.sectok.unique())\n",
    "tokz.add_special_tokens({'additional_special_tokens': sectoks})"
   ]
  },
  {
   "cell_type": "markdown",
   "metadata": {},
   "source": [
    "We concatenate the section token to the start of our inputs:"
   ]
  },
  {
   "cell_type": "code",
   "execution_count": null,
   "metadata": {
    "execution": {
     "iopub.execute_input": "2022-04-20T19:06:34.222324Z",
     "iopub.status.busy": "2022-04-20T19:06:34.222042Z",
     "iopub.status.idle": "2022-04-20T19:06:43.881837Z",
     "shell.execute_reply": "2022-04-20T19:06:43.881036Z",
     "shell.execute_reply.started": "2022-04-20T19:06:34.222287Z"
    },
    "trusted": true
   },
   "outputs": [],
   "source": [
    "df['inputs'] = df.sectok + sep + df.context + sep + df.anchor.str.lower() + sep + df.target\n",
    "dds = get_dds(df)"
   ]
  },
  {
   "cell_type": "markdown",
   "metadata": {},
   "source": [
    "Since we've added more tokens, we need to resize the embedding matrix in the model:"
   ]
  },
  {
   "cell_type": "code",
   "execution_count": null,
   "metadata": {
    "execution": {
     "iopub.execute_input": "2022-04-20T19:06:43.885741Z",
     "iopub.status.busy": "2022-04-20T19:06:43.884275Z",
     "iopub.status.idle": "2022-04-20T19:06:48.107453Z",
     "shell.execute_reply": "2022-04-20T19:06:48.106683Z",
     "shell.execute_reply.started": "2022-04-20T19:06:43.885693Z"
    },
    "trusted": true
   },
   "outputs": [],
   "source": [
    "model = get_model()\n",
    "model.resize_token_embeddings(len(tokz))"
   ]
  },
  {
   "cell_type": "markdown",
   "metadata": {},
   "source": [
    "Now we're ready to train:"
   ]
  },
  {
   "cell_type": "code",
   "execution_count": null,
   "metadata": {
    "execution": {
     "iopub.execute_input": "2022-04-20T19:06:48.11649Z",
     "iopub.status.busy": "2022-04-20T19:06:48.11603Z",
     "iopub.status.idle": "2022-04-20T19:11:55.412414Z",
     "shell.execute_reply": "2022-04-20T19:11:55.411583Z",
     "shell.execute_reply.started": "2022-04-20T19:06:48.116453Z"
    },
    "trusted": true
   },
   "outputs": [],
   "source": [
    "trainer = get_trainer(dds, model=model)\n",
    "trainer.train()"
   ]
  },
  {
   "cell_type": "markdown",
   "metadata": {},
   "source": [
    "It looks like we've made another bit of an improvement!\n",
    "\n",
    "There's plenty more things you could try. Here's some thoughts:\n",
    "\n",
    "- Try a model pretrained on legal vocabulary. E.g. how about [BERT for patents](https://huggingface.co/anferico/bert-for-patents)?\n",
    "- You'd likely get better results by using a sentence similarity model. Did you know that there's a [patent similarity model](https://huggingface.co/AI-Growth-Lab/PatentSBERTa) you could try?\n",
    "- You could also fine-tune any HuggingFace model using the full patent database (which is provided in BigQuery), before applying it to this dataset\n",
    "- Replace the patent context field with the description of that context provided by the patent office\n",
    "- ...and try out your own ideas too!\n",
    "\n",
    "Before submitting a model, retrain it on the full dataset, rather than just the 75% training subset we've used here. Create a function like the ones above to make that easy for you!\""
   ]
  },
  {
   "cell_type": "markdown",
   "metadata": {},
   "source": [
    "## Cross-validation"
   ]
  },
  {
   "cell_type": "code",
   "execution_count": null,
   "metadata": {
    "execution": {
     "iopub.execute_input": "2022-04-20T19:11:55.414619Z",
     "iopub.status.busy": "2022-04-20T19:11:55.414368Z",
     "iopub.status.idle": "2022-04-20T19:11:55.419282Z",
     "shell.execute_reply": "2022-04-20T19:11:55.418379Z",
     "shell.execute_reply.started": "2022-04-20T19:11:55.414585Z"
    },
    "trusted": true
   },
   "outputs": [],
   "source": [
    "n_folds = 4"
   ]
  },
  {
   "cell_type": "markdown",
   "metadata": {},
   "source": [
    "Once you've gotten the low hanging fruit, you might want to use cross-validation to see the impact of minor changes. This time we'll use [StratifiedGroupKFold](https://scikit-learn.org/stable/modules/generated/sklearn.model_selection.StratifiedGroupKFold.html#sklearn.model_selection.StratifiedGroupKFold), partly just to show a different approach to before, and partly because it will give us slightly better balanced datasets."
   ]
  },
  {
   "cell_type": "code",
   "execution_count": null,
   "metadata": {
    "execution": {
     "iopub.execute_input": "2022-04-20T19:11:55.422144Z",
     "iopub.status.busy": "2022-04-20T19:11:55.421034Z",
     "iopub.status.idle": "2022-04-20T19:11:55.446328Z",
     "shell.execute_reply": "2022-04-20T19:11:55.445453Z",
     "shell.execute_reply.started": "2022-04-20T19:11:55.422096Z"
    },
    "trusted": true
   },
   "outputs": [],
   "source": [
    "from sklearn.model_selection import StratifiedGroupKFold\n",
    "cv = StratifiedGroupKFold(n_splits=n_folds)"
   ]
  },
  {
   "cell_type": "markdown",
   "metadata": {},
   "source": [
    "Here's how to split the data frame into `n_folds` groups, with non-overlapping anchors and matched scores, after randomly shuffling the rows:"
   ]
  },
  {
   "cell_type": "code",
   "execution_count": null,
   "metadata": {
    "execution": {
     "iopub.execute_input": "2022-04-20T19:11:55.449756Z",
     "iopub.status.busy": "2022-04-20T19:11:55.448454Z",
     "iopub.status.idle": "2022-04-20T19:11:55.88768Z",
     "shell.execute_reply": "2022-04-20T19:11:55.886743Z",
     "shell.execute_reply.started": "2022-04-20T19:11:55.449715Z"
    },
    "trusted": true
   },
   "outputs": [],
   "source": [
    "df = df.sample(frac=1, random_state=42)\n",
    "scores = (df.score*100).astype(int)\n",
    "folds = list(cv.split(idxs, scores, df.anchor))\n",
    "folds"
   ]
  },
  {
   "cell_type": "markdown",
   "metadata": {},
   "source": [
    "We can now create a little function to split into training and validation sets based on a fold:"
   ]
  },
  {
   "cell_type": "code",
   "execution_count": null,
   "metadata": {
    "execution": {
     "iopub.execute_input": "2022-04-20T19:11:55.889291Z",
     "iopub.status.busy": "2022-04-20T19:11:55.888954Z",
     "iopub.status.idle": "2022-04-20T19:11:55.898445Z",
     "shell.execute_reply": "2022-04-20T19:11:55.897659Z",
     "shell.execute_reply.started": "2022-04-20T19:11:55.889254Z"
    },
    "trusted": true
   },
   "outputs": [],
   "source": [
    "def get_fold(folds, fold_num):\n",
    "    trn,val = folds[fold_num]\n",
    "    return DatasetDict({\"train\":tok_ds.select(trn), \"test\": tok_ds.select(val)})"
   ]
  },
  {
   "cell_type": "markdown",
   "metadata": {},
   "source": [
    "Let's try it out:"
   ]
  },
  {
   "cell_type": "code",
   "execution_count": null,
   "metadata": {
    "execution": {
     "iopub.execute_input": "2022-04-20T19:11:55.900887Z",
     "iopub.status.busy": "2022-04-20T19:11:55.900352Z",
     "iopub.status.idle": "2022-04-20T19:11:55.930108Z",
     "shell.execute_reply": "2022-04-20T19:11:55.92947Z",
     "shell.execute_reply.started": "2022-04-20T19:11:55.90085Z"
    },
    "trusted": true
   },
   "outputs": [],
   "source": [
    "dds = get_fold(folds, 0)\n",
    "dds"
   ]
  },
  {
   "cell_type": "markdown",
   "metadata": {},
   "source": [
    "We can now pass this into `get_trainer` as we did before. If we have, say, 4 folds, then doing that for each fold will give us 4 models, and 4 sets of predictions and metrics. You could ensemble the 4 models to get a stronger model, and can also average the 4 metrics to get a more accurate assessment of your model. Here's how to get the final epoch metrics from a trainer:"
   ]
  },
  {
   "cell_type": "code",
   "execution_count": null,
   "metadata": {
    "execution": {
     "iopub.execute_input": "2022-04-20T19:11:55.932644Z",
     "iopub.status.busy": "2022-04-20T19:11:55.931778Z",
     "iopub.status.idle": "2022-04-20T19:11:55.93954Z",
     "shell.execute_reply": "2022-04-20T19:11:55.938809Z",
     "shell.execute_reply.started": "2022-04-20T19:11:55.932608Z"
    },
    "trusted": true
   },
   "outputs": [],
   "source": [
    "metrics = [o['eval_pearson'] for o in trainer.state.log_history if 'eval_pearson' in o]\n",
    "metrics[-1]"
   ]
  },
  {
   "cell_type": "markdown",
   "metadata": {},
   "source": [
    "I hope you've found this a helpful guide to improving your results in this competition - and on Kaggle more generally! If you like it, please remember to give it an upvote, and don't hesitate to add a comment if you have any questions or thoughts to add. And if the ideas here are helpful to you in creating your models, I'd really appreciate a link back to this notebook or a comment below to let me know what helped."
   ]
  },
  {
   "cell_type": "code",
   "execution_count": null,
   "metadata": {},
   "outputs": [],
   "source": []
  }
 ],
 "metadata": {
  "kernelspec": {
   "display_name": "venv (3.10.12)",
   "language": "python",
   "name": "python3"
  },
  "language_info": {
   "codemirror_mode": {
    "name": "ipython",
    "version": 3
   },
   "file_extension": ".py",
   "mimetype": "text/x-python",
   "name": "python",
   "nbconvert_exporter": "python",
   "pygments_lexer": "ipython3",
   "version": "3.10.12"
  }
 },
 "nbformat": 4,
 "nbformat_minor": 4
}
