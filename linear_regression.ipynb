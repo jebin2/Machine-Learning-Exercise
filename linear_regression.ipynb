{
 "cells": [
  {
   "cell_type": "markdown",
   "id": "734eef0c",
   "metadata": {
    "papermill": {
     "duration": 0.002097,
     "end_time": "2025-03-11T12:01:29.459378",
     "exception": false,
     "start_time": "2025-03-11T12:01:29.457281",
     "status": "completed"
    },
    "tags": []
   },
   "source": [
    "# **Predict House Prices**"
   ]
  },
  {
   "cell_type": "code",
   "execution_count": 1,
   "id": "1bbbf234",
   "metadata": {
    "execution": {
     "iopub.execute_input": "2025-03-11T12:01:29.464745Z",
     "iopub.status.busy": "2025-03-11T12:01:29.464282Z",
     "iopub.status.idle": "2025-03-11T12:01:30.578272Z",
     "shell.execute_reply": "2025-03-11T12:01:30.577108Z"
    },
    "papermill": {
     "duration": 1.11914,
     "end_time": "2025-03-11T12:01:30.580374",
     "exception": false,
     "start_time": "2025-03-11T12:01:29.461234",
     "status": "completed"
    },
    "tags": []
   },
   "outputs": [],
   "source": [
    "import pandas as pd\n",
    "from pandas import read_csv\n",
    "\n",
    "# read_csv('../input/housing.csv')"
   ]
  },
  {
   "cell_type": "markdown",
   "id": "96ec66e3",
   "metadata": {
    "papermill": {
     "duration": 0.001388,
     "end_time": "2025-03-11T12:01:30.583701",
     "exception": false,
     "start_time": "2025-03-11T12:01:30.582313",
     "status": "completed"
    },
    "tags": []
   },
   "source": []
  }
 ],
 "metadata": {
  "kaggle": {
   "accelerator": "none",
   "dataSources": [],
   "dockerImageVersionId": 30918,
   "isGpuEnabled": false,
   "isInternetEnabled": true,
   "language": "python",
   "sourceType": "notebook"
  },
  "kernelspec": {
   "display_name": "Python 3",
   "language": "python",
   "name": "python3"
  },
  "language_info": {
   "codemirror_mode": {
    "name": "ipython",
    "version": 3
   },
   "file_extension": ".py",
   "mimetype": "text/x-python",
   "name": "python",
   "nbconvert_exporter": "python",
   "pygments_lexer": "ipython3",
   "version": "3.10.12"
  },
  "papermill": {
   "default_parameters": {},
   "duration": 4.779676,
   "end_time": "2025-03-11T12:01:31.206888",
   "environment_variables": {},
   "exception": null,
   "input_path": "__notebook__.ipynb",
   "output_path": "__notebook__.ipynb",
   "parameters": {},
   "start_time": "2025-03-11T12:01:26.427212",
   "version": "2.6.0"
  }
 },
 "nbformat": 4,
 "nbformat_minor": 5
}
